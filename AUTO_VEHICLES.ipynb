{
  "cells": [
    {
      "cell_type": "code",
      "execution_count": 1,
      "metadata": {
        "colab": {
          "base_uri": "https://localhost:8080/"
        },
        "id": "eDjgqbyOgiKk",
        "outputId": "0ce2fa0f-1e36-4441-c28a-4edb2c73265b"
      },
      "outputs": [
        {
          "output_type": "stream",
          "name": "stdout",
          "text": [
            "Mounted at /content/drive\n"
          ]
        }
      ],
      "source": [
        "# Mounting Google Drive\n",
        "from google.colab import drive\n",
        "drive.mount('/content/drive')"
      ]
    },
    {
      "cell_type": "code",
      "execution_count": 2,
      "metadata": {
        "id": "yC6OtnWsg5IS"
      },
      "outputs": [],
      "source": [
        "# Setting the current working directory\n",
        "import os; os.chdir('drive/My Drive/project_NN')"
      ]
    },
    {
      "cell_type": "code",
      "execution_count": 3,
      "metadata": {
        "id": "WzWKG3YijNgB"
      },
      "outputs": [],
      "source": [
        "\n",
        "import pandas as pd, numpy as np, matplotlib.pyplot as plt, seaborn as sns, h5py\n",
        "import matplotlib.style as style; style.use('fivethirtyeight')\n",
        "%matplotlib inline"
      ]
    },
    {
      "cell_type": "code",
      "source": [
        "from sklearn.neighbors import KNeighborsClassifier\n",
        "from sklearn.metrics import confusion_matrix, accuracy_score, classification_report"
      ],
      "metadata": {
        "id": "2cMcchiXSv26"
      },
      "execution_count": 22,
      "outputs": []
    },
    {
      "cell_type": "code",
      "execution_count": 4,
      "metadata": {
        "id": "s0XRLXkCg5Lo"
      },
      "outputs": [],
      "source": [
        "\n",
        "from sklearn.metrics import classification_report, accuracy_score, confusion_matrix, precision_score, recall_score, f1_score, precision_recall_curve, auc\n",
        "from sklearn.model_selection import train_test_split\n",
        "from sklearn import preprocessing\n",
        "\n",
        "from tensorflow.keras.layers import Dense, Dropout, BatchNormalization\n",
        "from tensorflow.keras.layers import Activation, Dense\n",
        "from tensorflow.keras.utils import to_categorical\n",
        "from tensorflow.keras.models import Sequential\n",
        "from tensorflow.keras import optimizers\n",
        "\n"
      ]
    },
    {
      "cell_type": "code",
      "execution_count": 5,
      "metadata": {
        "id": "uXU7UsefBtIR"
      },
      "outputs": [],
      "source": [
        "from tensorflow import keras\n",
        "from tensorflow.keras.optimizers import Adam\n",
        "from tensorflow.keras.optimizers import SGD\n",
        "from sklearn.metrics import confusion_matrix, accuracy_score, classification_report\n",
        "import tensorflow as tf\n",
        "from keras.models import Sequential\n",
        "from keras.utils.np_utils import to_categorical\n",
        "from keras.layers import Activation, Dense\n",
        "from keras.layers import BatchNormalization, Dropout\n",
        "from keras import optimizers"
      ]
    },
    {
      "cell_type": "code",
      "execution_count": 6,
      "metadata": {
        "colab": {
          "base_uri": "https://localhost:8080/"
        },
        "id": "DWMOmFRJhP1O",
        "outputId": "2e56c4e0-e9b1-4fb4-d643-3d763718d4e6"
      },
      "outputs": [
        {
          "output_type": "stream",
          "name": "stdout",
          "text": [
            "Autonomous_Vehicles_SVHN_single_grey1.h5\n"
          ]
        }
      ],
      "source": [
        "!ls '/content/drive/My Drive/project_NN'"
      ]
    },
    {
      "cell_type": "code",
      "execution_count": 8,
      "metadata": {
        "id": "p1fTIHDXiwWV",
        "colab": {
          "base_uri": "https://localhost:8080/"
        },
        "outputId": "33e13dc6-1d87-4fa1-8455-249c2687778b"
      },
      "outputs": [
        {
          "output_type": "execute_result",
          "data": {
            "text/plain": [
              "<KeysViewHDF5 ['X_test', 'X_train', 'X_val', 'y_test', 'y_train', 'y_val']>"
            ]
          },
          "metadata": {},
          "execution_count": 8
        }
      ],
      "source": [
        "# Read the h5 file\n",
        "h5_SVH = h5py.File('Autonomous_Vehicles_SVHN_single_grey1.h5', 'r')\n",
        "h5_SVH.keys()"
      ]
    },
    {
      "cell_type": "code",
      "execution_count": 9,
      "metadata": {
        "colab": {
          "base_uri": "https://localhost:8080/"
        },
        "id": "ytWDViAZiqmT",
        "outputId": "154bff02-1126-4581-9677-6a46f2623e60"
      },
      "outputs": [
        {
          "output_type": "stream",
          "name": "stdout",
          "text": [
            "The shape of the training dataset: (42000, 32, 32)\n",
            "The shape of the training (y) dataset: (42000,)\n",
            "The shape of the validation dataset: (60000, 32, 32)\n",
            "The shape of the validation (y) dataset: (60000,)\n",
            "The shape of the test dataset: (18000, 32, 32)\n",
            "The shape of the test (y) dataset: (18000,)\n"
          ]
        }
      ],
      "source": [
        "# Load the training, validation and test sets\n",
        "X_train = h5_SVH['X_train']\n",
        "X_test = h5_SVH['X_test']\n",
        "X_val = h5_SVH['X_val']\n",
        "y_train = h5_SVH['y_train']\n",
        "y_test = h5_SVH['y_test']\n",
        "y_val = h5_SVH['y_val']\n",
        "\n",
        "# Close this file\n",
        "\n",
        "#h5_SVH.close()\n",
        "\n",
        "print('The shape of the training dataset:', X_train.shape)\n",
        "print('The shape of the training (y) dataset:', y_train.shape)\n",
        "print('The shape of the validation dataset:', X_val.shape)\n",
        "print('The shape of the validation (y) dataset:', y_val.shape)\n",
        "print('The shape of the test dataset:', X_test.shape)\n",
        "print('The shape of the test (y) dataset:', y_test.shape)"
      ]
    },
    {
      "cell_type": "code",
      "execution_count": 11,
      "metadata": {
        "colab": {
          "base_uri": "https://localhost:8080/",
          "height": 151
        },
        "id": "34Kb7qBChP3O",
        "outputId": "8b452c9c-871a-4543-f502-4f0ad0e329ca"
      },
      "outputs": [
        {
          "output_type": "display_data",
          "data": {
            "image/png": "[encoded data removed]",
            "text/plain": [
              "<Figure size 1080x324 with 10 Axes>"
            ]
          },
          "metadata": {
            "needs_background": "light"
          }
        },
        {
          "output_type": "stream",
          "name": "stdout",
          "text": [
            "Label for each of the above image: [2 6 7 4 4 0 3 0 7 3]\n"
          ]
        }
      ],
      "source": [
        "# Visualizing first 10 images in the dataset and their labels\n",
        "plt.figure(figsize = (15, 4.5))\n",
        "for i in range(10):  \n",
        "    plt.subplot(1, 10, i+1)\n",
        "    plt.imshow(X_train[i].reshape((32, 32)),cmap = plt.cm.binary)\n",
        "    plt.axis('off')\n",
        "plt.subplots_adjust(wspace = -0.1, hspace = -0.1)\n",
        "plt.show()\n",
        "\n",
        "print('Label for each of the above image: %s' % (y_train[0 : 10]))"
      ]
    },
    {
      "cell_type": "code",
      "execution_count": 12,
      "metadata": {
        "colab": {
          "base_uri": "https://localhost:8080/",
          "height": 279
        },
        "id": "dCV2_11BhP6z",
        "outputId": "f0877632-71ae-47c8-d686-34ba57ac7618"
      },
      "outputs": [
        {
          "output_type": "display_data",
          "data": {
            "image/png": "[encoded data removed]",
            "text/plain": [
              "<Figure size 432x288 with 1 Axes>"
            ]
          },
          "metadata": {
            "needs_background": "light"
          }
        },
        {
          "output_type": "stream",
          "name": "stdout",
          "text": [
            "Label: 2\n"
          ]
        }
      ],
      "source": [
        "plt.imshow(X_train[0], cmap = plt.cm.binary)    \n",
        "plt.show()\n",
        "print('Label:', y_train[0])"
      ]
    },
    {
      "cell_type": "code",
      "execution_count": 13,
      "metadata": {
        "colab": {
          "base_uri": "https://localhost:8080/",
          "height": 279
        },
        "id": "miHDQvpmjpMU",
        "outputId": "ab922e02-79fc-4eb4-a912-fd81ebd13d25"
      },
      "outputs": [
        {
          "output_type": "display_data",
          "data": {
            "image/png": "[encoded data removed]",
            "text/plain": [
              "<Figure size 432x288 with 1 Axes>"
            ]
          },
          "metadata": {
            "needs_background": "light"
          }
        },
        {
          "output_type": "stream",
          "name": "stdout",
          "text": [
            "Label: 1\n"
          ]
        }
      ],
      "source": [
        "plt.imshow(X_train[10], cmap = plt.cm.binary)    \n",
        "plt.show()\n",
        "print('Label:', y_train[10])"
      ]
    },
    {
      "cell_type": "code",
      "execution_count": 14,
      "metadata": {
        "colab": {
          "base_uri": "https://localhost:8080/",
          "height": 279
        },
        "id": "m6NZSlJUjpIo",
        "outputId": "3325cc1f-459f-435e-ea60-ac5ca4d0c059"
      },
      "outputs": [
        {
          "output_type": "display_data",
          "data": {
            "image/png": "[encoded data removed]",
            "text/plain": [
              "<Figure size 432x288 with 1 Axes>"
            ]
          },
          "metadata": {
            "needs_background": "light"
          }
        },
        {
          "output_type": "stream",
          "name": "stdout",
          "text": [
            "Label: 0\n"
          ]
        }
      ],
      "source": [
        "plt.imshow(X_val[0], cmap = plt.cm.binary)    \n",
        "plt.show()\n",
        "print('Label:', y_val[0])"
      ]
    },
    {
      "cell_type": "code",
      "execution_count": 15,
      "metadata": {
        "colab": {
          "base_uri": "https://localhost:8080/",
          "height": 279
        },
        "id": "f7hE9XJEjpGa",
        "outputId": "4e0555c7-6dbd-46f2-9153-747e48133bf4"
      },
      "outputs": [
        {
          "output_type": "display_data",
          "data": {
            "image/png": "[encoded data removed]",
            "text/plain": [
              "<Figure size 432x288 with 1 Axes>"
            ]
          },
          "metadata": {
            "needs_background": "light"
          }
        },
        {
          "output_type": "stream",
          "name": "stdout",
          "text": [
            "Label: 0\n"
          ]
        }
      ],
      "source": [
        "plt.imshow(X_val[20], cmap = plt.cm.binary)    \n",
        "plt.show()\n",
        "print('Label:', y_val[20])"
      ]
    },
    {
      "cell_type": "code",
      "execution_count": 16,
      "metadata": {
        "colab": {
          "base_uri": "https://localhost:8080/",
          "height": 279
        },
        "id": "f0iakpNZjpEA",
        "outputId": "ef2f976c-5b3e-47c2-c77f-d6c4a6689c66"
      },
      "outputs": [
        {
          "output_type": "display_data",
          "data": {
            "image/png": "[encoded data removed]",
            "text/plain": [
              "<Figure size 432x288 with 1 Axes>"
            ]
          },
          "metadata": {
            "needs_background": "light"
          }
        },
        {
          "output_type": "stream",
          "name": "stdout",
          "text": [
            "Label: 1\n"
          ]
        }
      ],
      "source": [
        "plt.imshow(X_test[0], cmap = plt.cm.binary)    \n",
        "plt.show()\n",
        "print('Label:', y_test[0])\n"
      ]
    },
    {
      "cell_type": "code",
      "execution_count": 17,
      "metadata": {
        "colab": {
          "base_uri": "https://localhost:8080/",
          "height": 279
        },
        "id": "Vzyahl2bkMZb",
        "outputId": "9c58d117-bef1-4ed8-f12b-053fd3b78c88"
      },
      "outputs": [
        {
          "output_type": "display_data",
          "data": {
            "image/png": "[encoded data removed]",
            "text/plain": [
              "<Figure size 432x288 with 1 Axes>"
            ]
          },
          "metadata": {
            "needs_background": "light"
          }
        },
        {
          "output_type": "stream",
          "name": "stdout",
          "text": [
            "Label: 8\n"
          ]
        }
      ],
      "source": [
        "plt.imshow(X_test[10], cmap = plt.cm.binary)    \n",
        "plt.show()\n",
        "print('Label:', y_test[10])\n"
      ]
    },
    {
      "cell_type": "markdown",
      "source": [
        "## **Implementing an optimal K-Nearest Neighbour Classifier**"
      ],
      "metadata": {
        "id": "OgMx1SyiSDHx"
      }
    },
    {
      "cell_type": "code",
      "source": [
        "#Reshape data from 2D to 1D -> 32X32 to 1024\n",
        "X_train = np.asarray(X_train).reshape(42000, 1024)\n",
        "X_test = np.asarray(X_test).reshape(18000, 1024)\n",
        "X_val = np.asarray(X_val).reshape(60000, 1024)"
      ],
      "metadata": {
        "id": "giV0G4KNSCN7"
      },
      "execution_count": 18,
      "outputs": []
    },
    {
      "cell_type": "markdown",
      "source": [
        "Normalizing the Train, Test and Validation image data from 0 - 255 to 0 - 1 to ensure that our models converge faster."
      ],
      "metadata": {
        "id": "zxSJniRWSZA8"
      }
    },
    {
      "cell_type": "code",
      "source": [
        "X_train = X_train.astype('float32') / 255\n",
        "X_test = X_test.astype('float32') / 255\n",
        "X_val = X_val.astype('float32') / 255"
      ],
      "metadata": {
        "id": "7gRnMXbeSCJ-"
      },
      "execution_count": 19,
      "outputs": []
    },
    {
      "cell_type": "code",
      "source": [
        "# creating odd list of K for KNN\n",
        "neighbors = list(range(1, 30, 2))"
      ],
      "metadata": {
        "id": "oL-legSzSevz"
      },
      "execution_count": 20,
      "outputs": []
    },
    {
      "cell_type": "code",
      "source": [
        "# empty list that will hold accuracy scores\n",
        "accuracy_scores = []\n",
        "\n",
        "for k in neighbors:\n",
        "    knn = KNeighborsClassifier(n_neighbors = k, n_jobs = -1)\n",
        "    knn.fit(X_train, y_train)\n",
        "    # predict the response\n",
        "    y_predictKNN = knn.predict(X_test)\n",
        "    # evaluate accuracy\n",
        "    scores = accuracy_score(y_test, y_predictKNN)\n",
        "    accuracy_scores.append(scores)\n",
        "\n",
        "# changing to misclassification error\n",
        "MSE = [1 - x for x in accuracy_scores]\n",
        "\n",
        "# determining best k\n",
        "optimal_k = neighbors[MSE.index(min(MSE))]\n",
        "print('The optimal number of neighbors is: ', optimal_k)"
      ],
      "metadata": {
        "colab": {
          "base_uri": "https://localhost:8080/"
        },
        "id": "Znb5GZEASesV",
        "outputId": "0dfa68cf-8603-4463-d901-585c29a225c3"
      },
      "execution_count": 23,
      "outputs": [
        {
          "output_type": "stream",
          "name": "stdout",
          "text": [
            "The optimal number of neighbors is:  27\n"
          ]
        }
      ]
    },
    {
      "cell_type": "code",
      "source": [
        "# Retraining the model using the optimal k-value found above and predicting the labels on the test data\n",
        "knn = KNeighborsClassifier(n_neighbors = optimal_k, n_jobs = -1)\n",
        "knn.fit(X_train, y_train)\n",
        "predictions = knn.predict(X_test)"
      ],
      "metadata": {
        "id": "UBCCwjJsSeqK"
      },
      "execution_count": 24,
      "outputs": []
    },
    {
      "cell_type": "code",
      "source": [
        "# Classification Metric Report\n",
        "\n",
        "print('Classification Metric Report:\\n', classification_report(y_test, predictions))\n",
        "print('Confusion Matrix:\\n', confusion_matrix(y_test, predictions))\n",
        "print('\\nAccuracy Score:', accuracy_score(y_test, predictions))"
      ],
      "metadata": {
        "colab": {
          "base_uri": "https://localhost:8080/"
        },
        "id": "uSrfjUJmSCHw",
        "outputId": "87643530-46d2-4277-91ff-1963c9d59f9d"
      },
      "execution_count": 25,
      "outputs": [
        {
          "output_type": "stream",
          "name": "stdout",
          "text": [
            "Classification Metric Report:\n",
            "               precision    recall  f1-score   support\n",
            "\n",
            "           0       0.46      0.71      0.56      1814\n",
            "           1       0.46      0.73      0.56      1828\n",
            "           2       0.64      0.54      0.58      1803\n",
            "           3       0.47      0.43      0.45      1719\n",
            "           4       0.64      0.65      0.65      1812\n",
            "           5       0.53      0.40      0.45      1768\n",
            "           6       0.51      0.41      0.46      1832\n",
            "           7       0.71      0.62      0.66      1808\n",
            "           8       0.47      0.37      0.41      1812\n",
            "           9       0.55      0.44      0.49      1804\n",
            "\n",
            "    accuracy                           0.53     18000\n",
            "   macro avg       0.54      0.53      0.53     18000\n",
            "weighted avg       0.54      0.53      0.53     18000\n",
            "\n",
            "Confusion Matrix:\n",
            " [[1289   60   31   44   51   29   94   39   70  107]\n",
            " [  96 1337   54   82   80   34   33   51   32   29]\n",
            " [  90  249  971   92   48   45   30  146   45   87]\n",
            " [ 121  267  118  742   57  165   38   53   93   65]\n",
            " [ 102  253   32   53 1183   21   51   23   39   55]\n",
            " [ 144  164   49  244   78  707  141   35  121   85]\n",
            " [ 310  127   31   62  143  127  755   23  208   46]\n",
            " [ 101  197  115   79   43   29   39 1130   26   49]\n",
            " [ 255  134   60  107  101   94  246   28  666  121]\n",
            " [ 321  146   61   82   65   92   54   74  108  801]]\n",
            "\n",
            "Accuracy Score: 0.5322777777777777\n"
          ]
        }
      ]
    },
    {
      "cell_type": "markdown",
      "source": [
        "```Accuracy Score```: 0.53.227\n",
        "\n",
        "The accuracy of the model is 53.22% which seems to be on the lower side."
      ],
      "metadata": {
        "id": "RcbSzL76TFUg"
      }
    },
    {
      "cell_type": "code",
      "source": [
        "# Predicting the digits using KNN Classifier\n",
        "\n",
        "plt.figure(figsize = (2,2))\n",
        "plt.imshow(X_test[70].reshape(32, 32))\n",
        "plt.show()\n",
        "image = X_test[70]\n",
        "print('Label: ', knn.predict(image.reshape(1, -1)))"
      ],
      "metadata": {
        "colab": {
          "base_uri": "https://localhost:8080/",
          "height": 172
        },
        "id": "kuOOszmHTEuS",
        "outputId": "c8fce180-2d18-4340-b4cd-47ca9f9d85af"
      },
      "execution_count": 26,
      "outputs": [
        {
          "output_type": "display_data",
          "data": {
            "image/png": "[encoded data removed]",
            "text/plain": [
              "<Figure size 144x144 with 1 Axes>"
            ]
          },
          "metadata": {
            "needs_background": "light"
          }
        },
        {
          "output_type": "stream",
          "name": "stdout",
          "text": [
            "Label:  [9]\n"
          ]
        }
      ]
    },
    {
      "cell_type": "markdown",
      "source": [
        "#### The KNN Classifier predicted the digit correctly."
      ],
      "metadata": {
        "id": "PqvohBbITXhw"
      }
    },
    {
      "cell_type": "markdown",
      "source": [
        "# **Implementing Deep Neural Network**"
      ],
      "metadata": {
        "id": "59JP8PKVTjrj"
      }
    },
    {
      "cell_type": "code",
      "source": [
        "#Reshaping the data from 2D to 1D i.e., 32 X 32 = 1024\n",
        "X_train = np.asarray(X_train).reshape(42000, 1024)\n",
        "X_test = np.asarray(X_test).reshape(18000, 1024)\n",
        "X_val = np.asarray(X_val).reshape(60000, 1024)"
      ],
      "metadata": {
        "id": "WmsIqDhiTEoU"
      },
      "execution_count": 27,
      "outputs": []
    },
    {
      "cell_type": "code",
      "execution_count": 28,
      "metadata": {
        "colab": {
          "base_uri": "https://localhost:8080/"
        },
        "id": "qgeTLRf3kMWC",
        "outputId": "7a8d5504-26ee-4be8-9af8-542b37719842"
      },
      "outputs": [
        {
          "output_type": "stream",
          "name": "stdout",
          "text": [
            "First 5 examples in training dataset now are: \n",
            " [[0. 0. 1. 0. 0. 0. 0. 0. 0. 0.]\n",
            " [0. 0. 0. 0. 0. 0. 1. 0. 0. 0.]\n",
            " [0. 0. 0. 0. 0. 0. 0. 1. 0. 0.]\n",
            " [0. 0. 0. 0. 1. 0. 0. 0. 0. 0.]\n",
            " [0. 0. 0. 0. 1. 0. 0. 0. 0. 0.]]\n",
            "\n",
            "First 5 examples in validation dataset now are: \n",
            " [[1. 0. 0. 0. 0. 0. 0. 0. 0. 0.]\n",
            " [1. 0. 0. 0. 0. 0. 0. 0. 0. 0.]\n",
            " [1. 0. 0. 0. 0. 0. 0. 0. 0. 0.]\n",
            " [1. 0. 0. 0. 0. 0. 0. 0. 0. 0.]\n",
            " [1. 0. 0. 0. 0. 0. 0. 0. 0. 0.]]\n",
            "\n",
            "First 5 examples in test dataset now are: \n",
            " [[0. 1. 0. 0. 0. 0. 0. 0. 0. 0.]\n",
            " [0. 0. 0. 0. 0. 0. 0. 1. 0. 0.]\n",
            " [0. 0. 1. 0. 0. 0. 0. 0. 0. 0.]\n",
            " [0. 0. 0. 0. 0. 0. 0. 0. 0. 1.]\n",
            " [1. 0. 0. 0. 0. 0. 0. 0. 0. 0.]]\n"
          ]
        }
      ],
      "source": [
        "#Converting output labels to binary class matrices (one-hot encoding)\n",
        "\n",
        "y_train = tf.keras.utils.to_categorical(y_train, num_classes = 10)\n",
        "y_test = tf.keras.utils.to_categorical(y_test, num_classes = 10)\n",
        "y_val = tf.keras.utils.to_categorical(y_val, num_classes = 10)\n",
        "\n",
        "print('First 5 examples in training dataset now are: \\n', y_train[0:5])\n",
        "print('\\nFirst 5 examples in validation dataset now are: \\n', y_val[0:5])\n",
        "print('\\nFirst 5 examples in test dataset now are: \\n', y_test[0:5])"
      ]
    },
    {
      "cell_type": "code",
      "execution_count": 29,
      "metadata": {
        "colab": {
          "base_uri": "https://localhost:8080/"
        },
        "id": "YPc44_OWkMT4",
        "outputId": "421bea42-9f84-421d-ff2f-f1169b87ecc2"
      },
      "outputs": [
        {
          "output_type": "stream",
          "name": "stdout",
          "text": [
            "The shape of the training dataset: (42000, 1024)\n",
            "The shape of the training (y) dataset: (42000, 10)\n",
            "The shape of the validation dataset: (60000, 1024)\n",
            "The shape of the validation (y) dataset: (60000, 10)\n",
            "The shape of the test dataset: (18000, 1024)\n",
            "The shape of the test (y) dataset: (18000, 10)\n"
          ]
        }
      ],
      "source": [
        "print('The shape of the training dataset:', X_train.shape)\n",
        "print('The shape of the training (y) dataset:', y_train.shape)\n",
        "print('The shape of the validation dataset:', X_val.shape)\n",
        "print('The shape of the validation (y) dataset:', y_val.shape)\n",
        "print('The shape of the test dataset:', X_test.shape)\n",
        "print('The shape of the test (y) dataset:', y_test.shape)"
      ]
    },
    {
      "cell_type": "markdown",
      "source": [
        "# **Implementing Neural Network**\n"
      ],
      "metadata": {
        "id": "gBaqRyy0ENY9"
      }
    },
    {
      "cell_type": "code",
      "execution_count": 30,
      "metadata": {
        "id": "vp3Mcs9v6o2n"
      },
      "outputs": [],
      "source": [
        "#Initialize the Artificial Neural Network Classifier\n",
        "keras_model = Sequential()"
      ]
    },
    {
      "cell_type": "code",
      "execution_count": 31,
      "metadata": {
        "id": "yMA5Bqch6o4w"
      },
      "outputs": [],
      "source": [
        "# Input Layer\n",
        "#Adding Input layer and activation functions ReLU\n",
        "keras_model.add(Dense(512, kernel_initializer = 'he_normal', input_shape = (1024, )))\n",
        "#Adding Activation function\n",
        "keras_model.add(Activation('relu'))\n",
        "\n",
        "#Hidden Layer 1\n",
        "#Adding first Hidden layer of 256 nodes\n",
        "keras_model.add(Dense(256, kernel_initializer = 'he_normal'))\n",
        "#Adding Activation function\n",
        "keras_model.add(Activation('relu'))\n",
        "\n",
        "#Hidden Layer 2\n",
        "#Adding second Hidden layer of 128 nodes\n",
        "keras_model.add(Dense(128, kernel_initializer = 'he_normal'))\n",
        "#Adding Activation function\n",
        "keras_model.add(Activation('relu'))\n",
        "\n",
        "#Hidden Layer 3\n",
        "#Adding third Hidden layer of 64 nodes\n",
        "keras_model.add(Dense(64, kernel_initializer = 'he_normal'))\n",
        "#Adding Activation function\n",
        "keras_model.add(Activation('relu'))\n",
        "\n",
        "#Hidden Layer 4\n",
        "#Adding fourth Hidden layer of 32 nodes\n",
        "keras_model.add(Dense(32, kernel_initializer = 'he_normal'))\n",
        "#Adding Activation function\n",
        "keras_model.add(Activation('relu'))\n",
        "\n",
        "# Output Layer\n",
        "#Adding output layer which is of 10 nodes (digits)\n",
        "keras_model.add(Dense(10))\n",
        "#Adding Activation function\n",
        "# Here, we are using softmax function because we have multiclass classsification\n",
        "keras_model.add(Activation('softmax'))"
      ]
    },
    {
      "cell_type": "code",
      "execution_count": 32,
      "metadata": {
        "colab": {
          "base_uri": "https://localhost:8080/"
        },
        "id": "osxoFHP_6o7R",
        "outputId": "b7923a0f-dd13-449a-9347-d245177d9547"
      },
      "outputs": [
        {
          "output_type": "stream",
          "name": "stdout",
          "text": [
            "Model: \"sequential\"\n",
            "_________________________________________________________________\n",
            " Layer (type)                Output Shape              Param #   \n",
            "=================================================================\n",
            " dense (Dense)               (None, 512)               524800    \n",
            "                                                                 \n",
            " activation (Activation)     (None, 512)               0         \n",
            "                                                                 \n",
            " dense_1 (Dense)             (None, 256)               131328    \n",
            "                                                                 \n",
            " activation_1 (Activation)   (None, 256)               0         \n",
            "                                                                 \n",
            " dense_2 (Dense)             (None, 128)               32896     \n",
            "                                                                 \n",
            " activation_2 (Activation)   (None, 128)               0         \n",
            "                                                                 \n",
            " dense_3 (Dense)             (None, 64)                8256      \n",
            "                                                                 \n",
            " activation_3 (Activation)   (None, 64)                0         \n",
            "                                                                 \n",
            " dense_4 (Dense)             (None, 32)                2080      \n",
            "                                                                 \n",
            " activation_4 (Activation)   (None, 32)                0         \n",
            "                                                                 \n",
            " dense_5 (Dense)             (None, 10)                330       \n",
            "                                                                 \n",
            " activation_5 (Activation)   (None, 10)                0         \n",
            "                                                                 \n",
            "=================================================================\n",
            "Total params: 699,690\n",
            "Trainable params: 699,690\n",
            "Non-trainable params: 0\n",
            "_________________________________________________________________\n"
          ]
        }
      ],
      "source": [
        "keras_model.summary()"
      ]
    },
    {
      "cell_type": "code",
      "execution_count": 33,
      "metadata": {
        "id": "z42FpK6r6o_v"
      },
      "outputs": [],
      "source": [
        "## Using SGD as optimizer and Categorical Crossentropy as loss function and accuracy as the metric to monitor the accuracy of the model\n",
        "# compiling the ANN classifier\n",
        "keras_model.compile(optimizer = 'sgd', loss = 'categorical_crossentropy', metrics = ['accuracy'])"
      ]
    },
    {
      "cell_type": "code",
      "execution_count": 34,
      "metadata": {
        "colab": {
          "base_uri": "https://localhost:8080/"
        },
        "id": "Xu9Eov4p6pCF",
        "outputId": "7e44902d-4221-4058-d32f-8c1ee4ba0b03"
      },
      "outputs": [
        {
          "output_type": "stream",
          "name": "stdout",
          "text": [
            "Epoch 1/20\n",
            "210/210 [==============================] - 6s 24ms/step - loss: 2.2824 - accuracy: 0.1452 - val_loss: 2.2527 - val_accuracy: 0.1575\n",
            "Epoch 2/20\n",
            "210/210 [==============================] - 5s 23ms/step - loss: 2.2189 - accuracy: 0.2174 - val_loss: 2.1885 - val_accuracy: 0.2100\n",
            "Epoch 3/20\n",
            "210/210 [==============================] - 5s 25ms/step - loss: 2.1371 - accuracy: 0.2713 - val_loss: 2.0726 - val_accuracy: 0.2844\n",
            "Epoch 4/20\n",
            "210/210 [==============================] - 7s 31ms/step - loss: 2.0000 - accuracy: 0.3317 - val_loss: 1.8856 - val_accuracy: 0.3907\n",
            "Epoch 5/20\n",
            "210/210 [==============================] - 6s 27ms/step - loss: 1.8464 - accuracy: 0.3841 - val_loss: 1.7660 - val_accuracy: 0.4152\n",
            "Epoch 6/20\n",
            "210/210 [==============================] - 6s 28ms/step - loss: 1.7124 - accuracy: 0.4320 - val_loss: 1.6259 - val_accuracy: 0.4720\n",
            "Epoch 7/20\n",
            "210/210 [==============================] - 6s 30ms/step - loss: 1.5972 - accuracy: 0.4783 - val_loss: 1.5691 - val_accuracy: 0.4850\n",
            "Epoch 8/20\n",
            "210/210 [==============================] - 6s 28ms/step - loss: 1.5072 - accuracy: 0.5097 - val_loss: 1.4933 - val_accuracy: 0.5092\n",
            "Epoch 9/20\n",
            "210/210 [==============================] - 5s 23ms/step - loss: 1.4224 - accuracy: 0.5423 - val_loss: 1.3802 - val_accuracy: 0.5480\n",
            "Epoch 10/20\n",
            "210/210 [==============================] - 5s 23ms/step - loss: 1.3564 - accuracy: 0.5650 - val_loss: 1.4022 - val_accuracy: 0.5273\n",
            "Epoch 11/20\n",
            "210/210 [==============================] - 5s 24ms/step - loss: 1.2939 - accuracy: 0.5880 - val_loss: 1.3446 - val_accuracy: 0.5606\n",
            "Epoch 12/20\n",
            "210/210 [==============================] - 7s 32ms/step - loss: 1.2557 - accuracy: 0.6011 - val_loss: 1.2134 - val_accuracy: 0.6322\n",
            "Epoch 13/20\n",
            "210/210 [==============================] - 6s 26ms/step - loss: 1.2000 - accuracy: 0.6210 - val_loss: 1.2565 - val_accuracy: 0.5818\n",
            "Epoch 14/20\n",
            "210/210 [==============================] - 5s 23ms/step - loss: 1.1788 - accuracy: 0.6287 - val_loss: 1.1600 - val_accuracy: 0.6413\n",
            "Epoch 15/20\n",
            "210/210 [==============================] - 5s 23ms/step - loss: 1.1370 - accuracy: 0.6441 - val_loss: 1.0557 - val_accuracy: 0.6761\n",
            "Epoch 16/20\n",
            "210/210 [==============================] - 5s 24ms/step - loss: 1.0975 - accuracy: 0.6567 - val_loss: 1.0296 - val_accuracy: 0.6874\n",
            "Epoch 17/20\n",
            "210/210 [==============================] - 7s 32ms/step - loss: 1.0760 - accuracy: 0.6644 - val_loss: 1.0325 - val_accuracy: 0.6811\n",
            "Epoch 18/20\n",
            "210/210 [==============================] - 5s 25ms/step - loss: 1.0348 - accuracy: 0.6790 - val_loss: 0.9977 - val_accuracy: 0.6912\n",
            "Epoch 19/20\n",
            "210/210 [==============================] - 5s 23ms/step - loss: 1.0145 - accuracy: 0.6857 - val_loss: 1.0164 - val_accuracy: 0.6829\n",
            "Epoch 20/20\n",
            "210/210 [==============================] - 5s 24ms/step - loss: 0.9922 - accuracy: 0.6916 - val_loss: 0.9835 - val_accuracy: 0.6974\n"
          ]
        }
      ],
      "source": [
        "# Fitting the ANN to the Training data\n",
        "history = keras_model.fit(X_train, y_train, validation_data = (X_val, y_val), batch_size = 200, epochs = 20, verbose = 1)"
      ]
    },
    {
      "cell_type": "code",
      "execution_count": 35,
      "metadata": {
        "colab": {
          "base_uri": "https://localhost:8080/"
        },
        "id": "05NB7PyJ6pEd",
        "outputId": "e8cad306-6756-4684-e01f-acc33f0a8b13"
      },
      "outputs": [
        {
          "output_type": "stream",
          "name": "stdout",
          "text": [
            "1875/1875 [==============================] - 7s 3ms/step - loss: 0.9835 - accuracy: 0.6974\n",
            "Validation accuracy using basic Neural Network (SGD) :  0.6973999738693237\n"
          ]
        }
      ],
      "source": [
        "results = keras_model.evaluate(X_val, y_val)\n",
        "print('Validation accuracy using basic Neural Network (SGD) : ', results[1])"
      ]
    },
    {
      "cell_type": "code",
      "execution_count": 36,
      "metadata": {
        "id": "n8LgIwWT7hS9"
      },
      "outputs": [],
      "source": [
        "# Using ADAM as optimizer and Categorical Crossentropy as loss function and accuracy as the metric to monitor the accuracy of the model\n",
        "# compiling the ANN classifier\n",
        "keras_model.compile(optimizer = 'adam', loss = 'categorical_crossentropy', metrics = ['accuracy'])"
      ]
    },
    {
      "cell_type": "code",
      "execution_count": 37,
      "metadata": {
        "colab": {
          "base_uri": "https://localhost:8080/"
        },
        "id": "wy7t51sy7hRS",
        "outputId": "fd6220d3-fb74-4950-bf45-da85b1aeba44"
      },
      "outputs": [
        {
          "output_type": "stream",
          "name": "stdout",
          "text": [
            "Epoch 1/20\n",
            "210/210 [==============================] - 6s 25ms/step - loss: 1.7519 - accuracy: 0.4200 - val_loss: 1.3096 - val_accuracy: 0.5696\n",
            "Epoch 2/20\n",
            "210/210 [==============================] - 5s 23ms/step - loss: 1.1534 - accuracy: 0.6361 - val_loss: 1.0483 - val_accuracy: 0.6686\n",
            "Epoch 3/20\n",
            "210/210 [==============================] - 5s 26ms/step - loss: 1.0468 - accuracy: 0.6714 - val_loss: 0.9845 - val_accuracy: 0.6908\n",
            "Epoch 4/20\n",
            "210/210 [==============================] - 6s 29ms/step - loss: 0.9634 - accuracy: 0.7005 - val_loss: 0.9016 - val_accuracy: 0.7236\n",
            "Epoch 5/20\n",
            "210/210 [==============================] - 7s 33ms/step - loss: 0.9088 - accuracy: 0.7157 - val_loss: 0.8846 - val_accuracy: 0.7228\n",
            "Epoch 6/20\n",
            "210/210 [==============================] - 5s 24ms/step - loss: 0.8449 - accuracy: 0.7353 - val_loss: 0.9053 - val_accuracy: 0.7127\n",
            "Epoch 7/20\n",
            "210/210 [==============================] - 6s 28ms/step - loss: 0.8203 - accuracy: 0.7447 - val_loss: 0.8115 - val_accuracy: 0.7440\n",
            "Epoch 8/20\n",
            "210/210 [==============================] - 5s 24ms/step - loss: 0.7794 - accuracy: 0.7547 - val_loss: 0.7929 - val_accuracy: 0.7551\n",
            "Epoch 9/20\n",
            "210/210 [==============================] - 5s 24ms/step - loss: 0.7428 - accuracy: 0.7655 - val_loss: 0.7060 - val_accuracy: 0.7776\n",
            "Epoch 10/20\n",
            "210/210 [==============================] - 5s 24ms/step - loss: 0.7265 - accuracy: 0.7721 - val_loss: 0.7066 - val_accuracy: 0.7778\n",
            "Epoch 11/20\n",
            "210/210 [==============================] - 6s 29ms/step - loss: 0.6910 - accuracy: 0.7839 - val_loss: 0.7000 - val_accuracy: 0.7849\n",
            "Epoch 12/20\n",
            "210/210 [==============================] - 7s 32ms/step - loss: 0.6840 - accuracy: 0.7846 - val_loss: 0.6685 - val_accuracy: 0.7924\n",
            "Epoch 13/20\n",
            "210/210 [==============================] - 6s 31ms/step - loss: 0.6518 - accuracy: 0.7962 - val_loss: 0.7306 - val_accuracy: 0.7734\n",
            "Epoch 14/20\n",
            "210/210 [==============================] - 5s 25ms/step - loss: 0.6615 - accuracy: 0.7907 - val_loss: 0.6683 - val_accuracy: 0.7902\n",
            "Epoch 15/20\n",
            "210/210 [==============================] - 5s 23ms/step - loss: 0.6200 - accuracy: 0.8023 - val_loss: 0.6285 - val_accuracy: 0.8030\n",
            "Epoch 16/20\n",
            "210/210 [==============================] - 5s 23ms/step - loss: 0.6068 - accuracy: 0.8070 - val_loss: 0.6850 - val_accuracy: 0.7823\n",
            "Epoch 17/20\n",
            "210/210 [==============================] - 5s 24ms/step - loss: 0.5931 - accuracy: 0.8105 - val_loss: 0.5960 - val_accuracy: 0.8162\n",
            "Epoch 18/20\n",
            "210/210 [==============================] - 5s 23ms/step - loss: 0.5623 - accuracy: 0.8210 - val_loss: 0.5760 - val_accuracy: 0.8199\n",
            "Epoch 19/20\n",
            "210/210 [==============================] - 6s 27ms/step - loss: 0.5595 - accuracy: 0.8211 - val_loss: 0.5830 - val_accuracy: 0.8176\n",
            "Epoch 20/20\n",
            "210/210 [==============================] - 6s 31ms/step - loss: 0.5442 - accuracy: 0.8256 - val_loss: 0.5558 - val_accuracy: 0.8281\n"
          ]
        }
      ],
      "source": [
        "# Fitting the ANN to the Training data\n",
        "history_1 = keras_model.fit(X_train, y_train, validation_data = (X_val, y_val), batch_size = 200, epochs = 20, verbose = 1)"
      ]
    },
    {
      "cell_type": "code",
      "execution_count": 38,
      "metadata": {
        "colab": {
          "base_uri": "https://localhost:8080/"
        },
        "id": "x46QW6AN7hOs",
        "outputId": "dd495fab-7034-4295-9f94-b2f381fa9a34"
      },
      "outputs": [
        {
          "output_type": "stream",
          "name": "stdout",
          "text": [
            "1875/1875 [==============================] - 8s 4ms/step - loss: 0.5558 - accuracy: 0.8281\n",
            "Validation accuracy using basic Neural Network (ADAM) :  0.828083336353302\n"
          ]
        }
      ],
      "source": [
        "results = keras_model.evaluate(X_val, y_val)\n",
        "print('Validation accuracy using basic Neural Network (ADAM) : ', results[1])"
      ]
    },
    {
      "cell_type": "code",
      "execution_count": 39,
      "metadata": {
        "colab": {
          "base_uri": "https://localhost:8080/"
        },
        "id": "vhvj32Qj7hL8",
        "outputId": "4a5eb555-6d24-4a4d-9847-c1bfeb7cd27f"
      },
      "outputs": [
        {
          "output_type": "stream",
          "name": "stdout",
          "text": [
            "Epoch 1/100\n"
          ]
        },
        {
          "output_type": "stream",
          "name": "stderr",
          "text": [
            "/usr/local/lib/python3.7/dist-packages/keras/optimizer_v2/gradient_descent.py:102: UserWarning: The `lr` argument is deprecated, use `learning_rate` instead.\n",
            "  super(SGD, self).__init__(name, **kwargs)\n"
          ]
        },
        {
          "output_type": "stream",
          "name": "stdout",
          "text": [
            "210/210 [==============================] - 6s 26ms/step - loss: 0.4663 - accuracy: 0.8537 - val_loss: 0.5022 - val_accuracy: 0.8473\n",
            "Epoch 2/100\n",
            "210/210 [==============================] - 6s 29ms/step - loss: 0.4428 - accuracy: 0.8620 - val_loss: 0.4923 - val_accuracy: 0.8510\n",
            "Epoch 3/100\n",
            "210/210 [==============================] - 6s 28ms/step - loss: 0.4358 - accuracy: 0.8643 - val_loss: 0.4877 - val_accuracy: 0.8523\n",
            "Epoch 4/100\n",
            "210/210 [==============================] - 5s 23ms/step - loss: 0.4320 - accuracy: 0.8656 - val_loss: 0.4850 - val_accuracy: 0.8529\n",
            "Epoch 5/100\n",
            "210/210 [==============================] - 5s 22ms/step - loss: 0.4294 - accuracy: 0.8662 - val_loss: 0.4829 - val_accuracy: 0.8539\n",
            "Epoch 6/100\n",
            "210/210 [==============================] - 5s 23ms/step - loss: 0.4273 - accuracy: 0.8674 - val_loss: 0.4811 - val_accuracy: 0.8539\n",
            "Epoch 7/100\n",
            "210/210 [==============================] - 5s 23ms/step - loss: 0.4256 - accuracy: 0.8674 - val_loss: 0.4797 - val_accuracy: 0.8543\n",
            "Epoch 8/100\n",
            "210/210 [==============================] - 5s 22ms/step - loss: 0.4241 - accuracy: 0.8680 - val_loss: 0.4785 - val_accuracy: 0.8548\n",
            "Epoch 9/100\n",
            "210/210 [==============================] - 5s 22ms/step - loss: 0.4227 - accuracy: 0.8688 - val_loss: 0.4774 - val_accuracy: 0.8551\n",
            "Epoch 10/100\n",
            "210/210 [==============================] - 5s 22ms/step - loss: 0.4215 - accuracy: 0.8689 - val_loss: 0.4764 - val_accuracy: 0.8558\n",
            "Epoch 11/100\n",
            "210/210 [==============================] - 5s 22ms/step - loss: 0.4205 - accuracy: 0.8696 - val_loss: 0.4755 - val_accuracy: 0.8561\n",
            "Epoch 12/100\n",
            "210/210 [==============================] - 5s 23ms/step - loss: 0.4195 - accuracy: 0.8697 - val_loss: 0.4747 - val_accuracy: 0.8565\n",
            "Epoch 13/100\n",
            "210/210 [==============================] - 5s 23ms/step - loss: 0.4186 - accuracy: 0.8700 - val_loss: 0.4739 - val_accuracy: 0.8567\n",
            "Epoch 14/100\n",
            "210/210 [==============================] - 6s 27ms/step - loss: 0.4177 - accuracy: 0.8705 - val_loss: 0.4733 - val_accuracy: 0.8569\n",
            "Epoch 15/100\n",
            "210/210 [==============================] - 6s 30ms/step - loss: 0.4170 - accuracy: 0.8709 - val_loss: 0.4726 - val_accuracy: 0.8571\n",
            "Epoch 16/100\n",
            "210/210 [==============================] - 6s 28ms/step - loss: 0.4162 - accuracy: 0.8710 - val_loss: 0.4719 - val_accuracy: 0.8572\n",
            "Epoch 17/100\n",
            "210/210 [==============================] - 5s 23ms/step - loss: 0.4155 - accuracy: 0.8710 - val_loss: 0.4714 - val_accuracy: 0.8573\n",
            "Epoch 18/100\n",
            "210/210 [==============================] - 6s 30ms/step - loss: 0.4149 - accuracy: 0.8712 - val_loss: 0.4709 - val_accuracy: 0.8572\n",
            "Epoch 19/100\n",
            "210/210 [==============================] - 6s 28ms/step - loss: 0.4143 - accuracy: 0.8714 - val_loss: 0.4704 - val_accuracy: 0.8576\n",
            "Epoch 20/100\n",
            "210/210 [==============================] - 5s 22ms/step - loss: 0.4137 - accuracy: 0.8716 - val_loss: 0.4699 - val_accuracy: 0.8578\n",
            "Epoch 21/100\n",
            "210/210 [==============================] - 5s 22ms/step - loss: 0.4132 - accuracy: 0.8717 - val_loss: 0.4694 - val_accuracy: 0.8579\n",
            "Epoch 22/100\n",
            "210/210 [==============================] - 6s 29ms/step - loss: 0.4127 - accuracy: 0.8718 - val_loss: 0.4690 - val_accuracy: 0.8581\n",
            "Epoch 23/100\n",
            "210/210 [==============================] - 6s 30ms/step - loss: 0.4122 - accuracy: 0.8722 - val_loss: 0.4686 - val_accuracy: 0.8582\n",
            "Epoch 24/100\n",
            "210/210 [==============================] - 7s 31ms/step - loss: 0.4117 - accuracy: 0.8721 - val_loss: 0.4682 - val_accuracy: 0.8582\n",
            "Epoch 25/100\n",
            "210/210 [==============================] - 5s 24ms/step - loss: 0.4113 - accuracy: 0.8723 - val_loss: 0.4678 - val_accuracy: 0.8584\n",
            "Epoch 26/100\n",
            "210/210 [==============================] - 5s 23ms/step - loss: 0.4109 - accuracy: 0.8724 - val_loss: 0.4675 - val_accuracy: 0.8585\n",
            "Epoch 27/100\n",
            "210/210 [==============================] - 5s 22ms/step - loss: 0.4104 - accuracy: 0.8726 - val_loss: 0.4671 - val_accuracy: 0.8587\n",
            "Epoch 28/100\n",
            "210/210 [==============================] - 5s 23ms/step - loss: 0.4101 - accuracy: 0.8726 - val_loss: 0.4668 - val_accuracy: 0.8587\n",
            "Epoch 29/100\n",
            "210/210 [==============================] - 5s 22ms/step - loss: 0.4097 - accuracy: 0.8729 - val_loss: 0.4665 - val_accuracy: 0.8588\n",
            "Epoch 30/100\n",
            "210/210 [==============================] - 5s 22ms/step - loss: 0.4093 - accuracy: 0.8729 - val_loss: 0.4662 - val_accuracy: 0.8589\n",
            "Epoch 31/100\n",
            "210/210 [==============================] - 6s 30ms/step - loss: 0.4090 - accuracy: 0.8730 - val_loss: 0.4659 - val_accuracy: 0.8591\n",
            "Epoch 32/100\n",
            "210/210 [==============================] - 6s 29ms/step - loss: 0.4086 - accuracy: 0.8732 - val_loss: 0.4656 - val_accuracy: 0.8594\n",
            "Epoch 33/100\n",
            "210/210 [==============================] - 5s 23ms/step - loss: 0.4083 - accuracy: 0.8733 - val_loss: 0.4653 - val_accuracy: 0.8592\n",
            "Epoch 34/100\n",
            "210/210 [==============================] - 5s 22ms/step - loss: 0.4080 - accuracy: 0.8735 - val_loss: 0.4650 - val_accuracy: 0.8594\n",
            "Epoch 35/100\n",
            "210/210 [==============================] - 5s 23ms/step - loss: 0.4077 - accuracy: 0.8735 - val_loss: 0.4648 - val_accuracy: 0.8597\n",
            "Epoch 36/100\n",
            "210/210 [==============================] - 5s 22ms/step - loss: 0.4074 - accuracy: 0.8734 - val_loss: 0.4645 - val_accuracy: 0.8597\n",
            "Epoch 37/100\n",
            "210/210 [==============================] - 5s 22ms/step - loss: 0.4071 - accuracy: 0.8736 - val_loss: 0.4642 - val_accuracy: 0.8596\n",
            "Epoch 38/100\n",
            "210/210 [==============================] - 5s 23ms/step - loss: 0.4068 - accuracy: 0.8738 - val_loss: 0.4640 - val_accuracy: 0.8595\n",
            "Epoch 39/100\n",
            "210/210 [==============================] - 5s 22ms/step - loss: 0.4065 - accuracy: 0.8738 - val_loss: 0.4638 - val_accuracy: 0.8598\n",
            "Epoch 40/100\n",
            "210/210 [==============================] - 5s 23ms/step - loss: 0.4062 - accuracy: 0.8738 - val_loss: 0.4635 - val_accuracy: 0.8599\n",
            "Epoch 41/100\n",
            "210/210 [==============================] - 5s 23ms/step - loss: 0.4059 - accuracy: 0.8741 - val_loss: 0.4633 - val_accuracy: 0.8600\n",
            "Epoch 42/100\n",
            "210/210 [==============================] - 5s 22ms/step - loss: 0.4057 - accuracy: 0.8741 - val_loss: 0.4631 - val_accuracy: 0.8599\n",
            "Epoch 43/100\n",
            "210/210 [==============================] - 5s 23ms/step - loss: 0.4054 - accuracy: 0.8740 - val_loss: 0.4629 - val_accuracy: 0.8601\n",
            "Epoch 44/100\n",
            "210/210 [==============================] - 5s 22ms/step - loss: 0.4052 - accuracy: 0.8739 - val_loss: 0.4626 - val_accuracy: 0.8602\n",
            "Epoch 45/100\n",
            "210/210 [==============================] - 5s 23ms/step - loss: 0.4049 - accuracy: 0.8743 - val_loss: 0.4625 - val_accuracy: 0.8604\n",
            "Epoch 46/100\n",
            "210/210 [==============================] - 5s 23ms/step - loss: 0.4047 - accuracy: 0.8747 - val_loss: 0.4623 - val_accuracy: 0.8603\n",
            "Epoch 47/100\n",
            "210/210 [==============================] - 5s 22ms/step - loss: 0.4044 - accuracy: 0.8745 - val_loss: 0.4621 - val_accuracy: 0.8604\n",
            "Epoch 48/100\n",
            "210/210 [==============================] - 5s 22ms/step - loss: 0.4042 - accuracy: 0.8745 - val_loss: 0.4618 - val_accuracy: 0.8607\n",
            "Epoch 49/100\n",
            "210/210 [==============================] - 5s 22ms/step - loss: 0.4040 - accuracy: 0.8746 - val_loss: 0.4616 - val_accuracy: 0.8606\n",
            "Epoch 50/100\n",
            "210/210 [==============================] - 5s 22ms/step - loss: 0.4037 - accuracy: 0.8748 - val_loss: 0.4615 - val_accuracy: 0.8605\n",
            "Epoch 51/100\n",
            "210/210 [==============================] - 5s 22ms/step - loss: 0.4035 - accuracy: 0.8748 - val_loss: 0.4613 - val_accuracy: 0.8608\n",
            "Epoch 52/100\n",
            "210/210 [==============================] - 5s 22ms/step - loss: 0.4033 - accuracy: 0.8751 - val_loss: 0.4611 - val_accuracy: 0.8608\n",
            "Epoch 53/100\n",
            "210/210 [==============================] - 5s 22ms/step - loss: 0.4031 - accuracy: 0.8749 - val_loss: 0.4609 - val_accuracy: 0.8607\n",
            "Epoch 54/100\n",
            "210/210 [==============================] - 5s 22ms/step - loss: 0.4029 - accuracy: 0.8751 - val_loss: 0.4607 - val_accuracy: 0.8607\n",
            "Epoch 55/100\n",
            "210/210 [==============================] - 5s 22ms/step - loss: 0.4027 - accuracy: 0.8750 - val_loss: 0.4606 - val_accuracy: 0.8608\n",
            "Epoch 56/100\n",
            "210/210 [==============================] - 5s 22ms/step - loss: 0.4025 - accuracy: 0.8750 - val_loss: 0.4604 - val_accuracy: 0.8609\n",
            "Epoch 57/100\n",
            "210/210 [==============================] - 5s 22ms/step - loss: 0.4023 - accuracy: 0.8753 - val_loss: 0.4602 - val_accuracy: 0.8609\n",
            "Epoch 58/100\n",
            "210/210 [==============================] - 5s 22ms/step - loss: 0.4021 - accuracy: 0.8752 - val_loss: 0.4601 - val_accuracy: 0.8612\n",
            "Epoch 59/100\n",
            "210/210 [==============================] - 5s 22ms/step - loss: 0.4019 - accuracy: 0.8752 - val_loss: 0.4599 - val_accuracy: 0.8611\n",
            "Epoch 60/100\n",
            "210/210 [==============================] - 5s 23ms/step - loss: 0.4017 - accuracy: 0.8754 - val_loss: 0.4597 - val_accuracy: 0.8612\n",
            "Epoch 61/100\n",
            "210/210 [==============================] - 5s 22ms/step - loss: 0.4015 - accuracy: 0.8755 - val_loss: 0.4596 - val_accuracy: 0.8614\n",
            "Epoch 62/100\n",
            "210/210 [==============================] - 5s 23ms/step - loss: 0.4013 - accuracy: 0.8754 - val_loss: 0.4595 - val_accuracy: 0.8613\n",
            "Epoch 63/100\n",
            "210/210 [==============================] - 5s 22ms/step - loss: 0.4011 - accuracy: 0.8756 - val_loss: 0.4593 - val_accuracy: 0.8614\n",
            "Epoch 64/100\n",
            "210/210 [==============================] - 5s 23ms/step - loss: 0.4010 - accuracy: 0.8756 - val_loss: 0.4592 - val_accuracy: 0.8616\n",
            "Epoch 65/100\n",
            "210/210 [==============================] - 5s 23ms/step - loss: 0.4008 - accuracy: 0.8755 - val_loss: 0.4590 - val_accuracy: 0.8616\n",
            "Epoch 66/100\n",
            "210/210 [==============================] - 5s 23ms/step - loss: 0.4006 - accuracy: 0.8758 - val_loss: 0.4589 - val_accuracy: 0.8617\n",
            "Epoch 67/100\n",
            "210/210 [==============================] - 5s 23ms/step - loss: 0.4005 - accuracy: 0.8760 - val_loss: 0.4588 - val_accuracy: 0.8618\n",
            "Epoch 68/100\n",
            "210/210 [==============================] - 5s 22ms/step - loss: 0.4003 - accuracy: 0.8757 - val_loss: 0.4586 - val_accuracy: 0.8619\n",
            "Epoch 69/100\n",
            "210/210 [==============================] - 5s 23ms/step - loss: 0.4001 - accuracy: 0.8760 - val_loss: 0.4585 - val_accuracy: 0.8620\n",
            "Epoch 70/100\n",
            "210/210 [==============================] - 5s 23ms/step - loss: 0.4000 - accuracy: 0.8760 - val_loss: 0.4583 - val_accuracy: 0.8620\n",
            "Epoch 71/100\n",
            "210/210 [==============================] - 5s 23ms/step - loss: 0.3998 - accuracy: 0.8760 - val_loss: 0.4582 - val_accuracy: 0.8620\n",
            "Epoch 72/100\n",
            "210/210 [==============================] - 5s 22ms/step - loss: 0.3997 - accuracy: 0.8762 - val_loss: 0.4581 - val_accuracy: 0.8622\n",
            "Epoch 73/100\n",
            "210/210 [==============================] - 5s 23ms/step - loss: 0.3995 - accuracy: 0.8760 - val_loss: 0.4580 - val_accuracy: 0.8623\n",
            "Epoch 74/100\n",
            "210/210 [==============================] - 5s 23ms/step - loss: 0.3993 - accuracy: 0.8762 - val_loss: 0.4578 - val_accuracy: 0.8623\n",
            "Epoch 75/100\n",
            "210/210 [==============================] - 5s 23ms/step - loss: 0.3992 - accuracy: 0.8763 - val_loss: 0.4577 - val_accuracy: 0.8623\n",
            "Epoch 76/100\n",
            "210/210 [==============================] - 5s 23ms/step - loss: 0.3990 - accuracy: 0.8764 - val_loss: 0.4576 - val_accuracy: 0.8624\n",
            "Epoch 77/100\n",
            "210/210 [==============================] - 5s 23ms/step - loss: 0.3989 - accuracy: 0.8766 - val_loss: 0.4575 - val_accuracy: 0.8625\n",
            "Epoch 78/100\n",
            "210/210 [==============================] - 5s 23ms/step - loss: 0.3988 - accuracy: 0.8766 - val_loss: 0.4574 - val_accuracy: 0.8624\n",
            "Epoch 79/100\n",
            "210/210 [==============================] - 5s 24ms/step - loss: 0.3986 - accuracy: 0.8768 - val_loss: 0.4573 - val_accuracy: 0.8626\n",
            "Epoch 80/100\n",
            "210/210 [==============================] - 5s 23ms/step - loss: 0.3985 - accuracy: 0.8769 - val_loss: 0.4571 - val_accuracy: 0.8626\n",
            "Epoch 81/100\n",
            "210/210 [==============================] - 5s 23ms/step - loss: 0.3983 - accuracy: 0.8768 - val_loss: 0.4570 - val_accuracy: 0.8626\n",
            "Epoch 82/100\n",
            "210/210 [==============================] - 5s 23ms/step - loss: 0.3982 - accuracy: 0.8770 - val_loss: 0.4569 - val_accuracy: 0.8627\n",
            "Epoch 83/100\n",
            "210/210 [==============================] - 5s 23ms/step - loss: 0.3981 - accuracy: 0.8769 - val_loss: 0.4568 - val_accuracy: 0.8629\n",
            "Epoch 84/100\n",
            "210/210 [==============================] - 5s 23ms/step - loss: 0.3979 - accuracy: 0.8771 - val_loss: 0.4567 - val_accuracy: 0.8630\n",
            "Epoch 85/100\n",
            "210/210 [==============================] - 5s 23ms/step - loss: 0.3978 - accuracy: 0.8774 - val_loss: 0.4566 - val_accuracy: 0.8629\n",
            "Epoch 86/100\n",
            "210/210 [==============================] - 5s 23ms/step - loss: 0.3976 - accuracy: 0.8772 - val_loss: 0.4565 - val_accuracy: 0.8630\n",
            "Epoch 87/100\n",
            "210/210 [==============================] - 5s 23ms/step - loss: 0.3975 - accuracy: 0.8775 - val_loss: 0.4564 - val_accuracy: 0.8631\n",
            "Epoch 88/100\n",
            "210/210 [==============================] - 5s 23ms/step - loss: 0.3974 - accuracy: 0.8773 - val_loss: 0.4563 - val_accuracy: 0.8631\n",
            "Epoch 89/100\n",
            "210/210 [==============================] - 5s 23ms/step - loss: 0.3972 - accuracy: 0.8773 - val_loss: 0.4562 - val_accuracy: 0.8633\n",
            "Epoch 90/100\n",
            "210/210 [==============================] - 5s 23ms/step - loss: 0.3971 - accuracy: 0.8775 - val_loss: 0.4560 - val_accuracy: 0.8634\n",
            "Epoch 91/100\n",
            "210/210 [==============================] - 5s 23ms/step - loss: 0.3970 - accuracy: 0.8774 - val_loss: 0.4560 - val_accuracy: 0.8632\n",
            "Epoch 92/100\n",
            "210/210 [==============================] - 5s 22ms/step - loss: 0.3969 - accuracy: 0.8775 - val_loss: 0.4558 - val_accuracy: 0.8634\n",
            "Epoch 93/100\n",
            "210/210 [==============================] - 5s 22ms/step - loss: 0.3967 - accuracy: 0.8779 - val_loss: 0.4557 - val_accuracy: 0.8634\n",
            "Epoch 94/100\n",
            "210/210 [==============================] - 5s 23ms/step - loss: 0.3966 - accuracy: 0.8780 - val_loss: 0.4556 - val_accuracy: 0.8634\n",
            "Epoch 95/100\n",
            "210/210 [==============================] - 5s 22ms/step - loss: 0.3965 - accuracy: 0.8776 - val_loss: 0.4556 - val_accuracy: 0.8634\n",
            "Epoch 96/100\n",
            "210/210 [==============================] - 5s 22ms/step - loss: 0.3964 - accuracy: 0.8778 - val_loss: 0.4555 - val_accuracy: 0.8634\n",
            "Epoch 97/100\n",
            "210/210 [==============================] - 5s 23ms/step - loss: 0.3963 - accuracy: 0.8778 - val_loss: 0.4554 - val_accuracy: 0.8636\n",
            "Epoch 98/100\n",
            "210/210 [==============================] - 5s 23ms/step - loss: 0.3961 - accuracy: 0.8779 - val_loss: 0.4553 - val_accuracy: 0.8635\n",
            "Epoch 99/100\n",
            "210/210 [==============================] - 5s 23ms/step - loss: 0.3960 - accuracy: 0.8780 - val_loss: 0.4552 - val_accuracy: 0.8634\n",
            "Epoch 100/100\n",
            "210/210 [==============================] - 5s 23ms/step - loss: 0.3959 - accuracy: 0.8779 - val_loss: 0.4551 - val_accuracy: 0.8636\n"
          ]
        }
      ],
      "source": [
        "#Setting the learning rate and decay in sgd\n",
        "sgd = SGD(lr = 0.0001)\n",
        "# compiling the ANN classifier\n",
        "keras_model.compile(optimizer =sgd, loss = 'categorical_crossentropy', metrics = ['accuracy'])\n",
        "# Fitting the ANN to the Training data\n",
        "history_2 = keras_model.fit(X_train, y_train, validation_data = (X_val, y_val), batch_size = 200, epochs = 100, verbose = 1)"
      ]
    },
    {
      "cell_type": "code",
      "execution_count": 40,
      "metadata": {
        "id": "I7ThimOT8eZq",
        "colab": {
          "base_uri": "https://localhost:8080/"
        },
        "outputId": "08dc8197-aa33-4c23-ef54-b8789443ada0"
      },
      "outputs": [
        {
          "output_type": "stream",
          "name": "stdout",
          "text": [
            "1875/1875 [==============================] - 7s 4ms/step - loss: 0.4551 - accuracy: 0.8636\n",
            "Validation accuracy using learning rate = 0.0001 (SGD) :  0.8636333346366882\n"
          ]
        }
      ],
      "source": [
        "results_sgd = keras_model.evaluate(X_val, y_val)\n",
        "print('Validation accuracy using learning rate = 0.0001 (SGD) : ', results_sgd[1])"
      ]
    },
    {
      "cell_type": "markdown",
      "metadata": {
        "id": "SSvjB8By8i_S"
      },
      "source": [
        "The accuracy of the model on validation data using SGD with learning rate = 0.0001 has improved from 68.19% to 87.27%."
      ]
    },
    {
      "cell_type": "code",
      "execution_count": 41,
      "metadata": {
        "id": "_6nyWKdc8eeV",
        "colab": {
          "base_uri": "https://localhost:8080/",
          "height": 81
        },
        "outputId": "e27e6db7-6472-40be-b61f-cfb14c94a31f"
      },
      "outputs": [
        {
          "output_type": "execute_result",
          "data": {
            "text/html": [
              "\n",
              "  <div id=\"df-9d42ac8c-05a8-4933-a8cc-31e42fc9ba98\">\n",
              "    <div class=\"colab-df-container\">\n",
              "      <div>\n",
              "<style scoped>\n",
              "    .dataframe tbody tr th:only-of-type {\n",
              "        vertical-align: middle;\n",
              "    }\n",
              "\n",
              "    .dataframe tbody tr th {\n",
              "        vertical-align: top;\n",
              "    }\n",
              "\n",
              "    .dataframe thead th {\n",
              "        text-align: right;\n",
              "    }\n",
              "</style>\n",
              "<table border=\"1\" class=\"dataframe\">\n",
              "  <thead>\n",
              "    <tr style=\"text-align: right;\">\n",
              "      <th></th>\n",
              "      <th>Method</th>\n",
              "      <th>Accuracy</th>\n",
              "    </tr>\n",
              "  </thead>\n",
              "  <tbody>\n",
              "    <tr>\n",
              "      <th>1</th>\n",
              "      <td>Basic NN (SGD)</td>\n",
              "      <td>86.36</td>\n",
              "    </tr>\n",
              "  </tbody>\n",
              "</table>\n",
              "</div>\n",
              "      <button class=\"colab-df-convert\" onclick=\"convertToInteractive('df-9d42ac8c-05a8-4933-a8cc-31e42fc9ba98')\"\n",
              "              title=\"Convert this dataframe to an interactive table.\"\n",
              "              style=\"display:none;\">\n",
              "        \n",
              "  <svg xmlns=\"http://www.w3.org/2000/svg\" height=\"24px\"viewBox=\"0 0 24 24\"\n",
              "       width=\"24px\">\n",
              "    <path d=\"M0 0h24v24H0V0z\" fill=\"none\"/>\n",
              "    <path d=\"M18.56 5.44l.94 2.06.94-2.06 2.06-.94-2.06-.94-.94-2.06-.94 2.06-2.06.94zm-11 1L8.5 8.5l.94-2.06 2.06-.94-2.06-.94L8.5 2.5l-.94 2.06-2.06.94zm10 10l.94 2.06.94-2.06 2.06-.94-2.06-.94-.94-2.06-.94 2.06-2.06.94z\"/><path d=\"M17.41 7.96l-1.37-1.37c-.4-.4-.92-.59-1.43-.59-.52 0-1.04.2-1.43.59L10.3 9.45l-7.72 7.72c-.78.78-.78 2.05 0 2.83L4 21.41c.39.39.9.59 1.41.59.51 0 1.02-.2 1.41-.59l7.78-7.78 2.81-2.81c.8-.78.8-2.07 0-2.86zM5.41 20L4 18.59l7.72-7.72 1.47 1.35L5.41 20z\"/>\n",
              "  </svg>\n",
              "      </button>\n",
              "      \n",
              "  <style>\n",
              "    .colab-df-container {\n",
              "      display:flex;\n",
              "      flex-wrap:wrap;\n",
              "      gap: 12px;\n",
              "    }\n",
              "\n",
              "    .colab-df-convert {\n",
              "      background-color: #E8F0FE;\n",
              "      border: none;\n",
              "      border-radius: 50%;\n",
              "      cursor: pointer;\n",
              "      display: none;\n",
              "      fill: #1967D2;\n",
              "      height: 32px;\n",
              "      padding: 0 0 0 0;\n",
              "      width: 32px;\n",
              "    }\n",
              "\n",
              "    .colab-df-convert:hover {\n",
              "      background-color: #E2EBFA;\n",
              "      box-shadow: 0px 1px 2px rgba(60, 64, 67, 0.3), 0px 1px 3px 1px rgba(60, 64, 67, 0.15);\n",
              "      fill: #174EA6;\n",
              "    }\n",
              "\n",
              "    [theme=dark] .colab-df-convert {\n",
              "      background-color: #3B4455;\n",
              "      fill: #D2E3FC;\n",
              "    }\n",
              "\n",
              "    [theme=dark] .colab-df-convert:hover {\n",
              "      background-color: #434B5C;\n",
              "      box-shadow: 0px 1px 3px 1px rgba(0, 0, 0, 0.15);\n",
              "      filter: drop-shadow(0px 1px 2px rgba(0, 0, 0, 0.3));\n",
              "      fill: #FFFFFF;\n",
              "    }\n",
              "  </style>\n",
              "\n",
              "      <script>\n",
              "        const buttonEl =\n",
              "          document.querySelector('#df-9d42ac8c-05a8-4933-a8cc-31e42fc9ba98 button.colab-df-convert');\n",
              "        buttonEl.style.display =\n",
              "          google.colab.kernel.accessAllowed ? 'block' : 'none';\n",
              "\n",
              "        async function convertToInteractive(key) {\n",
              "          const element = document.querySelector('#df-9d42ac8c-05a8-4933-a8cc-31e42fc9ba98');\n",
              "          const dataTable =\n",
              "            await google.colab.kernel.invokeFunction('convertToInteractive',\n",
              "                                                     [key], {});\n",
              "          if (!dataTable) return;\n",
              "\n",
              "          const docLinkHtml = 'Like what you see? Visit the ' +\n",
              "            '<a target=\"_blank\" href=https://colab.research.google.com/notebooks/data_table.ipynb>data table notebook</a>'\n",
              "            + ' to learn more about interactive tables.';\n",
              "          element.innerHTML = '';\n",
              "          dataTable['output_type'] = 'display_data';\n",
              "          await google.colab.output.renderOutput(dataTable, element);\n",
              "          const docLink = document.createElement('div');\n",
              "          docLink.innerHTML = docLinkHtml;\n",
              "          element.appendChild(docLink);\n",
              "        }\n",
              "      </script>\n",
              "    </div>\n",
              "  </div>\n",
              "  "
            ],
            "text/plain": [
              "           Method  Accuracy\n",
              "1  Basic NN (SGD)     86.36"
            ]
          },
          "metadata": {},
          "execution_count": 41
        }
      ],
      "source": [
        "#Store the accuracy results for each model in a dataframe for final comparison\n",
        "results_on_val = pd.DataFrame({'Method':['Basic NN (SGD)'], 'Accuracy': round((results_sgd[1] * 100), 2)}, index={'1'})\n",
        "results_on_val = results_on_val[['Method', 'Accuracy']]\n",
        "results_on_val"
      ]
    },
    {
      "cell_type": "code",
      "execution_count": null,
      "metadata": {
        "id": "g_DhQFri8ekL"
      },
      "outputs": [],
      "source": [
        ""
      ]
    },
    {
      "cell_type": "code",
      "execution_count": 42,
      "metadata": {
        "colab": {
          "base_uri": "https://localhost:8080/"
        },
        "id": "AQ3H_UhJ8ey2",
        "outputId": "3e8cbd80-e465-43d2-8ed2-ef3a6c059e2b"
      },
      "outputs": [
        {
          "output_type": "stream",
          "name": "stdout",
          "text": [
            "Epoch 1/100\n"
          ]
        },
        {
          "output_type": "stream",
          "name": "stderr",
          "text": [
            "/usr/local/lib/python3.7/dist-packages/keras/optimizer_v2/adam.py:105: UserWarning: The `lr` argument is deprecated, use `learning_rate` instead.\n",
            "  super(Adam, self).__init__(name, **kwargs)\n"
          ]
        },
        {
          "output_type": "stream",
          "name": "stdout",
          "text": [
            "210/210 [==============================] - 5s 24ms/step - loss: 0.4088 - accuracy: 0.8725 - val_loss: 0.4614 - val_accuracy: 0.8594\n",
            "Epoch 2/100\n",
            "210/210 [==============================] - 5s 23ms/step - loss: 0.3982 - accuracy: 0.8765 - val_loss: 0.4478 - val_accuracy: 0.8644\n",
            "Epoch 3/100\n",
            "210/210 [==============================] - 5s 22ms/step - loss: 0.3918 - accuracy: 0.8773 - val_loss: 0.4464 - val_accuracy: 0.8654\n",
            "Epoch 4/100\n",
            "210/210 [==============================] - 5s 22ms/step - loss: 0.3862 - accuracy: 0.8803 - val_loss: 0.4476 - val_accuracy: 0.8649\n",
            "Epoch 5/100\n",
            "210/210 [==============================] - 5s 22ms/step - loss: 0.3829 - accuracy: 0.8811 - val_loss: 0.4376 - val_accuracy: 0.8682\n",
            "Epoch 6/100\n",
            "210/210 [==============================] - 5s 22ms/step - loss: 0.3783 - accuracy: 0.8827 - val_loss: 0.4444 - val_accuracy: 0.8669\n",
            "Epoch 7/100\n",
            "210/210 [==============================] - 5s 22ms/step - loss: 0.3738 - accuracy: 0.8850 - val_loss: 0.4388 - val_accuracy: 0.8680\n",
            "Epoch 8/100\n",
            "210/210 [==============================] - 5s 22ms/step - loss: 0.3674 - accuracy: 0.8863 - val_loss: 0.4313 - val_accuracy: 0.8717\n",
            "Epoch 9/100\n",
            "210/210 [==============================] - 5s 22ms/step - loss: 0.3631 - accuracy: 0.8874 - val_loss: 0.4234 - val_accuracy: 0.8744\n",
            "Epoch 10/100\n",
            "210/210 [==============================] - 5s 22ms/step - loss: 0.3606 - accuracy: 0.8890 - val_loss: 0.4287 - val_accuracy: 0.8719\n",
            "Epoch 11/100\n",
            "210/210 [==============================] - 5s 22ms/step - loss: 0.3553 - accuracy: 0.8904 - val_loss: 0.4245 - val_accuracy: 0.8738\n",
            "Epoch 12/100\n",
            "210/210 [==============================] - 5s 22ms/step - loss: 0.3519 - accuracy: 0.8912 - val_loss: 0.4216 - val_accuracy: 0.8756\n",
            "Epoch 13/100\n",
            "210/210 [==============================] - 5s 22ms/step - loss: 0.3505 - accuracy: 0.8917 - val_loss: 0.4172 - val_accuracy: 0.8762\n",
            "Epoch 14/100\n",
            "210/210 [==============================] - 5s 22ms/step - loss: 0.3464 - accuracy: 0.8929 - val_loss: 0.4148 - val_accuracy: 0.8777\n",
            "Epoch 15/100\n",
            "210/210 [==============================] - 5s 22ms/step - loss: 0.3422 - accuracy: 0.8949 - val_loss: 0.4120 - val_accuracy: 0.8788\n",
            "Epoch 16/100\n",
            "210/210 [==============================] - 5s 22ms/step - loss: 0.3396 - accuracy: 0.8953 - val_loss: 0.4120 - val_accuracy: 0.8784\n",
            "Epoch 17/100\n",
            "210/210 [==============================] - 5s 22ms/step - loss: 0.3358 - accuracy: 0.8970 - val_loss: 0.4096 - val_accuracy: 0.8799\n",
            "Epoch 18/100\n",
            "210/210 [==============================] - 5s 22ms/step - loss: 0.3317 - accuracy: 0.8973 - val_loss: 0.4107 - val_accuracy: 0.8802\n",
            "Epoch 19/100\n",
            "210/210 [==============================] - 5s 22ms/step - loss: 0.3309 - accuracy: 0.8977 - val_loss: 0.4098 - val_accuracy: 0.8795\n",
            "Epoch 20/100\n",
            "210/210 [==============================] - 5s 22ms/step - loss: 0.3253 - accuracy: 0.9003 - val_loss: 0.4028 - val_accuracy: 0.8818\n",
            "Epoch 21/100\n",
            "210/210 [==============================] - 5s 22ms/step - loss: 0.3214 - accuracy: 0.9006 - val_loss: 0.3980 - val_accuracy: 0.8848\n",
            "Epoch 22/100\n",
            "210/210 [==============================] - 5s 22ms/step - loss: 0.3206 - accuracy: 0.9008 - val_loss: 0.4023 - val_accuracy: 0.8819\n",
            "Epoch 23/100\n",
            "210/210 [==============================] - 5s 22ms/step - loss: 0.3154 - accuracy: 0.9030 - val_loss: 0.3994 - val_accuracy: 0.8832\n",
            "Epoch 24/100\n",
            "210/210 [==============================] - 5s 22ms/step - loss: 0.3142 - accuracy: 0.9035 - val_loss: 0.4014 - val_accuracy: 0.8821\n",
            "Epoch 25/100\n",
            "210/210 [==============================] - 5s 22ms/step - loss: 0.3103 - accuracy: 0.9046 - val_loss: 0.3954 - val_accuracy: 0.8848\n",
            "Epoch 26/100\n",
            "210/210 [==============================] - 5s 22ms/step - loss: 0.3076 - accuracy: 0.9055 - val_loss: 0.3943 - val_accuracy: 0.8851\n",
            "Epoch 27/100\n",
            "210/210 [==============================] - 5s 22ms/step - loss: 0.3040 - accuracy: 0.9067 - val_loss: 0.3918 - val_accuracy: 0.8868\n",
            "Epoch 28/100\n",
            "210/210 [==============================] - 5s 22ms/step - loss: 0.3013 - accuracy: 0.9086 - val_loss: 0.3877 - val_accuracy: 0.8890\n",
            "Epoch 29/100\n",
            "210/210 [==============================] - 5s 22ms/step - loss: 0.2997 - accuracy: 0.9081 - val_loss: 0.3941 - val_accuracy: 0.8854\n",
            "Epoch 30/100\n",
            "210/210 [==============================] - 5s 22ms/step - loss: 0.2964 - accuracy: 0.9100 - val_loss: 0.3840 - val_accuracy: 0.8897\n",
            "Epoch 31/100\n",
            "210/210 [==============================] - 5s 22ms/step - loss: 0.2935 - accuracy: 0.9102 - val_loss: 0.3824 - val_accuracy: 0.8902\n",
            "Epoch 32/100\n",
            "210/210 [==============================] - 5s 22ms/step - loss: 0.2902 - accuracy: 0.9112 - val_loss: 0.3813 - val_accuracy: 0.8911\n",
            "Epoch 33/100\n",
            "210/210 [==============================] - 5s 22ms/step - loss: 0.2868 - accuracy: 0.9129 - val_loss: 0.3831 - val_accuracy: 0.8904\n",
            "Epoch 34/100\n",
            "210/210 [==============================] - 5s 22ms/step - loss: 0.2838 - accuracy: 0.9142 - val_loss: 0.3792 - val_accuracy: 0.8924\n",
            "Epoch 35/100\n",
            "210/210 [==============================] - 5s 22ms/step - loss: 0.2819 - accuracy: 0.9140 - val_loss: 0.3822 - val_accuracy: 0.8903\n",
            "Epoch 36/100\n",
            "210/210 [==============================] - 5s 22ms/step - loss: 0.2788 - accuracy: 0.9160 - val_loss: 0.3803 - val_accuracy: 0.8926\n",
            "Epoch 37/100\n",
            "210/210 [==============================] - 5s 22ms/step - loss: 0.2768 - accuracy: 0.9158 - val_loss: 0.3845 - val_accuracy: 0.8903\n",
            "Epoch 38/100\n",
            "210/210 [==============================] - 5s 22ms/step - loss: 0.2750 - accuracy: 0.9173 - val_loss: 0.3770 - val_accuracy: 0.8918\n",
            "Epoch 39/100\n",
            "210/210 [==============================] - 5s 22ms/step - loss: 0.2711 - accuracy: 0.9182 - val_loss: 0.3674 - val_accuracy: 0.8971\n",
            "Epoch 40/100\n",
            "210/210 [==============================] - 5s 22ms/step - loss: 0.2686 - accuracy: 0.9183 - val_loss: 0.3758 - val_accuracy: 0.8940\n",
            "Epoch 41/100\n",
            "210/210 [==============================] - 5s 22ms/step - loss: 0.2647 - accuracy: 0.9211 - val_loss: 0.3716 - val_accuracy: 0.8952\n",
            "Epoch 42/100\n",
            "210/210 [==============================] - 5s 22ms/step - loss: 0.2627 - accuracy: 0.9206 - val_loss: 0.3705 - val_accuracy: 0.8953\n",
            "Epoch 43/100\n",
            "210/210 [==============================] - 5s 22ms/step - loss: 0.2598 - accuracy: 0.9217 - val_loss: 0.3677 - val_accuracy: 0.8975\n",
            "Epoch 44/100\n",
            "210/210 [==============================] - 5s 22ms/step - loss: 0.2574 - accuracy: 0.9231 - val_loss: 0.3625 - val_accuracy: 0.8999\n",
            "Epoch 45/100\n",
            "210/210 [==============================] - 5s 22ms/step - loss: 0.2567 - accuracy: 0.9228 - val_loss: 0.3636 - val_accuracy: 0.8985\n",
            "Epoch 46/100\n",
            "210/210 [==============================] - 5s 22ms/step - loss: 0.2534 - accuracy: 0.9230 - val_loss: 0.3628 - val_accuracy: 0.8997\n",
            "Epoch 47/100\n",
            "210/210 [==============================] - 5s 22ms/step - loss: 0.2509 - accuracy: 0.9252 - val_loss: 0.3617 - val_accuracy: 0.9001\n",
            "Epoch 48/100\n",
            "210/210 [==============================] - 5s 22ms/step - loss: 0.2470 - accuracy: 0.9268 - val_loss: 0.3543 - val_accuracy: 0.9026\n",
            "Epoch 49/100\n",
            "210/210 [==============================] - 5s 22ms/step - loss: 0.2456 - accuracy: 0.9264 - val_loss: 0.3554 - val_accuracy: 0.9024\n",
            "Epoch 50/100\n",
            "210/210 [==============================] - 5s 22ms/step - loss: 0.2409 - accuracy: 0.9283 - val_loss: 0.3546 - val_accuracy: 0.9033\n",
            "Epoch 51/100\n",
            "210/210 [==============================] - 5s 22ms/step - loss: 0.2390 - accuracy: 0.9292 - val_loss: 0.3535 - val_accuracy: 0.9040\n",
            "Epoch 52/100\n",
            "210/210 [==============================] - 5s 22ms/step - loss: 0.2377 - accuracy: 0.9294 - val_loss: 0.3530 - val_accuracy: 0.9042\n",
            "Epoch 53/100\n",
            "210/210 [==============================] - 5s 22ms/step - loss: 0.2364 - accuracy: 0.9300 - val_loss: 0.3509 - val_accuracy: 0.9045\n",
            "Epoch 54/100\n",
            "210/210 [==============================] - 5s 23ms/step - loss: 0.2334 - accuracy: 0.9301 - val_loss: 0.3668 - val_accuracy: 0.8989\n",
            "Epoch 55/100\n",
            "210/210 [==============================] - 5s 22ms/step - loss: 0.2306 - accuracy: 0.9315 - val_loss: 0.3534 - val_accuracy: 0.9031\n",
            "Epoch 56/100\n",
            "210/210 [==============================] - 5s 22ms/step - loss: 0.2292 - accuracy: 0.9321 - val_loss: 0.3543 - val_accuracy: 0.9042\n",
            "Epoch 57/100\n",
            "210/210 [==============================] - 5s 22ms/step - loss: 0.2271 - accuracy: 0.9317 - val_loss: 0.3513 - val_accuracy: 0.9062\n",
            "Epoch 58/100\n",
            "210/210 [==============================] - 5s 22ms/step - loss: 0.2252 - accuracy: 0.9328 - val_loss: 0.3554 - val_accuracy: 0.9035\n",
            "Epoch 59/100\n",
            "210/210 [==============================] - 6s 27ms/step - loss: 0.2205 - accuracy: 0.9345 - val_loss: 0.3496 - val_accuracy: 0.9059\n",
            "Epoch 60/100\n",
            "210/210 [==============================] - 5s 23ms/step - loss: 0.2172 - accuracy: 0.9355 - val_loss: 0.3449 - val_accuracy: 0.9086\n",
            "Epoch 61/100\n",
            "210/210 [==============================] - 5s 22ms/step - loss: 0.2152 - accuracy: 0.9367 - val_loss: 0.3418 - val_accuracy: 0.9104\n",
            "Epoch 62/100\n",
            "210/210 [==============================] - 5s 22ms/step - loss: 0.2163 - accuracy: 0.9358 - val_loss: 0.3445 - val_accuracy: 0.9091\n",
            "Epoch 63/100\n",
            "210/210 [==============================] - 5s 22ms/step - loss: 0.2131 - accuracy: 0.9374 - val_loss: 0.3431 - val_accuracy: 0.9095\n",
            "Epoch 64/100\n",
            "210/210 [==============================] - 5s 22ms/step - loss: 0.2098 - accuracy: 0.9383 - val_loss: 0.3513 - val_accuracy: 0.9072\n",
            "Epoch 65/100\n",
            "210/210 [==============================] - 5s 22ms/step - loss: 0.2080 - accuracy: 0.9392 - val_loss: 0.3403 - val_accuracy: 0.9107\n",
            "Epoch 66/100\n",
            "210/210 [==============================] - 5s 22ms/step - loss: 0.2036 - accuracy: 0.9409 - val_loss: 0.3400 - val_accuracy: 0.9115\n",
            "Epoch 67/100\n",
            "210/210 [==============================] - 5s 22ms/step - loss: 0.2008 - accuracy: 0.9413 - val_loss: 0.3478 - val_accuracy: 0.9083\n",
            "Epoch 68/100\n",
            "210/210 [==============================] - 5s 22ms/step - loss: 0.2002 - accuracy: 0.9410 - val_loss: 0.3442 - val_accuracy: 0.9099\n",
            "Epoch 69/100\n",
            "210/210 [==============================] - 5s 22ms/step - loss: 0.1965 - accuracy: 0.9430 - val_loss: 0.3519 - val_accuracy: 0.9065\n",
            "Epoch 70/100\n",
            "210/210 [==============================] - 5s 22ms/step - loss: 0.1978 - accuracy: 0.9419 - val_loss: 0.3441 - val_accuracy: 0.9110\n",
            "Epoch 71/100\n",
            "210/210 [==============================] - 5s 22ms/step - loss: 0.1956 - accuracy: 0.9430 - val_loss: 0.3432 - val_accuracy: 0.9111\n",
            "Epoch 72/100\n",
            "210/210 [==============================] - 5s 22ms/step - loss: 0.1935 - accuracy: 0.9436 - val_loss: 0.3368 - val_accuracy: 0.9142\n",
            "Epoch 73/100\n",
            "210/210 [==============================] - 5s 22ms/step - loss: 0.1895 - accuracy: 0.9443 - val_loss: 0.3400 - val_accuracy: 0.9127\n",
            "Epoch 74/100\n",
            "210/210 [==============================] - 5s 22ms/step - loss: 0.1871 - accuracy: 0.9453 - val_loss: 0.3383 - val_accuracy: 0.9142\n",
            "Epoch 75/100\n",
            "210/210 [==============================] - 5s 22ms/step - loss: 0.1857 - accuracy: 0.9458 - val_loss: 0.3335 - val_accuracy: 0.9161\n",
            "Epoch 76/100\n",
            "210/210 [==============================] - 5s 22ms/step - loss: 0.1851 - accuracy: 0.9464 - val_loss: 0.3355 - val_accuracy: 0.9152\n",
            "Epoch 77/100\n",
            "210/210 [==============================] - 5s 22ms/step - loss: 0.1808 - accuracy: 0.9480 - val_loss: 0.3374 - val_accuracy: 0.9149\n",
            "Epoch 78/100\n",
            "210/210 [==============================] - 5s 22ms/step - loss: 0.1792 - accuracy: 0.9481 - val_loss: 0.3384 - val_accuracy: 0.9141\n",
            "Epoch 79/100\n",
            "210/210 [==============================] - 5s 22ms/step - loss: 0.1774 - accuracy: 0.9485 - val_loss: 0.3388 - val_accuracy: 0.9152\n",
            "Epoch 80/100\n",
            "210/210 [==============================] - 5s 22ms/step - loss: 0.1746 - accuracy: 0.9500 - val_loss: 0.3359 - val_accuracy: 0.9157\n",
            "Epoch 81/100\n",
            "210/210 [==============================] - 5s 22ms/step - loss: 0.1736 - accuracy: 0.9494 - val_loss: 0.3303 - val_accuracy: 0.9175\n",
            "Epoch 82/100\n",
            "210/210 [==============================] - 5s 22ms/step - loss: 0.1705 - accuracy: 0.9506 - val_loss: 0.3371 - val_accuracy: 0.9159\n",
            "Epoch 83/100\n",
            "210/210 [==============================] - 5s 22ms/step - loss: 0.1693 - accuracy: 0.9518 - val_loss: 0.3363 - val_accuracy: 0.9161\n",
            "Epoch 84/100\n",
            "210/210 [==============================] - 5s 22ms/step - loss: 0.1684 - accuracy: 0.9509 - val_loss: 0.3366 - val_accuracy: 0.9169\n",
            "Epoch 85/100\n",
            "210/210 [==============================] - 5s 22ms/step - loss: 0.1640 - accuracy: 0.9533 - val_loss: 0.3272 - val_accuracy: 0.9213\n",
            "Epoch 86/100\n",
            "210/210 [==============================] - 5s 22ms/step - loss: 0.1622 - accuracy: 0.9534 - val_loss: 0.3327 - val_accuracy: 0.9194\n",
            "Epoch 87/100\n",
            "210/210 [==============================] - 5s 22ms/step - loss: 0.1619 - accuracy: 0.9529 - val_loss: 0.3323 - val_accuracy: 0.9192\n",
            "Epoch 88/100\n",
            "210/210 [==============================] - 5s 22ms/step - loss: 0.1598 - accuracy: 0.9529 - val_loss: 0.3295 - val_accuracy: 0.9210\n",
            "Epoch 89/100\n",
            "210/210 [==============================] - 5s 22ms/step - loss: 0.1556 - accuracy: 0.9563 - val_loss: 0.3260 - val_accuracy: 0.9223\n",
            "Epoch 90/100\n",
            "210/210 [==============================] - 5s 22ms/step - loss: 0.1541 - accuracy: 0.9558 - val_loss: 0.3324 - val_accuracy: 0.9200\n",
            "Epoch 91/100\n",
            "210/210 [==============================] - 5s 22ms/step - loss: 0.1521 - accuracy: 0.9571 - val_loss: 0.3362 - val_accuracy: 0.9184\n",
            "Epoch 92/100\n",
            "210/210 [==============================] - 5s 22ms/step - loss: 0.1508 - accuracy: 0.9569 - val_loss: 0.3355 - val_accuracy: 0.9194\n",
            "Epoch 93/100\n",
            "210/210 [==============================] - 5s 22ms/step - loss: 0.1501 - accuracy: 0.9565 - val_loss: 0.3313 - val_accuracy: 0.9218\n",
            "Epoch 94/100\n",
            "210/210 [==============================] - 5s 22ms/step - loss: 0.1493 - accuracy: 0.9570 - val_loss: 0.3345 - val_accuracy: 0.9206\n",
            "Epoch 95/100\n",
            "210/210 [==============================] - 5s 22ms/step - loss: 0.1478 - accuracy: 0.9574 - val_loss: 0.3334 - val_accuracy: 0.9208\n",
            "Epoch 96/100\n",
            "210/210 [==============================] - 5s 22ms/step - loss: 0.1423 - accuracy: 0.9594 - val_loss: 0.3299 - val_accuracy: 0.9240\n",
            "Epoch 97/100\n",
            "210/210 [==============================] - 5s 22ms/step - loss: 0.1422 - accuracy: 0.9598 - val_loss: 0.3372 - val_accuracy: 0.9198\n",
            "Epoch 98/100\n",
            "210/210 [==============================] - 5s 22ms/step - loss: 0.1405 - accuracy: 0.9599 - val_loss: 0.3304 - val_accuracy: 0.9240\n",
            "Epoch 99/100\n",
            "210/210 [==============================] - 5s 22ms/step - loss: 0.1380 - accuracy: 0.9614 - val_loss: 0.3270 - val_accuracy: 0.9259\n",
            "Epoch 100/100\n",
            "210/210 [==============================] - 5s 22ms/step - loss: 0.1368 - accuracy: 0.9615 - val_loss: 0.3274 - val_accuracy: 0.9260\n"
          ]
        }
      ],
      "source": [
        "### Now, let's try to change the learning rate in ADAM optimizer\n",
        "#As, we are taking learning rate small means model will learn slowly. So, we have to take more number of epochs.\n",
        "#Setting the learning rate and decay in adam\n",
        "adam = Adam(lr = 0.0001)\n",
        "# compiling the ANN classifier\n",
        "keras_model.compile(optimizer = adam, loss = 'categorical_crossentropy', metrics = ['accuracy'])\n",
        "# Fitting the ANN to the Training data\n",
        "history_3 = keras_model.fit(X_train, y_train, validation_data=(X_val, y_val), batch_size = 200, epochs = 100, verbose = 1)"
      ]
    },
    {
      "cell_type": "code",
      "execution_count": 43,
      "metadata": {
        "id": "KXUi4maq8e36",
        "colab": {
          "base_uri": "https://localhost:8080/"
        },
        "outputId": "d59d2653-c721-4ab3-c0e4-3ee1177253df"
      },
      "outputs": [
        {
          "output_type": "stream",
          "name": "stdout",
          "text": [
            "1875/1875 [==============================] - 6s 3ms/step - loss: 0.3274 - accuracy: 0.9260\n",
            "Validation accuracy using learning rate = 0.0001 (ADAM) :  0.9260166883468628\n"
          ]
        }
      ],
      "source": [
        "results_adam = keras_model.evaluate(X_val, y_val)\n",
        "print('Validation accuracy using learning rate = 0.0001 (ADAM) : ', results_adam[1])"
      ]
    },
    {
      "cell_type": "markdown",
      "source": [
        "The accuracy of the model on validation data using ADAM with learning rate = 0.0001 has shown significant improvement from 84.06% to 92.60%\n"
      ],
      "metadata": {
        "id": "zPnIvXs_XvfN"
      }
    },
    {
      "cell_type": "code",
      "execution_count": 44,
      "metadata": {
        "id": "2gKsSSAl7hJz",
        "colab": {
          "base_uri": "https://localhost:8080/",
          "height": 112
        },
        "outputId": "dde08058-f03e-4f4b-992e-957f3f46b3c1"
      },
      "outputs": [
        {
          "output_type": "execute_result",
          "data": {
            "text/html": [
              "\n",
              "  <div id=\"df-733b8dbf-5967-47d3-86b3-4394a60f1bd1\">\n",
              "    <div class=\"colab-df-container\">\n",
              "      <div>\n",
              "<style scoped>\n",
              "    .dataframe tbody tr th:only-of-type {\n",
              "        vertical-align: middle;\n",
              "    }\n",
              "\n",
              "    .dataframe tbody tr th {\n",
              "        vertical-align: top;\n",
              "    }\n",
              "\n",
              "    .dataframe thead th {\n",
              "        text-align: right;\n",
              "    }\n",
              "</style>\n",
              "<table border=\"1\" class=\"dataframe\">\n",
              "  <thead>\n",
              "    <tr style=\"text-align: right;\">\n",
              "      <th></th>\n",
              "      <th>Method</th>\n",
              "      <th>Accuracy</th>\n",
              "    </tr>\n",
              "  </thead>\n",
              "  <tbody>\n",
              "    <tr>\n",
              "      <th>1</th>\n",
              "      <td>Basic NN (SGD)</td>\n",
              "      <td>86.36</td>\n",
              "    </tr>\n",
              "    <tr>\n",
              "      <th>2</th>\n",
              "      <td>Basic NN (Adam)</td>\n",
              "      <td>92.60</td>\n",
              "    </tr>\n",
              "  </tbody>\n",
              "</table>\n",
              "</div>\n",
              "      <button class=\"colab-df-convert\" onclick=\"convertToInteractive('df-733b8dbf-5967-47d3-86b3-4394a60f1bd1')\"\n",
              "              title=\"Convert this dataframe to an interactive table.\"\n",
              "              style=\"display:none;\">\n",
              "        \n",
              "  <svg xmlns=\"http://www.w3.org/2000/svg\" height=\"24px\"viewBox=\"0 0 24 24\"\n",
              "       width=\"24px\">\n",
              "    <path d=\"M0 0h24v24H0V0z\" fill=\"none\"/>\n",
              "    <path d=\"M18.56 5.44l.94 2.06.94-2.06 2.06-.94-2.06-.94-.94-2.06-.94 2.06-2.06.94zm-11 1L8.5 8.5l.94-2.06 2.06-.94-2.06-.94L8.5 2.5l-.94 2.06-2.06.94zm10 10l.94 2.06.94-2.06 2.06-.94-2.06-.94-.94-2.06-.94 2.06-2.06.94z\"/><path d=\"M17.41 7.96l-1.37-1.37c-.4-.4-.92-.59-1.43-.59-.52 0-1.04.2-1.43.59L10.3 9.45l-7.72 7.72c-.78.78-.78 2.05 0 2.83L4 21.41c.39.39.9.59 1.41.59.51 0 1.02-.2 1.41-.59l7.78-7.78 2.81-2.81c.8-.78.8-2.07 0-2.86zM5.41 20L4 18.59l7.72-7.72 1.47 1.35L5.41 20z\"/>\n",
              "  </svg>\n",
              "      </button>\n",
              "      \n",
              "  <style>\n",
              "    .colab-df-container {\n",
              "      display:flex;\n",
              "      flex-wrap:wrap;\n",
              "      gap: 12px;\n",
              "    }\n",
              "\n",
              "    .colab-df-convert {\n",
              "      background-color: #E8F0FE;\n",
              "      border: none;\n",
              "      border-radius: 50%;\n",
              "      cursor: pointer;\n",
              "      display: none;\n",
              "      fill: #1967D2;\n",
              "      height: 32px;\n",
              "      padding: 0 0 0 0;\n",
              "      width: 32px;\n",
              "    }\n",
              "\n",
              "    .colab-df-convert:hover {\n",
              "      background-color: #E2EBFA;\n",
              "      box-shadow: 0px 1px 2px rgba(60, 64, 67, 0.3), 0px 1px 3px 1px rgba(60, 64, 67, 0.15);\n",
              "      fill: #174EA6;\n",
              "    }\n",
              "\n",
              "    [theme=dark] .colab-df-convert {\n",
              "      background-color: #3B4455;\n",
              "      fill: #D2E3FC;\n",
              "    }\n",
              "\n",
              "    [theme=dark] .colab-df-convert:hover {\n",
              "      background-color: #434B5C;\n",
              "      box-shadow: 0px 1px 3px 1px rgba(0, 0, 0, 0.15);\n",
              "      filter: drop-shadow(0px 1px 2px rgba(0, 0, 0, 0.3));\n",
              "      fill: #FFFFFF;\n",
              "    }\n",
              "  </style>\n",
              "\n",
              "      <script>\n",
              "        const buttonEl =\n",
              "          document.querySelector('#df-733b8dbf-5967-47d3-86b3-4394a60f1bd1 button.colab-df-convert');\n",
              "        buttonEl.style.display =\n",
              "          google.colab.kernel.accessAllowed ? 'block' : 'none';\n",
              "\n",
              "        async function convertToInteractive(key) {\n",
              "          const element = document.querySelector('#df-733b8dbf-5967-47d3-86b3-4394a60f1bd1');\n",
              "          const dataTable =\n",
              "            await google.colab.kernel.invokeFunction('convertToInteractive',\n",
              "                                                     [key], {});\n",
              "          if (!dataTable) return;\n",
              "\n",
              "          const docLinkHtml = 'Like what you see? Visit the ' +\n",
              "            '<a target=\"_blank\" href=https://colab.research.google.com/notebooks/data_table.ipynb>data table notebook</a>'\n",
              "            + ' to learn more about interactive tables.';\n",
              "          element.innerHTML = '';\n",
              "          dataTable['output_type'] = 'display_data';\n",
              "          await google.colab.output.renderOutput(dataTable, element);\n",
              "          const docLink = document.createElement('div');\n",
              "          docLink.innerHTML = docLinkHtml;\n",
              "          element.appendChild(docLink);\n",
              "        }\n",
              "      </script>\n",
              "    </div>\n",
              "  </div>\n",
              "  "
            ],
            "text/plain": [
              "            Method  Accuracy\n",
              "1   Basic NN (SGD)     86.36\n",
              "2  Basic NN (Adam)     92.60"
            ]
          },
          "metadata": {},
          "execution_count": 44
        }
      ],
      "source": [
        "tempResultsDf = pd.DataFrame({'Method':['Basic NN (Adam)'], 'Accuracy': round((results_adam[1] * 100), 2)}, index={'2'})\n",
        "results_on_val= pd.concat([results_on_val, tempResultsDf])\n",
        "results_on_val = results_on_val[['Method', 'Accuracy']]\n",
        "results_on_val"
      ]
    },
    {
      "cell_type": "code",
      "execution_count": 45,
      "metadata": {
        "id": "ITtDnzut7hEl"
      },
      "outputs": [],
      "source": [
        "## Implementing  A nn \n",
        "#Initialize the Artificial Neural Network Classifier\n",
        "keras_model_2 = Sequential()"
      ]
    },
    {
      "cell_type": "code",
      "execution_count": 46,
      "metadata": {
        "id": "TVaGsuLm9JvN"
      },
      "outputs": [],
      "source": [
        "# Input Layer\n",
        "#Adding Input layer and activation functions ReLU\n",
        "keras_model_2.add(Dense(512, kernel_initializer = 'he_normal', input_shape = (1024, )))\n",
        "\n",
        "#Adding Activation function\n",
        "keras_model_2.add(Activation('relu'))\n",
        "\n",
        "#Hidden Layer 1\n",
        "#Adding first Hidden layer of 256 nodes\n",
        "keras_model_2.add(Dense(256, kernel_initializer = 'he_normal'))\n",
        "\n",
        "#Adding Activation function\n",
        "keras_model_2.add(Activation('relu'))\n",
        "\n",
        "#Hidden Layer 2\n",
        "#Adding second Hidden layer of 128 nodes\n",
        "keras_model_2.add(Dense(128, kernel_initializer = 'he_normal'))\n",
        "\n",
        "#Adding Activation function\n",
        "keras_model_2.add(Activation('relu'))\n",
        "\n",
        "#Hidden Layer 3\n",
        "#Adding third Hidden layer of 64 nodes\n",
        "keras_model_2.add(Dense(64, kernel_initializer = 'he_normal'))\n",
        "\n",
        "#Adding Activation function\n",
        "keras_model_2.add(Activation('relu'))\n",
        "\n",
        "#Hidden Layer 4\n",
        "#Adding fourth Hidden layer of 32 nodes\n",
        "keras_model_2.add(Dense(32, kernel_initializer = 'he_normal'))\n",
        "\n",
        "#Adding Activation function\n",
        "keras_model_2.add(Activation('relu'))\n",
        "\n",
        "# Output Layer\n",
        "#Adding output layer which is of 10 nodes (digits)\n",
        "keras_model_2.add(Dense(10))\n",
        "#Adding Activation function\n",
        "# Here, we are using softmax function because we have multiclass classsification\n",
        "keras_model_2.add(Activation('softmax'))"
      ]
    },
    {
      "cell_type": "code",
      "execution_count": 47,
      "metadata": {
        "colab": {
          "base_uri": "https://localhost:8080/"
        },
        "id": "pnPgUa_97hCY",
        "outputId": "45a13efb-232d-4e74-fdcc-f91cb38280f6"
      },
      "outputs": [
        {
          "output_type": "stream",
          "name": "stdout",
          "text": [
            "Model: \"sequential_1\"\n",
            "_________________________________________________________________\n",
            " Layer (type)                Output Shape              Param #   \n",
            "=================================================================\n",
            " dense_6 (Dense)             (None, 512)               524800    \n",
            "                                                                 \n",
            " activation_6 (Activation)   (None, 512)               0         \n",
            "                                                                 \n",
            " dense_7 (Dense)             (None, 256)               131328    \n",
            "                                                                 \n",
            " activation_7 (Activation)   (None, 256)               0         \n",
            "                                                                 \n",
            " dense_8 (Dense)             (None, 128)               32896     \n",
            "                                                                 \n",
            " activation_8 (Activation)   (None, 128)               0         \n",
            "                                                                 \n",
            " dense_9 (Dense)             (None, 64)                8256      \n",
            "                                                                 \n",
            " activation_9 (Activation)   (None, 64)                0         \n",
            "                                                                 \n",
            " dense_10 (Dense)            (None, 32)                2080      \n",
            "                                                                 \n",
            " activation_10 (Activation)  (None, 32)                0         \n",
            "                                                                 \n",
            " dense_11 (Dense)            (None, 10)                330       \n",
            "                                                                 \n",
            " activation_11 (Activation)  (None, 10)                0         \n",
            "                                                                 \n",
            "=================================================================\n",
            "Total params: 699,690\n",
            "Trainable params: 699,690\n",
            "Non-trainable params: 0\n",
            "_________________________________________________________________\n"
          ]
        }
      ],
      "source": [
        "keras_model_2.summary()"
      ]
    },
    {
      "cell_type": "code",
      "execution_count": 48,
      "metadata": {
        "colab": {
          "base_uri": "https://localhost:8080/"
        },
        "id": "zOtk1zR09J0e",
        "outputId": "30f239a1-7f1a-4e98-f496-9fc121e68c4e"
      },
      "outputs": [
        {
          "output_type": "stream",
          "name": "stderr",
          "text": [
            "/usr/local/lib/python3.7/dist-packages/keras/optimizer_v2/gradient_descent.py:102: UserWarning: The `lr` argument is deprecated, use `learning_rate` instead.\n",
            "  super(SGD, self).__init__(name, **kwargs)\n"
          ]
        }
      ],
      "source": [
        "#Setting the learning rate in sgd\n",
        "sgd = SGD(lr = 0.001)\n",
        "# compiling the ANN classifier\n",
        "keras_model_2.compile(optimizer = sgd, loss = 'categorical_crossentropy', metrics = ['accuracy'])"
      ]
    },
    {
      "cell_type": "code",
      "execution_count": 49,
      "metadata": {
        "id": "Nav5H4ZH6pGe",
        "colab": {
          "base_uri": "https://localhost:8080/"
        },
        "outputId": "20a29923-a5be-4c30-ad69-febb8dcb81fc"
      },
      "outputs": [
        {
          "output_type": "stream",
          "name": "stdout",
          "text": [
            "Epoch 1/100\n",
            "210/210 [==============================] - 5s 22ms/step - loss: 2.3199 - accuracy: 0.1035 - val_loss: 2.3055 - val_accuracy: 0.1086\n",
            "Epoch 2/100\n",
            "210/210 [==============================] - 4s 21ms/step - loss: 2.3023 - accuracy: 0.1114 - val_loss: 2.2991 - val_accuracy: 0.1176\n",
            "Epoch 3/100\n",
            "210/210 [==============================] - 5s 22ms/step - loss: 2.2974 - accuracy: 0.1211 - val_loss: 2.2951 - val_accuracy: 0.1232\n",
            "Epoch 4/100\n",
            "210/210 [==============================] - 5s 22ms/step - loss: 2.2935 - accuracy: 0.1280 - val_loss: 2.2914 - val_accuracy: 0.1259\n",
            "Epoch 5/100\n",
            "210/210 [==============================] - 4s 21ms/step - loss: 2.2897 - accuracy: 0.1342 - val_loss: 2.2876 - val_accuracy: 0.1363\n",
            "Epoch 6/100\n",
            "210/210 [==============================] - 4s 21ms/step - loss: 2.2860 - accuracy: 0.1429 - val_loss: 2.2841 - val_accuracy: 0.1411\n",
            "Epoch 7/100\n",
            "210/210 [==============================] - 4s 21ms/step - loss: 2.2822 - accuracy: 0.1478 - val_loss: 2.2804 - val_accuracy: 0.1568\n",
            "Epoch 8/100\n",
            "210/210 [==============================] - 4s 21ms/step - loss: 2.2780 - accuracy: 0.1559 - val_loss: 2.2759 - val_accuracy: 0.1538\n",
            "Epoch 9/100\n",
            "210/210 [==============================] - 4s 21ms/step - loss: 2.2734 - accuracy: 0.1581 - val_loss: 2.2714 - val_accuracy: 0.1563\n",
            "Epoch 10/100\n",
            "210/210 [==============================] - 4s 21ms/step - loss: 2.2692 - accuracy: 0.1635 - val_loss: 2.2674 - val_accuracy: 0.1668\n",
            "Epoch 11/100\n",
            "210/210 [==============================] - 4s 21ms/step - loss: 2.2652 - accuracy: 0.1691 - val_loss: 2.2634 - val_accuracy: 0.1727\n",
            "Epoch 12/100\n",
            "210/210 [==============================] - 4s 21ms/step - loss: 2.2613 - accuracy: 0.1751 - val_loss: 2.2596 - val_accuracy: 0.1742\n",
            "Epoch 13/100\n",
            "210/210 [==============================] - 4s 21ms/step - loss: 2.2572 - accuracy: 0.1801 - val_loss: 2.2558 - val_accuracy: 0.1881\n",
            "Epoch 14/100\n",
            "210/210 [==============================] - 5s 21ms/step - loss: 2.2533 - accuracy: 0.1845 - val_loss: 2.2515 - val_accuracy: 0.1866\n",
            "Epoch 15/100\n",
            "210/210 [==============================] - 5s 21ms/step - loss: 2.2492 - accuracy: 0.1908 - val_loss: 2.2474 - val_accuracy: 0.1940\n",
            "Epoch 16/100\n",
            "210/210 [==============================] - 5s 22ms/step - loss: 2.2448 - accuracy: 0.1961 - val_loss: 2.2430 - val_accuracy: 0.1952\n",
            "Epoch 17/100\n",
            "210/210 [==============================] - 5s 23ms/step - loss: 2.2404 - accuracy: 0.2002 - val_loss: 2.2383 - val_accuracy: 0.2053\n",
            "Epoch 18/100\n",
            "210/210 [==============================] - 5s 22ms/step - loss: 2.2356 - accuracy: 0.2075 - val_loss: 2.2335 - val_accuracy: 0.2139\n",
            "Epoch 19/100\n",
            "210/210 [==============================] - 4s 21ms/step - loss: 2.2306 - accuracy: 0.2123 - val_loss: 2.2284 - val_accuracy: 0.2125\n",
            "Epoch 20/100\n",
            "210/210 [==============================] - 4s 21ms/step - loss: 2.2252 - accuracy: 0.2172 - val_loss: 2.2230 - val_accuracy: 0.2256\n",
            "Epoch 21/100\n",
            "210/210 [==============================] - 5s 23ms/step - loss: 2.2198 - accuracy: 0.2250 - val_loss: 2.2173 - val_accuracy: 0.2182\n",
            "Epoch 22/100\n",
            "210/210 [==============================] - 5s 22ms/step - loss: 2.2137 - accuracy: 0.2287 - val_loss: 2.2107 - val_accuracy: 0.2336\n",
            "Epoch 23/100\n",
            "210/210 [==============================] - 5s 22ms/step - loss: 2.2071 - accuracy: 0.2345 - val_loss: 2.2046 - val_accuracy: 0.2458\n",
            "Epoch 24/100\n",
            "210/210 [==============================] - 5s 23ms/step - loss: 2.2003 - accuracy: 0.2414 - val_loss: 2.1969 - val_accuracy: 0.2497\n",
            "Epoch 25/100\n",
            "210/210 [==============================] - 5s 22ms/step - loss: 2.1931 - accuracy: 0.2480 - val_loss: 2.1898 - val_accuracy: 0.2515\n",
            "Epoch 26/100\n",
            "210/210 [==============================] - 5s 23ms/step - loss: 2.1855 - accuracy: 0.2540 - val_loss: 2.1821 - val_accuracy: 0.2581\n",
            "Epoch 27/100\n",
            "210/210 [==============================] - 5s 22ms/step - loss: 2.1774 - accuracy: 0.2605 - val_loss: 2.1732 - val_accuracy: 0.2690\n",
            "Epoch 28/100\n",
            "210/210 [==============================] - 5s 22ms/step - loss: 2.1685 - accuracy: 0.2680 - val_loss: 2.1643 - val_accuracy: 0.2674\n",
            "Epoch 29/100\n",
            "210/210 [==============================] - 5s 23ms/step - loss: 2.1586 - accuracy: 0.2748 - val_loss: 2.1535 - val_accuracy: 0.2763\n",
            "Epoch 30/100\n",
            "210/210 [==============================] - 5s 22ms/step - loss: 2.1480 - accuracy: 0.2801 - val_loss: 2.1436 - val_accuracy: 0.2794\n",
            "Epoch 31/100\n",
            "210/210 [==============================] - 5s 22ms/step - loss: 2.1373 - accuracy: 0.2853 - val_loss: 2.1322 - val_accuracy: 0.2872\n",
            "Epoch 32/100\n",
            "210/210 [==============================] - 5s 24ms/step - loss: 2.1261 - accuracy: 0.2930 - val_loss: 2.1207 - val_accuracy: 0.2980\n",
            "Epoch 33/100\n",
            "210/210 [==============================] - 5s 25ms/step - loss: 2.1146 - accuracy: 0.3027 - val_loss: 2.1087 - val_accuracy: 0.3094\n",
            "Epoch 34/100\n",
            "210/210 [==============================] - 5s 24ms/step - loss: 2.1023 - accuracy: 0.3103 - val_loss: 2.0967 - val_accuracy: 0.3109\n",
            "Epoch 35/100\n",
            "210/210 [==============================] - 5s 25ms/step - loss: 2.0898 - accuracy: 0.3168 - val_loss: 2.0837 - val_accuracy: 0.3226\n",
            "Epoch 36/100\n",
            "210/210 [==============================] - 5s 25ms/step - loss: 2.0765 - accuracy: 0.3251 - val_loss: 2.0703 - val_accuracy: 0.3287\n",
            "Epoch 37/100\n",
            "210/210 [==============================] - 5s 25ms/step - loss: 2.0626 - accuracy: 0.3326 - val_loss: 2.0581 - val_accuracy: 0.3444\n",
            "Epoch 38/100\n",
            "210/210 [==============================] - 5s 25ms/step - loss: 2.0480 - accuracy: 0.3422 - val_loss: 2.0413 - val_accuracy: 0.3393\n",
            "Epoch 39/100\n",
            "210/210 [==============================] - 5s 25ms/step - loss: 2.0326 - accuracy: 0.3488 - val_loss: 2.0252 - val_accuracy: 0.3547\n",
            "Epoch 40/100\n",
            "210/210 [==============================] - 5s 25ms/step - loss: 2.0162 - accuracy: 0.3582 - val_loss: 2.0076 - val_accuracy: 0.3600\n",
            "Epoch 41/100\n",
            "210/210 [==============================] - 5s 26ms/step - loss: 1.9985 - accuracy: 0.3673 - val_loss: 1.9897 - val_accuracy: 0.3725\n",
            "Epoch 42/100\n",
            "210/210 [==============================] - 5s 26ms/step - loss: 1.9796 - accuracy: 0.3786 - val_loss: 1.9701 - val_accuracy: 0.3838\n",
            "Epoch 43/100\n",
            "210/210 [==============================] - 5s 25ms/step - loss: 1.9602 - accuracy: 0.3874 - val_loss: 1.9497 - val_accuracy: 0.3953\n",
            "Epoch 44/100\n",
            "210/210 [==============================] - 5s 25ms/step - loss: 1.9399 - accuracy: 0.3994 - val_loss: 1.9299 - val_accuracy: 0.4046\n",
            "Epoch 45/100\n",
            "210/210 [==============================] - 5s 25ms/step - loss: 1.9185 - accuracy: 0.4060 - val_loss: 1.9085 - val_accuracy: 0.4152\n",
            "Epoch 46/100\n",
            "210/210 [==============================] - 5s 25ms/step - loss: 1.8967 - accuracy: 0.4153 - val_loss: 1.8858 - val_accuracy: 0.4248\n",
            "Epoch 47/100\n",
            "210/210 [==============================] - 5s 26ms/step - loss: 1.8738 - accuracy: 0.4227 - val_loss: 1.8625 - val_accuracy: 0.4260\n",
            "Epoch 48/100\n",
            "210/210 [==============================] - 5s 25ms/step - loss: 1.8509 - accuracy: 0.4305 - val_loss: 1.8384 - val_accuracy: 0.4355\n",
            "Epoch 49/100\n",
            "210/210 [==============================] - 5s 25ms/step - loss: 1.8275 - accuracy: 0.4377 - val_loss: 1.8154 - val_accuracy: 0.4389\n",
            "Epoch 50/100\n",
            "210/210 [==============================] - 5s 26ms/step - loss: 1.8038 - accuracy: 0.4429 - val_loss: 1.7919 - val_accuracy: 0.4523\n",
            "Epoch 51/100\n",
            "210/210 [==============================] - 5s 26ms/step - loss: 1.7806 - accuracy: 0.4497 - val_loss: 1.7678 - val_accuracy: 0.4529\n",
            "Epoch 52/100\n",
            "210/210 [==============================] - 5s 26ms/step - loss: 1.7572 - accuracy: 0.4542 - val_loss: 1.7454 - val_accuracy: 0.4614\n",
            "Epoch 53/100\n",
            "210/210 [==============================] - 6s 26ms/step - loss: 1.7346 - accuracy: 0.4600 - val_loss: 1.7223 - val_accuracy: 0.4620\n",
            "Epoch 54/100\n",
            "210/210 [==============================] - 6s 26ms/step - loss: 1.7121 - accuracy: 0.4650 - val_loss: 1.7018 - val_accuracy: 0.4658\n",
            "Epoch 55/100\n",
            "210/210 [==============================] - 5s 26ms/step - loss: 1.6906 - accuracy: 0.4685 - val_loss: 1.6803 - val_accuracy: 0.4711\n",
            "Epoch 56/100\n",
            "210/210 [==============================] - 5s 26ms/step - loss: 1.6699 - accuracy: 0.4726 - val_loss: 1.6577 - val_accuracy: 0.4789\n",
            "Epoch 57/100\n",
            "210/210 [==============================] - 5s 26ms/step - loss: 1.6496 - accuracy: 0.4767 - val_loss: 1.6420 - val_accuracy: 0.4772\n",
            "Epoch 58/100\n",
            "210/210 [==============================] - 5s 26ms/step - loss: 1.6306 - accuracy: 0.4809 - val_loss: 1.6193 - val_accuracy: 0.4885\n",
            "Epoch 59/100\n",
            "210/210 [==============================] - 5s 26ms/step - loss: 1.6125 - accuracy: 0.4868 - val_loss: 1.6024 - val_accuracy: 0.4891\n",
            "Epoch 60/100\n",
            "210/210 [==============================] - 5s 25ms/step - loss: 1.5951 - accuracy: 0.4906 - val_loss: 1.5847 - val_accuracy: 0.4942\n",
            "Epoch 61/100\n",
            "210/210 [==============================] - 5s 26ms/step - loss: 1.5781 - accuracy: 0.4956 - val_loss: 1.5721 - val_accuracy: 0.4990\n",
            "Epoch 62/100\n",
            "210/210 [==============================] - 5s 26ms/step - loss: 1.5626 - accuracy: 0.5005 - val_loss: 1.5566 - val_accuracy: 0.4973\n",
            "Epoch 63/100\n",
            "210/210 [==============================] - 5s 26ms/step - loss: 1.5474 - accuracy: 0.5050 - val_loss: 1.5387 - val_accuracy: 0.5092\n",
            "Epoch 64/100\n",
            "210/210 [==============================] - 5s 25ms/step - loss: 1.5336 - accuracy: 0.5096 - val_loss: 1.5247 - val_accuracy: 0.5111\n",
            "Epoch 65/100\n",
            "210/210 [==============================] - 5s 26ms/step - loss: 1.5197 - accuracy: 0.5124 - val_loss: 1.5118 - val_accuracy: 0.5158\n",
            "Epoch 66/100\n",
            "210/210 [==============================] - 5s 26ms/step - loss: 1.5066 - accuracy: 0.5176 - val_loss: 1.5055 - val_accuracy: 0.5161\n",
            "Epoch 67/100\n",
            "210/210 [==============================] - 6s 26ms/step - loss: 1.4944 - accuracy: 0.5210 - val_loss: 1.4896 - val_accuracy: 0.5266\n",
            "Epoch 68/100\n",
            "210/210 [==============================] - 5s 26ms/step - loss: 1.4828 - accuracy: 0.5243 - val_loss: 1.4765 - val_accuracy: 0.5272\n",
            "Epoch 69/100\n",
            "210/210 [==============================] - 5s 26ms/step - loss: 1.4712 - accuracy: 0.5279 - val_loss: 1.4664 - val_accuracy: 0.5312\n",
            "Epoch 70/100\n",
            "210/210 [==============================] - 5s 26ms/step - loss: 1.4601 - accuracy: 0.5330 - val_loss: 1.4557 - val_accuracy: 0.5352\n",
            "Epoch 71/100\n",
            "210/210 [==============================] - 5s 26ms/step - loss: 1.4507 - accuracy: 0.5349 - val_loss: 1.4421 - val_accuracy: 0.5391\n",
            "Epoch 72/100\n",
            "210/210 [==============================] - 6s 27ms/step - loss: 1.4410 - accuracy: 0.5385 - val_loss: 1.4348 - val_accuracy: 0.5422\n",
            "Epoch 73/100\n",
            "210/210 [==============================] - 5s 26ms/step - loss: 1.4315 - accuracy: 0.5432 - val_loss: 1.4259 - val_accuracy: 0.5456\n",
            "Epoch 74/100\n",
            "210/210 [==============================] - 6s 26ms/step - loss: 1.4221 - accuracy: 0.5467 - val_loss: 1.4206 - val_accuracy: 0.5490\n",
            "Epoch 75/100\n",
            "210/210 [==============================] - 6s 26ms/step - loss: 1.4137 - accuracy: 0.5498 - val_loss: 1.4084 - val_accuracy: 0.5547\n",
            "Epoch 76/100\n",
            "210/210 [==============================] - 5s 26ms/step - loss: 1.4049 - accuracy: 0.5539 - val_loss: 1.3995 - val_accuracy: 0.5544\n",
            "Epoch 77/100\n",
            "210/210 [==============================] - 6s 26ms/step - loss: 1.3966 - accuracy: 0.5577 - val_loss: 1.3938 - val_accuracy: 0.5569\n",
            "Epoch 78/100\n",
            "210/210 [==============================] - 5s 26ms/step - loss: 1.3881 - accuracy: 0.5600 - val_loss: 1.3824 - val_accuracy: 0.5643\n",
            "Epoch 79/100\n",
            "210/210 [==============================] - 5s 26ms/step - loss: 1.3802 - accuracy: 0.5637 - val_loss: 1.3768 - val_accuracy: 0.5652\n",
            "Epoch 80/100\n",
            "210/210 [==============================] - 6s 27ms/step - loss: 1.3727 - accuracy: 0.5674 - val_loss: 1.3707 - val_accuracy: 0.5695\n",
            "Epoch 81/100\n",
            "210/210 [==============================] - 6s 27ms/step - loss: 1.3648 - accuracy: 0.5700 - val_loss: 1.3598 - val_accuracy: 0.5742\n",
            "Epoch 82/100\n",
            "210/210 [==============================] - 5s 26ms/step - loss: 1.3572 - accuracy: 0.5729 - val_loss: 1.3531 - val_accuracy: 0.5759\n",
            "Epoch 83/100\n",
            "210/210 [==============================] - 5s 26ms/step - loss: 1.3501 - accuracy: 0.5759 - val_loss: 1.3445 - val_accuracy: 0.5793\n",
            "Epoch 84/100\n",
            "210/210 [==============================] - 5s 26ms/step - loss: 1.3433 - accuracy: 0.5779 - val_loss: 1.3371 - val_accuracy: 0.5839\n",
            "Epoch 85/100\n",
            "210/210 [==============================] - 5s 26ms/step - loss: 1.3360 - accuracy: 0.5798 - val_loss: 1.3335 - val_accuracy: 0.5820\n",
            "Epoch 86/100\n",
            "210/210 [==============================] - 5s 26ms/step - loss: 1.3290 - accuracy: 0.5833 - val_loss: 1.3293 - val_accuracy: 0.5876\n",
            "Epoch 87/100\n",
            "210/210 [==============================] - 5s 26ms/step - loss: 1.3231 - accuracy: 0.5869 - val_loss: 1.3157 - val_accuracy: 0.5903\n",
            "Epoch 88/100\n",
            "210/210 [==============================] - 5s 26ms/step - loss: 1.3164 - accuracy: 0.5888 - val_loss: 1.3108 - val_accuracy: 0.5911\n",
            "Epoch 89/100\n",
            "210/210 [==============================] - 5s 26ms/step - loss: 1.3094 - accuracy: 0.5904 - val_loss: 1.3123 - val_accuracy: 0.5927\n",
            "Epoch 90/100\n",
            "210/210 [==============================] - 5s 26ms/step - loss: 1.3030 - accuracy: 0.5951 - val_loss: 1.3066 - val_accuracy: 0.5949\n",
            "Epoch 91/100\n",
            "210/210 [==============================] - 6s 26ms/step - loss: 1.2967 - accuracy: 0.5980 - val_loss: 1.2919 - val_accuracy: 0.5979\n",
            "Epoch 92/100\n",
            "210/210 [==============================] - 5s 26ms/step - loss: 1.2907 - accuracy: 0.5997 - val_loss: 1.2903 - val_accuracy: 0.5989\n",
            "Epoch 93/100\n",
            "210/210 [==============================] - 5s 26ms/step - loss: 1.2842 - accuracy: 0.6012 - val_loss: 1.2889 - val_accuracy: 0.5995\n",
            "Epoch 94/100\n",
            "210/210 [==============================] - 5s 26ms/step - loss: 1.2788 - accuracy: 0.6046 - val_loss: 1.2746 - val_accuracy: 0.6071\n",
            "Epoch 95/100\n",
            "210/210 [==============================] - 5s 26ms/step - loss: 1.2733 - accuracy: 0.6064 - val_loss: 1.2658 - val_accuracy: 0.6106\n",
            "Epoch 96/100\n",
            "210/210 [==============================] - 5s 26ms/step - loss: 1.2667 - accuracy: 0.6103 - val_loss: 1.2633 - val_accuracy: 0.6109\n",
            "Epoch 97/100\n",
            "210/210 [==============================] - 5s 26ms/step - loss: 1.2611 - accuracy: 0.6111 - val_loss: 1.2592 - val_accuracy: 0.6148\n",
            "Epoch 98/100\n",
            "210/210 [==============================] - 5s 26ms/step - loss: 1.2555 - accuracy: 0.6136 - val_loss: 1.2510 - val_accuracy: 0.6170\n",
            "Epoch 99/100\n",
            "210/210 [==============================] - 6s 26ms/step - loss: 1.2501 - accuracy: 0.6152 - val_loss: 1.2474 - val_accuracy: 0.6150\n",
            "Epoch 100/100\n",
            "210/210 [==============================] - 6s 27ms/step - loss: 1.2445 - accuracy: 0.6187 - val_loss: 1.2477 - val_accuracy: 0.6143\n"
          ]
        }
      ],
      "source": [
        "# Fitting the ANN to the Training data\n",
        "history_sgd_bp = keras_model_2.fit(X_train, y_train, validation_data=(X_val, y_val), batch_size = 200, epochs = 100, verbose = 1)"
      ]
    },
    {
      "cell_type": "code",
      "execution_count": 50,
      "metadata": {
        "id": "A3nBJfIp9azi",
        "colab": {
          "base_uri": "https://localhost:8080/"
        },
        "outputId": "e9ac2945-f957-4205-d83d-4b815c1c6736"
      },
      "outputs": [
        {
          "output_type": "stream",
          "name": "stdout",
          "text": [
            "1875/1875 [==============================] - 9s 5ms/step - loss: 1.2477 - accuracy: 0.6143\n",
            "Validation accuracy using SGD :  0.6142833232879639\n"
          ]
        }
      ],
      "source": [
        "results_2 = keras_model_2.evaluate(X_val, y_val)\n",
        "print('Validation accuracy using SGD : ', results_2[1])"
      ]
    },
    {
      "cell_type": "code",
      "execution_count": 51,
      "metadata": {
        "id": "kDgMnGeL9awS",
        "colab": {
          "base_uri": "https://localhost:8080/",
          "height": 143
        },
        "outputId": "0ee60c83-7d6d-4594-f7a9-beaeab5fa2e8"
      },
      "outputs": [
        {
          "output_type": "execute_result",
          "data": {
            "text/html": [
              "\n",
              "  <div id=\"df-10c58b3a-24c2-4706-92f5-f8cb6499c772\">\n",
              "    <div class=\"colab-df-container\">\n",
              "      <div>\n",
              "<style scoped>\n",
              "    .dataframe tbody tr th:only-of-type {\n",
              "        vertical-align: middle;\n",
              "    }\n",
              "\n",
              "    .dataframe tbody tr th {\n",
              "        vertical-align: top;\n",
              "    }\n",
              "\n",
              "    .dataframe thead th {\n",
              "        text-align: right;\n",
              "    }\n",
              "</style>\n",
              "<table border=\"1\" class=\"dataframe\">\n",
              "  <thead>\n",
              "    <tr style=\"text-align: right;\">\n",
              "      <th></th>\n",
              "      <th>Method</th>\n",
              "      <th>Accuracy</th>\n",
              "    </tr>\n",
              "  </thead>\n",
              "  <tbody>\n",
              "    <tr>\n",
              "      <th>1</th>\n",
              "      <td>Basic NN (SGD)</td>\n",
              "      <td>86.36</td>\n",
              "    </tr>\n",
              "    <tr>\n",
              "      <th>2</th>\n",
              "      <td>Basic NN (Adam)</td>\n",
              "      <td>92.60</td>\n",
              "    </tr>\n",
              "    <tr>\n",
              "      <th>3</th>\n",
              "      <td>NN_SGD</td>\n",
              "      <td>61.43</td>\n",
              "    </tr>\n",
              "  </tbody>\n",
              "</table>\n",
              "</div>\n",
              "      <button class=\"colab-df-convert\" onclick=\"convertToInteractive('df-10c58b3a-24c2-4706-92f5-f8cb6499c772')\"\n",
              "              title=\"Convert this dataframe to an interactive table.\"\n",
              "              style=\"display:none;\">\n",
              "        \n",
              "  <svg xmlns=\"http://www.w3.org/2000/svg\" height=\"24px\"viewBox=\"0 0 24 24\"\n",
              "       width=\"24px\">\n",
              "    <path d=\"M0 0h24v24H0V0z\" fill=\"none\"/>\n",
              "    <path d=\"M18.56 5.44l.94 2.06.94-2.06 2.06-.94-2.06-.94-.94-2.06-.94 2.06-2.06.94zm-11 1L8.5 8.5l.94-2.06 2.06-.94-2.06-.94L8.5 2.5l-.94 2.06-2.06.94zm10 10l.94 2.06.94-2.06 2.06-.94-2.06-.94-.94-2.06-.94 2.06-2.06.94z\"/><path d=\"M17.41 7.96l-1.37-1.37c-.4-.4-.92-.59-1.43-.59-.52 0-1.04.2-1.43.59L10.3 9.45l-7.72 7.72c-.78.78-.78 2.05 0 2.83L4 21.41c.39.39.9.59 1.41.59.51 0 1.02-.2 1.41-.59l7.78-7.78 2.81-2.81c.8-.78.8-2.07 0-2.86zM5.41 20L4 18.59l7.72-7.72 1.47 1.35L5.41 20z\"/>\n",
              "  </svg>\n",
              "      </button>\n",
              "      \n",
              "  <style>\n",
              "    .colab-df-container {\n",
              "      display:flex;\n",
              "      flex-wrap:wrap;\n",
              "      gap: 12px;\n",
              "    }\n",
              "\n",
              "    .colab-df-convert {\n",
              "      background-color: #E8F0FE;\n",
              "      border: none;\n",
              "      border-radius: 50%;\n",
              "      cursor: pointer;\n",
              "      display: none;\n",
              "      fill: #1967D2;\n",
              "      height: 32px;\n",
              "      padding: 0 0 0 0;\n",
              "      width: 32px;\n",
              "    }\n",
              "\n",
              "    .colab-df-convert:hover {\n",
              "      background-color: #E2EBFA;\n",
              "      box-shadow: 0px 1px 2px rgba(60, 64, 67, 0.3), 0px 1px 3px 1px rgba(60, 64, 67, 0.15);\n",
              "      fill: #174EA6;\n",
              "    }\n",
              "\n",
              "    [theme=dark] .colab-df-convert {\n",
              "      background-color: #3B4455;\n",
              "      fill: #D2E3FC;\n",
              "    }\n",
              "\n",
              "    [theme=dark] .colab-df-convert:hover {\n",
              "      background-color: #434B5C;\n",
              "      box-shadow: 0px 1px 3px 1px rgba(0, 0, 0, 0.15);\n",
              "      filter: drop-shadow(0px 1px 2px rgba(0, 0, 0, 0.3));\n",
              "      fill: #FFFFFF;\n",
              "    }\n",
              "  </style>\n",
              "\n",
              "      <script>\n",
              "        const buttonEl =\n",
              "          document.querySelector('#df-10c58b3a-24c2-4706-92f5-f8cb6499c772 button.colab-df-convert');\n",
              "        buttonEl.style.display =\n",
              "          google.colab.kernel.accessAllowed ? 'block' : 'none';\n",
              "\n",
              "        async function convertToInteractive(key) {\n",
              "          const element = document.querySelector('#df-10c58b3a-24c2-4706-92f5-f8cb6499c772');\n",
              "          const dataTable =\n",
              "            await google.colab.kernel.invokeFunction('convertToInteractive',\n",
              "                                                     [key], {});\n",
              "          if (!dataTable) return;\n",
              "\n",
              "          const docLinkHtml = 'Like what you see? Visit the ' +\n",
              "            '<a target=\"_blank\" href=https://colab.research.google.com/notebooks/data_table.ipynb>data table notebook</a>'\n",
              "            + ' to learn more about interactive tables.';\n",
              "          element.innerHTML = '';\n",
              "          dataTable['output_type'] = 'display_data';\n",
              "          await google.colab.output.renderOutput(dataTable, element);\n",
              "          const docLink = document.createElement('div');\n",
              "          docLink.innerHTML = docLinkHtml;\n",
              "          element.appendChild(docLink);\n",
              "        }\n",
              "      </script>\n",
              "    </div>\n",
              "  </div>\n",
              "  "
            ],
            "text/plain": [
              "            Method  Accuracy\n",
              "1   Basic NN (SGD)     86.36\n",
              "2  Basic NN (Adam)     92.60\n",
              "3           NN_SGD     61.43"
            ]
          },
          "metadata": {},
          "execution_count": 51
        }
      ],
      "source": [
        "#Store the accuracy results for each model in a dataframe for final comparison\n",
        "tempResultsDf = pd.DataFrame({'Method':['NN_SGD'], 'Accuracy': round((results_2[1] * 100), 2)}, index={'3'})\n",
        "results_on_val= pd.concat([results_on_val, tempResultsDf])\n",
        "results_on_val = results_on_val[['Method', 'Accuracy']]\n",
        "results_on_val"
      ]
    },
    {
      "cell_type": "code",
      "execution_count": 52,
      "metadata": {
        "id": "jr706qky9at4"
      },
      "outputs": [],
      "source": [
        "##Implementing batch normalization, dropout for training the neural network\n",
        "#Initialize the Artificial Neural Network Classifier\n",
        "keras_model_3 = Sequential()"
      ]
    },
    {
      "cell_type": "code",
      "execution_count": 53,
      "metadata": {
        "id": "G_9Ab1nu9arr"
      },
      "outputs": [],
      "source": [
        "#Adding Batch normalization layer\n",
        "# Input Layer\n",
        "#Adding Input layer and activation functions ReLU\n",
        "keras_model_3.add(Dense(512, kernel_initializer = 'he_normal', input_shape = (1024, )))\n",
        "#Adding BatchNormalization Layer\n",
        "keras_model_3.add(BatchNormalization())\n",
        "#Adding Activation function\n",
        "keras_model_3.add(Activation('relu'))\n",
        "# Adding dropout layer\n",
        "keras_model_3.add(Dropout(0.2))\n",
        "\n",
        "#Hidden Layer 1\n",
        "#Adding first Hidden layer of 256 nodes\n",
        "keras_model_3.add(Dense(256, kernel_initializer = 'he_normal'))\n",
        "#Adding BatchNormalization Layer\n",
        "keras_model_3.add(BatchNormalization())\n",
        "#Adding Activation function\n",
        "keras_model_3.add(Activation('relu'))\n",
        "# Adding dropout layer\n",
        "keras_model_3.add(Dropout(0.2))\n",
        "\n",
        "#Hidden Layer 2\n",
        "#Adding second Hidden layer of 128 nodes\n",
        "keras_model_3.add(Dense(128, kernel_initializer = 'he_normal'))\n",
        "#Adding BatchNormalization Layer\n",
        "keras_model_3.add(BatchNormalization())\n",
        "#Adding Activation function\n",
        "keras_model_3.add(Activation('relu'))\n",
        "keras_model_3.add(Dropout(0.2))\n",
        "\n",
        "\n",
        "#Hidden Layer 3\n",
        "#Adding third Hidden layer of 64 nodes\n",
        "keras_model_3.add(Dense(64, kernel_initializer = 'he_normal'))\n",
        "#Adding BatchNormalization Layer\n",
        "keras_model_3.add(BatchNormalization())\n",
        "#Adding Activation function\n",
        "keras_model_3.add(Activation('relu'))\n",
        "keras_model_3.add(Dropout(0.2))\n",
        "\n",
        "\n",
        "#Hidden Layer 4\n",
        "#Adding fourth Hidden layer of 32 nodes\n",
        "keras_model_3.add(Dense(32, kernel_initializer = 'he_normal'))\n",
        "#Adding BatchNormalization Layer\n",
        "keras_model_3.add(BatchNormalization())\n",
        "#Adding Activation function\n",
        "keras_model_3.add(Activation('relu'))\n",
        "keras_model_3.add(Dropout(0.2))\n",
        "\n",
        "\n",
        "# Output Layer\n",
        "#Adding output layer which is of 10 nodes (digits)\n",
        "keras_model_3.add(Dense(10))\n",
        "#Adding Activation function\n",
        "# Here, we are using softmax function because we have multiclass classsification\n",
        "keras_model_3.add(Activation('softmax'))\n"
      ]
    },
    {
      "cell_type": "code",
      "execution_count": 54,
      "metadata": {
        "id": "niQcLlzY9apV",
        "colab": {
          "base_uri": "https://localhost:8080/"
        },
        "outputId": "a4185432-71af-4ebb-d433-12597d9db408"
      },
      "outputs": [
        {
          "output_type": "stream",
          "name": "stdout",
          "text": [
            "Model: \"sequential_2\"\n",
            "_________________________________________________________________\n",
            " Layer (type)                Output Shape              Param #   \n",
            "=================================================================\n",
            " dense_12 (Dense)            (None, 512)               524800    \n",
            "                                                                 \n",
            " batch_normalization (BatchN  (None, 512)              2048      \n",
            " ormalization)                                                   \n",
            "                                                                 \n",
            " activation_12 (Activation)  (None, 512)               0         \n",
            "                                                                 \n",
            " dropout (Dropout)           (None, 512)               0         \n",
            "                                                                 \n",
            " dense_13 (Dense)            (None, 256)               131328    \n",
            "                                                                 \n",
            " batch_normalization_1 (Batc  (None, 256)              1024      \n",
            " hNormalization)                                                 \n",
            "                                                                 \n",
            " activation_13 (Activation)  (None, 256)               0         \n",
            "                                                                 \n",
            " dropout_1 (Dropout)         (None, 256)               0         \n",
            "                                                                 \n",
            " dense_14 (Dense)            (None, 128)               32896     \n",
            "                                                                 \n",
            " batch_normalization_2 (Batc  (None, 128)              512       \n",
            " hNormalization)                                                 \n",
            "                                                                 \n",
            " activation_14 (Activation)  (None, 128)               0         \n",
            "                                                                 \n",
            " dropout_2 (Dropout)         (None, 128)               0         \n",
            "                                                                 \n",
            " dense_15 (Dense)            (None, 64)                8256      \n",
            "                                                                 \n",
            " batch_normalization_3 (Batc  (None, 64)               256       \n",
            " hNormalization)                                                 \n",
            "                                                                 \n",
            " activation_15 (Activation)  (None, 64)                0         \n",
            "                                                                 \n",
            " dropout_3 (Dropout)         (None, 64)                0         \n",
            "                                                                 \n",
            " dense_16 (Dense)            (None, 32)                2080      \n",
            "                                                                 \n",
            " batch_normalization_4 (Batc  (None, 32)               128       \n",
            " hNormalization)                                                 \n",
            "                                                                 \n",
            " activation_16 (Activation)  (None, 32)                0         \n",
            "                                                                 \n",
            " dropout_4 (Dropout)         (None, 32)                0         \n",
            "                                                                 \n",
            " dense_17 (Dense)            (None, 10)                330       \n",
            "                                                                 \n",
            " activation_17 (Activation)  (None, 10)                0         \n",
            "                                                                 \n",
            "=================================================================\n",
            "Total params: 703,658\n",
            "Trainable params: 701,674\n",
            "Non-trainable params: 1,984\n",
            "_________________________________________________________________\n"
          ]
        }
      ],
      "source": [
        "keras_model_3.summary()"
      ]
    },
    {
      "cell_type": "code",
      "execution_count": 55,
      "metadata": {
        "id": "IT7eDjMT9akS",
        "colab": {
          "base_uri": "https://localhost:8080/"
        },
        "outputId": "83037fd4-7c1e-42b6-ce6d-5dc57f930835"
      },
      "outputs": [
        {
          "output_type": "stream",
          "name": "stderr",
          "text": [
            "/usr/local/lib/python3.7/dist-packages/keras/optimizer_v2/adam.py:105: UserWarning: The `lr` argument is deprecated, use `learning_rate` instead.\n",
            "  super(Adam, self).__init__(name, **kwargs)\n"
          ]
        }
      ],
      "source": [
        "#Setting the learning rate and decay in adam\n",
        "adam = Adam(lr = 0.0001)\n",
        "# compiling the ANN classifier\n",
        "keras_model_3.compile(optimizer = adam, loss = 'categorical_crossentropy', metrics = ['accuracy'])"
      ]
    },
    {
      "cell_type": "code",
      "execution_count": 56,
      "metadata": {
        "id": "MbKZjpMP9aiE",
        "colab": {
          "base_uri": "https://localhost:8080/"
        },
        "outputId": "4a6a5c02-7f7d-4ed4-cfa0-2672e1a38ddd"
      },
      "outputs": [
        {
          "output_type": "stream",
          "name": "stdout",
          "text": [
            "Epoch 1/100\n",
            "210/210 [==============================] - 8s 31ms/step - loss: 2.5313 - accuracy: 0.1119 - val_loss: 2.2724 - val_accuracy: 0.1502\n",
            "Epoch 2/100\n",
            "210/210 [==============================] - 6s 30ms/step - loss: 2.3246 - accuracy: 0.1559 - val_loss: 2.1219 - val_accuracy: 0.2727\n",
            "Epoch 3/100\n",
            "210/210 [==============================] - 6s 30ms/step - loss: 2.1392 - accuracy: 0.2306 - val_loss: 1.9024 - val_accuracy: 0.3978\n",
            "Epoch 4/100\n",
            "210/210 [==============================] - 6s 31ms/step - loss: 1.9547 - accuracy: 0.3142 - val_loss: 1.7415 - val_accuracy: 0.4662\n",
            "Epoch 5/100\n",
            "210/210 [==============================] - 6s 30ms/step - loss: 1.8067 - accuracy: 0.3818 - val_loss: 1.5794 - val_accuracy: 0.5391\n",
            "Epoch 6/100\n",
            "210/210 [==============================] - 6s 30ms/step - loss: 1.6728 - accuracy: 0.4402 - val_loss: 1.5006 - val_accuracy: 0.5701\n",
            "Epoch 7/100\n",
            "210/210 [==============================] - 6s 30ms/step - loss: 1.5600 - accuracy: 0.4899 - val_loss: 1.3893 - val_accuracy: 0.5992\n",
            "Epoch 8/100\n",
            "210/210 [==============================] - 6s 31ms/step - loss: 1.4594 - accuracy: 0.5287 - val_loss: 1.2080 - val_accuracy: 0.6683\n",
            "Epoch 9/100\n",
            "210/210 [==============================] - 6s 29ms/step - loss: 1.3688 - accuracy: 0.5655 - val_loss: 1.1520 - val_accuracy: 0.6842\n",
            "Epoch 10/100\n",
            "210/210 [==============================] - 6s 29ms/step - loss: 1.2937 - accuracy: 0.5946 - val_loss: 1.0975 - val_accuracy: 0.6932\n",
            "Epoch 11/100\n",
            "210/210 [==============================] - 6s 30ms/step - loss: 1.2284 - accuracy: 0.6145 - val_loss: 1.1045 - val_accuracy: 0.6600\n",
            "Epoch 12/100\n",
            "210/210 [==============================] - 6s 30ms/step - loss: 1.1658 - accuracy: 0.6362 - val_loss: 1.0586 - val_accuracy: 0.6795\n",
            "Epoch 13/100\n",
            "210/210 [==============================] - 6s 30ms/step - loss: 1.1153 - accuracy: 0.6545 - val_loss: 0.9770 - val_accuracy: 0.7121\n",
            "Epoch 14/100\n",
            "210/210 [==============================] - 6s 30ms/step - loss: 1.0688 - accuracy: 0.6723 - val_loss: 0.9423 - val_accuracy: 0.7130\n",
            "Epoch 15/100\n",
            "210/210 [==============================] - 6s 30ms/step - loss: 1.0318 - accuracy: 0.6820 - val_loss: 0.8669 - val_accuracy: 0.7448\n",
            "Epoch 16/100\n",
            "210/210 [==============================] - 7s 32ms/step - loss: 0.9955 - accuracy: 0.6957 - val_loss: 0.8110 - val_accuracy: 0.7512\n",
            "Epoch 17/100\n",
            "210/210 [==============================] - 6s 30ms/step - loss: 0.9550 - accuracy: 0.7093 - val_loss: 0.7986 - val_accuracy: 0.7600\n",
            "Epoch 18/100\n",
            "210/210 [==============================] - 6s 29ms/step - loss: 0.9240 - accuracy: 0.7185 - val_loss: 0.7537 - val_accuracy: 0.7727\n",
            "Epoch 19/100\n",
            "210/210 [==============================] - 6s 31ms/step - loss: 0.8950 - accuracy: 0.7276 - val_loss: 0.7694 - val_accuracy: 0.7702\n",
            "Epoch 20/100\n",
            "210/210 [==============================] - 6s 31ms/step - loss: 0.8745 - accuracy: 0.7347 - val_loss: 0.7542 - val_accuracy: 0.7677\n",
            "Epoch 21/100\n",
            "210/210 [==============================] - 6s 31ms/step - loss: 0.8528 - accuracy: 0.7423 - val_loss: 0.6648 - val_accuracy: 0.8001\n",
            "Epoch 22/100\n",
            "210/210 [==============================] - 6s 30ms/step - loss: 0.8334 - accuracy: 0.7494 - val_loss: 0.7304 - val_accuracy: 0.7695\n",
            "Epoch 23/100\n",
            "210/210 [==============================] - 7s 31ms/step - loss: 0.8187 - accuracy: 0.7498 - val_loss: 0.7493 - val_accuracy: 0.7599\n",
            "Epoch 24/100\n",
            "210/210 [==============================] - 7s 33ms/step - loss: 0.7951 - accuracy: 0.7600 - val_loss: 0.6498 - val_accuracy: 0.8050\n",
            "Epoch 25/100\n",
            "210/210 [==============================] - 6s 30ms/step - loss: 0.7820 - accuracy: 0.7648 - val_loss: 0.6459 - val_accuracy: 0.8076\n",
            "Epoch 26/100\n",
            "210/210 [==============================] - 6s 31ms/step - loss: 0.7652 - accuracy: 0.7706 - val_loss: 0.6299 - val_accuracy: 0.8074\n",
            "Epoch 27/100\n",
            "210/210 [==============================] - 8s 37ms/step - loss: 0.7527 - accuracy: 0.7718 - val_loss: 0.6352 - val_accuracy: 0.8076\n",
            "Epoch 28/100\n",
            "210/210 [==============================] - 6s 31ms/step - loss: 0.7351 - accuracy: 0.7793 - val_loss: 0.5938 - val_accuracy: 0.8193\n",
            "Epoch 29/100\n",
            "210/210 [==============================] - 7s 35ms/step - loss: 0.7255 - accuracy: 0.7834 - val_loss: 0.6402 - val_accuracy: 0.8040\n",
            "Epoch 30/100\n",
            "210/210 [==============================] - 10s 47ms/step - loss: 0.7135 - accuracy: 0.7859 - val_loss: 0.5895 - val_accuracy: 0.8205\n",
            "Epoch 31/100\n",
            "210/210 [==============================] - 6s 30ms/step - loss: 0.7077 - accuracy: 0.7884 - val_loss: 0.6008 - val_accuracy: 0.8165\n",
            "Epoch 32/100\n",
            "210/210 [==============================] - 6s 30ms/step - loss: 0.6886 - accuracy: 0.7936 - val_loss: 0.6063 - val_accuracy: 0.8112\n",
            "Epoch 33/100\n",
            "210/210 [==============================] - 6s 31ms/step - loss: 0.6818 - accuracy: 0.7956 - val_loss: 0.5998 - val_accuracy: 0.8121\n",
            "Epoch 34/100\n",
            "210/210 [==============================] - 6s 30ms/step - loss: 0.6724 - accuracy: 0.7991 - val_loss: 0.6401 - val_accuracy: 0.7986\n",
            "Epoch 35/100\n",
            "210/210 [==============================] - 6s 31ms/step - loss: 0.6638 - accuracy: 0.8017 - val_loss: 0.6351 - val_accuracy: 0.7971\n",
            "Epoch 36/100\n",
            "210/210 [==============================] - 7s 31ms/step - loss: 0.6593 - accuracy: 0.8041 - val_loss: 0.5744 - val_accuracy: 0.8206\n",
            "Epoch 37/100\n",
            "210/210 [==============================] - 6s 30ms/step - loss: 0.6503 - accuracy: 0.8058 - val_loss: 0.6126 - val_accuracy: 0.8036\n",
            "Epoch 38/100\n",
            "210/210 [==============================] - 6s 29ms/step - loss: 0.6380 - accuracy: 0.8090 - val_loss: 0.5241 - val_accuracy: 0.8397\n",
            "Epoch 39/100\n",
            "210/210 [==============================] - 6s 30ms/step - loss: 0.6337 - accuracy: 0.8116 - val_loss: 0.5059 - val_accuracy: 0.8493\n",
            "Epoch 40/100\n",
            "210/210 [==============================] - 7s 31ms/step - loss: 0.6239 - accuracy: 0.8132 - val_loss: 0.5372 - val_accuracy: 0.8310\n",
            "Epoch 41/100\n",
            "210/210 [==============================] - 6s 29ms/step - loss: 0.6207 - accuracy: 0.8171 - val_loss: 0.5761 - val_accuracy: 0.8204\n",
            "Epoch 42/100\n",
            "210/210 [==============================] - 6s 30ms/step - loss: 0.6111 - accuracy: 0.8195 - val_loss: 0.5928 - val_accuracy: 0.8117\n",
            "Epoch 43/100\n",
            "210/210 [==============================] - 6s 29ms/step - loss: 0.6027 - accuracy: 0.8237 - val_loss: 0.5151 - val_accuracy: 0.8423\n",
            "Epoch 44/100\n",
            "210/210 [==============================] - 6s 30ms/step - loss: 0.6023 - accuracy: 0.8231 - val_loss: 0.5114 - val_accuracy: 0.8444\n",
            "Epoch 45/100\n",
            "210/210 [==============================] - 6s 30ms/step - loss: 0.5967 - accuracy: 0.8228 - val_loss: 0.4599 - val_accuracy: 0.8617\n",
            "Epoch 46/100\n",
            "210/210 [==============================] - 7s 32ms/step - loss: 0.5847 - accuracy: 0.8251 - val_loss: 0.5541 - val_accuracy: 0.8277\n",
            "Epoch 47/100\n",
            "210/210 [==============================] - 7s 31ms/step - loss: 0.5842 - accuracy: 0.8276 - val_loss: 0.4959 - val_accuracy: 0.8499\n",
            "Epoch 48/100\n",
            "210/210 [==============================] - 6s 30ms/step - loss: 0.5770 - accuracy: 0.8296 - val_loss: 0.5816 - val_accuracy: 0.8231\n",
            "Epoch 49/100\n",
            "210/210 [==============================] - 6s 30ms/step - loss: 0.5742 - accuracy: 0.8289 - val_loss: 0.5270 - val_accuracy: 0.8338\n",
            "Epoch 50/100\n",
            "210/210 [==============================] - 6s 30ms/step - loss: 0.5634 - accuracy: 0.8327 - val_loss: 0.5218 - val_accuracy: 0.8418\n",
            "Epoch 51/100\n",
            "210/210 [==============================] - 7s 34ms/step - loss: 0.5566 - accuracy: 0.8342 - val_loss: 0.5588 - val_accuracy: 0.8282\n",
            "Epoch 52/100\n",
            "210/210 [==============================] - 6s 30ms/step - loss: 0.5522 - accuracy: 0.8380 - val_loss: 0.4771 - val_accuracy: 0.8546\n",
            "Epoch 53/100\n",
            "210/210 [==============================] - 6s 30ms/step - loss: 0.5482 - accuracy: 0.8356 - val_loss: 0.4430 - val_accuracy: 0.8669\n",
            "Epoch 54/100\n",
            "210/210 [==============================] - 6s 30ms/step - loss: 0.5518 - accuracy: 0.8369 - val_loss: 0.6043 - val_accuracy: 0.8069\n",
            "Epoch 55/100\n",
            "210/210 [==============================] - 7s 31ms/step - loss: 0.5324 - accuracy: 0.8426 - val_loss: 0.5625 - val_accuracy: 0.8253\n",
            "Epoch 56/100\n",
            "210/210 [==============================] - 6s 31ms/step - loss: 0.5464 - accuracy: 0.8383 - val_loss: 0.4933 - val_accuracy: 0.8475\n",
            "Epoch 57/100\n",
            "210/210 [==============================] - 6s 29ms/step - loss: 0.5336 - accuracy: 0.8440 - val_loss: 0.4207 - val_accuracy: 0.8755\n",
            "Epoch 58/100\n",
            "210/210 [==============================] - 6s 29ms/step - loss: 0.5294 - accuracy: 0.8439 - val_loss: 0.4607 - val_accuracy: 0.8584\n",
            "Epoch 59/100\n",
            "210/210 [==============================] - 6s 29ms/step - loss: 0.5181 - accuracy: 0.8469 - val_loss: 0.5153 - val_accuracy: 0.8382\n",
            "Epoch 60/100\n",
            "210/210 [==============================] - 7s 31ms/step - loss: 0.5216 - accuracy: 0.8454 - val_loss: 0.5070 - val_accuracy: 0.8418\n",
            "Epoch 61/100\n",
            "210/210 [==============================] - 6s 29ms/step - loss: 0.5230 - accuracy: 0.8452 - val_loss: 0.4941 - val_accuracy: 0.8483\n",
            "Epoch 62/100\n",
            "210/210 [==============================] - 6s 30ms/step - loss: 0.5124 - accuracy: 0.8486 - val_loss: 0.5076 - val_accuracy: 0.8442\n",
            "Epoch 63/100\n",
            "210/210 [==============================] - 6s 29ms/step - loss: 0.5121 - accuracy: 0.8502 - val_loss: 0.4122 - val_accuracy: 0.8748\n",
            "Epoch 64/100\n",
            "210/210 [==============================] - 6s 30ms/step - loss: 0.5050 - accuracy: 0.8505 - val_loss: 0.4316 - val_accuracy: 0.8709\n",
            "Epoch 65/100\n",
            "210/210 [==============================] - 6s 30ms/step - loss: 0.5014 - accuracy: 0.8529 - val_loss: 0.4413 - val_accuracy: 0.8632\n",
            "Epoch 66/100\n",
            "210/210 [==============================] - 6s 30ms/step - loss: 0.4991 - accuracy: 0.8525 - val_loss: 0.5328 - val_accuracy: 0.8367\n",
            "Epoch 67/100\n",
            "210/210 [==============================] - 6s 30ms/step - loss: 0.4949 - accuracy: 0.8546 - val_loss: 0.4962 - val_accuracy: 0.8450\n",
            "Epoch 68/100\n",
            "210/210 [==============================] - 6s 30ms/step - loss: 0.4991 - accuracy: 0.8535 - val_loss: 0.4726 - val_accuracy: 0.8528\n",
            "Epoch 69/100\n",
            "210/210 [==============================] - 6s 31ms/step - loss: 0.4909 - accuracy: 0.8549 - val_loss: 0.5306 - val_accuracy: 0.8390\n",
            "Epoch 70/100\n",
            "210/210 [==============================] - 6s 30ms/step - loss: 0.4824 - accuracy: 0.8571 - val_loss: 0.5447 - val_accuracy: 0.8290\n",
            "Epoch 71/100\n",
            "210/210 [==============================] - 6s 30ms/step - loss: 0.4809 - accuracy: 0.8589 - val_loss: 0.5072 - val_accuracy: 0.8406\n",
            "Epoch 72/100\n",
            "210/210 [==============================] - 6s 30ms/step - loss: 0.4716 - accuracy: 0.8605 - val_loss: 0.3986 - val_accuracy: 0.8790\n",
            "Epoch 73/100\n",
            "210/210 [==============================] - 6s 30ms/step - loss: 0.4784 - accuracy: 0.8588 - val_loss: 0.4797 - val_accuracy: 0.8489\n",
            "Epoch 74/100\n",
            "210/210 [==============================] - 6s 31ms/step - loss: 0.4726 - accuracy: 0.8601 - val_loss: 0.4588 - val_accuracy: 0.8556\n",
            "Epoch 75/100\n",
            "210/210 [==============================] - 6s 29ms/step - loss: 0.4708 - accuracy: 0.8593 - val_loss: 0.4368 - val_accuracy: 0.8658\n",
            "Epoch 76/100\n",
            "210/210 [==============================] - 6s 30ms/step - loss: 0.4682 - accuracy: 0.8611 - val_loss: 0.5293 - val_accuracy: 0.8367\n",
            "Epoch 77/100\n",
            "210/210 [==============================] - 6s 30ms/step - loss: 0.4649 - accuracy: 0.8647 - val_loss: 0.5059 - val_accuracy: 0.8455\n",
            "Epoch 78/100\n",
            "210/210 [==============================] - 6s 30ms/step - loss: 0.4654 - accuracy: 0.8638 - val_loss: 0.4907 - val_accuracy: 0.8473\n",
            "Epoch 79/100\n",
            "210/210 [==============================] - 6s 30ms/step - loss: 0.4614 - accuracy: 0.8632 - val_loss: 0.4868 - val_accuracy: 0.8545\n",
            "Epoch 80/100\n",
            "210/210 [==============================] - 6s 30ms/step - loss: 0.4545 - accuracy: 0.8667 - val_loss: 0.4057 - val_accuracy: 0.8767\n",
            "Epoch 81/100\n",
            "210/210 [==============================] - 6s 30ms/step - loss: 0.4515 - accuracy: 0.8675 - val_loss: 0.6348 - val_accuracy: 0.8092\n",
            "Epoch 82/100\n",
            "210/210 [==============================] - 6s 31ms/step - loss: 0.4538 - accuracy: 0.8670 - val_loss: 0.4047 - val_accuracy: 0.8745\n",
            "Epoch 83/100\n",
            "210/210 [==============================] - 6s 29ms/step - loss: 0.4433 - accuracy: 0.8678 - val_loss: 0.4283 - val_accuracy: 0.8696\n",
            "Epoch 84/100\n",
            "210/210 [==============================] - 6s 30ms/step - loss: 0.4485 - accuracy: 0.8672 - val_loss: 0.4475 - val_accuracy: 0.8590\n",
            "Epoch 85/100\n",
            "210/210 [==============================] - 6s 30ms/step - loss: 0.4385 - accuracy: 0.8725 - val_loss: 0.5142 - val_accuracy: 0.8433\n",
            "Epoch 86/100\n",
            "210/210 [==============================] - 6s 30ms/step - loss: 0.4408 - accuracy: 0.8709 - val_loss: 0.5174 - val_accuracy: 0.8397\n",
            "Epoch 87/100\n",
            "210/210 [==============================] - 6s 30ms/step - loss: 0.4348 - accuracy: 0.8730 - val_loss: 0.4227 - val_accuracy: 0.8725\n",
            "Epoch 88/100\n",
            "210/210 [==============================] - 6s 29ms/step - loss: 0.4443 - accuracy: 0.8694 - val_loss: 0.4558 - val_accuracy: 0.8611\n",
            "Epoch 89/100\n",
            "210/210 [==============================] - 6s 30ms/step - loss: 0.4332 - accuracy: 0.8729 - val_loss: 0.4081 - val_accuracy: 0.8749\n",
            "Epoch 90/100\n",
            "210/210 [==============================] - 6s 29ms/step - loss: 0.4380 - accuracy: 0.8709 - val_loss: 0.4055 - val_accuracy: 0.8736\n",
            "Epoch 91/100\n",
            "210/210 [==============================] - 6s 30ms/step - loss: 0.4239 - accuracy: 0.8750 - val_loss: 0.4233 - val_accuracy: 0.8705\n",
            "Epoch 92/100\n",
            "210/210 [==============================] - 6s 29ms/step - loss: 0.4297 - accuracy: 0.8743 - val_loss: 0.3895 - val_accuracy: 0.8834\n",
            "Epoch 93/100\n",
            "210/210 [==============================] - 5s 26ms/step - loss: 0.4243 - accuracy: 0.8766 - val_loss: 0.4235 - val_accuracy: 0.8657\n",
            "Epoch 94/100\n",
            "210/210 [==============================] - 5s 26ms/step - loss: 0.4271 - accuracy: 0.8727 - val_loss: 0.3996 - val_accuracy: 0.8787\n",
            "Epoch 95/100\n",
            "210/210 [==============================] - 6s 26ms/step - loss: 0.4271 - accuracy: 0.8748 - val_loss: 0.3839 - val_accuracy: 0.8836\n",
            "Epoch 96/100\n",
            "210/210 [==============================] - 6s 26ms/step - loss: 0.4219 - accuracy: 0.8772 - val_loss: 0.5557 - val_accuracy: 0.8269\n",
            "Epoch 97/100\n",
            "210/210 [==============================] - 6s 26ms/step - loss: 0.4146 - accuracy: 0.8783 - val_loss: 0.4091 - val_accuracy: 0.8755\n",
            "Epoch 98/100\n",
            "210/210 [==============================] - 5s 26ms/step - loss: 0.4159 - accuracy: 0.8772 - val_loss: 0.3774 - val_accuracy: 0.8859\n",
            "Epoch 99/100\n",
            "210/210 [==============================] - 5s 26ms/step - loss: 0.4188 - accuracy: 0.8776 - val_loss: 0.3896 - val_accuracy: 0.8821\n",
            "Epoch 100/100\n",
            "210/210 [==============================] - 6s 27ms/step - loss: 0.4124 - accuracy: 0.8795 - val_loss: 0.4252 - val_accuracy: 0.8682\n"
          ]
        }
      ],
      "source": [
        "# Fitting the ANN to the Training data\n",
        "history_4 = keras_model_3.fit(X_train, y_train, validation_data = (X_val,y_val), batch_size = 200, epochs = 100, verbose = 1)"
      ]
    },
    {
      "cell_type": "markdown",
      "metadata": {
        "id": "FTgAsRZK-Am3"
      },
      "source": [
        "Comparison of Accuracy Results of each Neural Network model on the Validation Data"
      ]
    },
    {
      "cell_type": "code",
      "execution_count": 57,
      "metadata": {
        "id": "gxpvxWiU9aft",
        "colab": {
          "base_uri": "https://localhost:8080/",
          "height": 174
        },
        "outputId": "5ba1c424-4935-4604-d717-116d092c7532"
      },
      "outputs": [
        {
          "output_type": "execute_result",
          "data": {
            "text/html": [
              "\n",
              "  <div id=\"df-3f1188d9-0774-48a5-960a-f3029f397a95\">\n",
              "    <div class=\"colab-df-container\">\n",
              "      <div>\n",
              "<style scoped>\n",
              "    .dataframe tbody tr th:only-of-type {\n",
              "        vertical-align: middle;\n",
              "    }\n",
              "\n",
              "    .dataframe tbody tr th {\n",
              "        vertical-align: top;\n",
              "    }\n",
              "\n",
              "    .dataframe thead th {\n",
              "        text-align: right;\n",
              "    }\n",
              "</style>\n",
              "<table border=\"1\" class=\"dataframe\">\n",
              "  <thead>\n",
              "    <tr style=\"text-align: right;\">\n",
              "      <th></th>\n",
              "      <th>Method</th>\n",
              "      <th>Accuracy</th>\n",
              "    </tr>\n",
              "  </thead>\n",
              "  <tbody>\n",
              "    <tr>\n",
              "      <th>1</th>\n",
              "      <td>Basic NN (SGD)</td>\n",
              "      <td>86.36</td>\n",
              "    </tr>\n",
              "    <tr>\n",
              "      <th>2</th>\n",
              "      <td>Basic NN (Adam)</td>\n",
              "      <td>92.60</td>\n",
              "    </tr>\n",
              "    <tr>\n",
              "      <th>3</th>\n",
              "      <td>NN_SGD</td>\n",
              "      <td>61.43</td>\n",
              "    </tr>\n",
              "    <tr>\n",
              "      <th>4</th>\n",
              "      <td>NN_BatchNormalization_ADAM</td>\n",
              "      <td>82.81</td>\n",
              "    </tr>\n",
              "  </tbody>\n",
              "</table>\n",
              "</div>\n",
              "      <button class=\"colab-df-convert\" onclick=\"convertToInteractive('df-3f1188d9-0774-48a5-960a-f3029f397a95')\"\n",
              "              title=\"Convert this dataframe to an interactive table.\"\n",
              "              style=\"display:none;\">\n",
              "        \n",
              "  <svg xmlns=\"http://www.w3.org/2000/svg\" height=\"24px\"viewBox=\"0 0 24 24\"\n",
              "       width=\"24px\">\n",
              "    <path d=\"M0 0h24v24H0V0z\" fill=\"none\"/>\n",
              "    <path d=\"M18.56 5.44l.94 2.06.94-2.06 2.06-.94-2.06-.94-.94-2.06-.94 2.06-2.06.94zm-11 1L8.5 8.5l.94-2.06 2.06-.94-2.06-.94L8.5 2.5l-.94 2.06-2.06.94zm10 10l.94 2.06.94-2.06 2.06-.94-2.06-.94-.94-2.06-.94 2.06-2.06.94z\"/><path d=\"M17.41 7.96l-1.37-1.37c-.4-.4-.92-.59-1.43-.59-.52 0-1.04.2-1.43.59L10.3 9.45l-7.72 7.72c-.78.78-.78 2.05 0 2.83L4 21.41c.39.39.9.59 1.41.59.51 0 1.02-.2 1.41-.59l7.78-7.78 2.81-2.81c.8-.78.8-2.07 0-2.86zM5.41 20L4 18.59l7.72-7.72 1.47 1.35L5.41 20z\"/>\n",
              "  </svg>\n",
              "      </button>\n",
              "      \n",
              "  <style>\n",
              "    .colab-df-container {\n",
              "      display:flex;\n",
              "      flex-wrap:wrap;\n",
              "      gap: 12px;\n",
              "    }\n",
              "\n",
              "    .colab-df-convert {\n",
              "      background-color: #E8F0FE;\n",
              "      border: none;\n",
              "      border-radius: 50%;\n",
              "      cursor: pointer;\n",
              "      display: none;\n",
              "      fill: #1967D2;\n",
              "      height: 32px;\n",
              "      padding: 0 0 0 0;\n",
              "      width: 32px;\n",
              "    }\n",
              "\n",
              "    .colab-df-convert:hover {\n",
              "      background-color: #E2EBFA;\n",
              "      box-shadow: 0px 1px 2px rgba(60, 64, 67, 0.3), 0px 1px 3px 1px rgba(60, 64, 67, 0.15);\n",
              "      fill: #174EA6;\n",
              "    }\n",
              "\n",
              "    [theme=dark] .colab-df-convert {\n",
              "      background-color: #3B4455;\n",
              "      fill: #D2E3FC;\n",
              "    }\n",
              "\n",
              "    [theme=dark] .colab-df-convert:hover {\n",
              "      background-color: #434B5C;\n",
              "      box-shadow: 0px 1px 3px 1px rgba(0, 0, 0, 0.15);\n",
              "      filter: drop-shadow(0px 1px 2px rgba(0, 0, 0, 0.3));\n",
              "      fill: #FFFFFF;\n",
              "    }\n",
              "  </style>\n",
              "\n",
              "      <script>\n",
              "        const buttonEl =\n",
              "          document.querySelector('#df-3f1188d9-0774-48a5-960a-f3029f397a95 button.colab-df-convert');\n",
              "        buttonEl.style.display =\n",
              "          google.colab.kernel.accessAllowed ? 'block' : 'none';\n",
              "\n",
              "        async function convertToInteractive(key) {\n",
              "          const element = document.querySelector('#df-3f1188d9-0774-48a5-960a-f3029f397a95');\n",
              "          const dataTable =\n",
              "            await google.colab.kernel.invokeFunction('convertToInteractive',\n",
              "                                                     [key], {});\n",
              "          if (!dataTable) return;\n",
              "\n",
              "          const docLinkHtml = 'Like what you see? Visit the ' +\n",
              "            '<a target=\"_blank\" href=https://colab.research.google.com/notebooks/data_table.ipynb>data table notebook</a>'\n",
              "            + ' to learn more about interactive tables.';\n",
              "          element.innerHTML = '';\n",
              "          dataTable['output_type'] = 'display_data';\n",
              "          await google.colab.output.renderOutput(dataTable, element);\n",
              "          const docLink = document.createElement('div');\n",
              "          docLink.innerHTML = docLinkHtml;\n",
              "          element.appendChild(docLink);\n",
              "        }\n",
              "      </script>\n",
              "    </div>\n",
              "  </div>\n",
              "  "
            ],
            "text/plain": [
              "                       Method  Accuracy\n",
              "1              Basic NN (SGD)     86.36\n",
              "2             Basic NN (Adam)     92.60\n",
              "3                      NN_SGD     61.43\n",
              "4  NN_BatchNormalization_ADAM     82.81"
            ]
          },
          "metadata": {},
          "execution_count": 57
        }
      ],
      "source": [
        "#Store the accuracy results for each model in a dataframe for final comparison\n",
        "tempResultsDf = pd.DataFrame({'Method':['NN_BatchNormalization_ADAM'], 'Accuracy': round((results[1] * 100), 2)}, index={'4'})\n",
        "results_on_val= pd.concat([results_on_val, tempResultsDf])\n",
        "results_on_val = results_on_val[['Method', 'Accuracy']]\n",
        "results_on_val"
      ]
    },
    {
      "cell_type": "markdown",
      "source": [
        "Testing NN on Test Data"
      ],
      "metadata": {
        "id": "1LvtGXmMyZyl"
      }
    },
    {
      "cell_type": "code",
      "source": [
        "history_f = keras_model_3.fit(X_train, y_train, validation_data=(X_test, y_test), batch_size = 200, epochs = 100, verbose = 1)\n"
      ],
      "metadata": {
        "colab": {
          "base_uri": "https://localhost:8080/"
        },
        "id": "WybILbKWxvRu",
        "outputId": "fed3a5e9-0594-4e4c-ab5c-07d80e8f3fbb"
      },
      "execution_count": 58,
      "outputs": [
        {
          "output_type": "stream",
          "name": "stdout",
          "text": [
            "Epoch 1/100\n",
            "210/210 [==============================] - 4s 21ms/step - loss: 0.4082 - accuracy: 0.8815 - val_loss: 0.6245 - val_accuracy: 0.8111\n",
            "Epoch 2/100\n",
            "210/210 [==============================] - 4s 21ms/step - loss: 0.4103 - accuracy: 0.8799 - val_loss: 0.7322 - val_accuracy: 0.7836\n",
            "Epoch 3/100\n",
            "210/210 [==============================] - 4s 21ms/step - loss: 0.4060 - accuracy: 0.8808 - val_loss: 0.5059 - val_accuracy: 0.8462\n",
            "Epoch 4/100\n",
            "210/210 [==============================] - 4s 20ms/step - loss: 0.4052 - accuracy: 0.8795 - val_loss: 0.6561 - val_accuracy: 0.8023\n",
            "Epoch 5/100\n",
            "210/210 [==============================] - 4s 20ms/step - loss: 0.4005 - accuracy: 0.8824 - val_loss: 0.5236 - val_accuracy: 0.8417\n",
            "Epoch 6/100\n",
            "210/210 [==============================] - 4s 20ms/step - loss: 0.3990 - accuracy: 0.8835 - val_loss: 0.5192 - val_accuracy: 0.8426\n",
            "Epoch 7/100\n",
            "210/210 [==============================] - 4s 20ms/step - loss: 0.3984 - accuracy: 0.8835 - val_loss: 0.5007 - val_accuracy: 0.8492\n",
            "Epoch 8/100\n",
            "210/210 [==============================] - 4s 20ms/step - loss: 0.3986 - accuracy: 0.8841 - val_loss: 0.5631 - val_accuracy: 0.8320\n",
            "Epoch 9/100\n",
            "210/210 [==============================] - 4s 21ms/step - loss: 0.3903 - accuracy: 0.8863 - val_loss: 0.5025 - val_accuracy: 0.8461\n",
            "Epoch 10/100\n",
            "210/210 [==============================] - 4s 21ms/step - loss: 0.3866 - accuracy: 0.8868 - val_loss: 0.5506 - val_accuracy: 0.8391\n",
            "Epoch 11/100\n",
            "210/210 [==============================] - 4s 21ms/step - loss: 0.3908 - accuracy: 0.8853 - val_loss: 0.4927 - val_accuracy: 0.8491\n",
            "Epoch 12/100\n",
            "210/210 [==============================] - 4s 21ms/step - loss: 0.3924 - accuracy: 0.8841 - val_loss: 0.7005 - val_accuracy: 0.7888\n",
            "Epoch 13/100\n",
            "210/210 [==============================] - 4s 20ms/step - loss: 0.3885 - accuracy: 0.8865 - val_loss: 0.5286 - val_accuracy: 0.8388\n",
            "Epoch 14/100\n",
            "210/210 [==============================] - 4s 21ms/step - loss: 0.3831 - accuracy: 0.8876 - val_loss: 0.5568 - val_accuracy: 0.8301\n",
            "Epoch 15/100\n",
            "210/210 [==============================] - 5s 22ms/step - loss: 0.3795 - accuracy: 0.8900 - val_loss: 0.6153 - val_accuracy: 0.8157\n",
            "Epoch 16/100\n",
            "210/210 [==============================] - 4s 21ms/step - loss: 0.3847 - accuracy: 0.8882 - val_loss: 0.5745 - val_accuracy: 0.8256\n",
            "Epoch 17/100\n",
            "210/210 [==============================] - 5s 22ms/step - loss: 0.3865 - accuracy: 0.8872 - val_loss: 0.7411 - val_accuracy: 0.7781\n",
            "Epoch 18/100\n",
            "210/210 [==============================] - 5s 21ms/step - loss: 0.3735 - accuracy: 0.8916 - val_loss: 0.5924 - val_accuracy: 0.8171\n",
            "Epoch 19/100\n",
            "210/210 [==============================] - 5s 25ms/step - loss: 0.3764 - accuracy: 0.8887 - val_loss: 0.5603 - val_accuracy: 0.8301\n",
            "Epoch 20/100\n",
            "210/210 [==============================] - 4s 21ms/step - loss: 0.3809 - accuracy: 0.8879 - val_loss: 0.5437 - val_accuracy: 0.8352\n",
            "Epoch 21/100\n",
            "210/210 [==============================] - 4s 21ms/step - loss: 0.3717 - accuracy: 0.8905 - val_loss: 0.5592 - val_accuracy: 0.8277\n",
            "Epoch 22/100\n",
            "210/210 [==============================] - 4s 21ms/step - loss: 0.3711 - accuracy: 0.8897 - val_loss: 0.5464 - val_accuracy: 0.8346\n",
            "Epoch 23/100\n",
            "210/210 [==============================] - 5s 23ms/step - loss: 0.3743 - accuracy: 0.8898 - val_loss: 0.5721 - val_accuracy: 0.8248\n",
            "Epoch 24/100\n",
            "210/210 [==============================] - 5s 24ms/step - loss: 0.3651 - accuracy: 0.8930 - val_loss: 0.5210 - val_accuracy: 0.8417\n",
            "Epoch 25/100\n",
            "210/210 [==============================] - 5s 24ms/step - loss: 0.3657 - accuracy: 0.8941 - val_loss: 0.5096 - val_accuracy: 0.8445\n",
            "Epoch 26/100\n",
            "210/210 [==============================] - 5s 24ms/step - loss: 0.3598 - accuracy: 0.8954 - val_loss: 0.5413 - val_accuracy: 0.8397\n",
            "Epoch 27/100\n",
            "210/210 [==============================] - 5s 24ms/step - loss: 0.3668 - accuracy: 0.8929 - val_loss: 0.6399 - val_accuracy: 0.8093\n",
            "Epoch 28/100\n",
            "210/210 [==============================] - 5s 23ms/step - loss: 0.3640 - accuracy: 0.8949 - val_loss: 0.5388 - val_accuracy: 0.8369\n",
            "Epoch 29/100\n",
            "210/210 [==============================] - 5s 23ms/step - loss: 0.3617 - accuracy: 0.8939 - val_loss: 0.5319 - val_accuracy: 0.8402\n",
            "Epoch 30/100\n",
            "210/210 [==============================] - 5s 23ms/step - loss: 0.3559 - accuracy: 0.8949 - val_loss: 0.5881 - val_accuracy: 0.8259\n",
            "Epoch 31/100\n",
            "210/210 [==============================] - 5s 24ms/step - loss: 0.3572 - accuracy: 0.8950 - val_loss: 0.5616 - val_accuracy: 0.8339\n",
            "Epoch 32/100\n",
            "210/210 [==============================] - 5s 23ms/step - loss: 0.3609 - accuracy: 0.8940 - val_loss: 0.5762 - val_accuracy: 0.8313\n",
            "Epoch 33/100\n",
            "210/210 [==============================] - 5s 23ms/step - loss: 0.3565 - accuracy: 0.8968 - val_loss: 0.5405 - val_accuracy: 0.8343\n",
            "Epoch 34/100\n",
            "210/210 [==============================] - 5s 22ms/step - loss: 0.3542 - accuracy: 0.8971 - val_loss: 0.5914 - val_accuracy: 0.8234\n",
            "Epoch 35/100\n",
            "210/210 [==============================] - 5s 23ms/step - loss: 0.3555 - accuracy: 0.8949 - val_loss: 0.5582 - val_accuracy: 0.8286\n",
            "Epoch 36/100\n",
            "210/210 [==============================] - 5s 23ms/step - loss: 0.3543 - accuracy: 0.8960 - val_loss: 0.4940 - val_accuracy: 0.8498\n",
            "Epoch 37/100\n",
            "210/210 [==============================] - 5s 23ms/step - loss: 0.3472 - accuracy: 0.8992 - val_loss: 0.5481 - val_accuracy: 0.8319\n",
            "Epoch 38/100\n",
            "210/210 [==============================] - 5s 23ms/step - loss: 0.3477 - accuracy: 0.8982 - val_loss: 0.6566 - val_accuracy: 0.8072\n",
            "Epoch 39/100\n",
            "210/210 [==============================] - 5s 23ms/step - loss: 0.3494 - accuracy: 0.8973 - val_loss: 0.6136 - val_accuracy: 0.8173\n",
            "Epoch 40/100\n",
            "210/210 [==============================] - 5s 23ms/step - loss: 0.3411 - accuracy: 0.8992 - val_loss: 0.5233 - val_accuracy: 0.8451\n",
            "Epoch 41/100\n",
            "210/210 [==============================] - 5s 23ms/step - loss: 0.3432 - accuracy: 0.8990 - val_loss: 0.5199 - val_accuracy: 0.8491\n",
            "Epoch 42/100\n",
            "210/210 [==============================] - 5s 23ms/step - loss: 0.3488 - accuracy: 0.8984 - val_loss: 0.5978 - val_accuracy: 0.8206\n",
            "Epoch 43/100\n",
            "210/210 [==============================] - 5s 23ms/step - loss: 0.3419 - accuracy: 0.9002 - val_loss: 0.6064 - val_accuracy: 0.8187\n",
            "Epoch 44/100\n",
            "210/210 [==============================] - 5s 23ms/step - loss: 0.3416 - accuracy: 0.9004 - val_loss: 0.5621 - val_accuracy: 0.8336\n",
            "Epoch 45/100\n",
            "210/210 [==============================] - 5s 25ms/step - loss: 0.3372 - accuracy: 0.9011 - val_loss: 0.4877 - val_accuracy: 0.8552\n",
            "Epoch 46/100\n",
            "210/210 [==============================] - 5s 24ms/step - loss: 0.3421 - accuracy: 0.8990 - val_loss: 0.5406 - val_accuracy: 0.8379\n",
            "Epoch 47/100\n",
            "210/210 [==============================] - 6s 26ms/step - loss: 0.3334 - accuracy: 0.9020 - val_loss: 0.5342 - val_accuracy: 0.8412\n",
            "Epoch 48/100\n",
            "210/210 [==============================] - 4s 21ms/step - loss: 0.3362 - accuracy: 0.9018 - val_loss: 0.6277 - val_accuracy: 0.8182\n",
            "Epoch 49/100\n",
            "210/210 [==============================] - 4s 21ms/step - loss: 0.3358 - accuracy: 0.9020 - val_loss: 0.5850 - val_accuracy: 0.8273\n",
            "Epoch 50/100\n",
            "210/210 [==============================] - 4s 21ms/step - loss: 0.3348 - accuracy: 0.9018 - val_loss: 0.6784 - val_accuracy: 0.7997\n",
            "Epoch 51/100\n",
            "210/210 [==============================] - 4s 21ms/step - loss: 0.3310 - accuracy: 0.9035 - val_loss: 0.5826 - val_accuracy: 0.8234\n",
            "Epoch 52/100\n",
            "210/210 [==============================] - 4s 21ms/step - loss: 0.3319 - accuracy: 0.9030 - val_loss: 0.6536 - val_accuracy: 0.8164\n",
            "Epoch 53/100\n",
            "210/210 [==============================] - 4s 21ms/step - loss: 0.3310 - accuracy: 0.9035 - val_loss: 0.5245 - val_accuracy: 0.8403\n",
            "Epoch 54/100\n",
            "210/210 [==============================] - 4s 21ms/step - loss: 0.3289 - accuracy: 0.9023 - val_loss: 0.5634 - val_accuracy: 0.8300\n",
            "Epoch 55/100\n",
            "210/210 [==============================] - 4s 21ms/step - loss: 0.3262 - accuracy: 0.9041 - val_loss: 0.5701 - val_accuracy: 0.8261\n",
            "Epoch 56/100\n",
            "210/210 [==============================] - 4s 21ms/step - loss: 0.3265 - accuracy: 0.9047 - val_loss: 0.5824 - val_accuracy: 0.8267\n",
            "Epoch 57/100\n",
            "210/210 [==============================] - 4s 21ms/step - loss: 0.3204 - accuracy: 0.9053 - val_loss: 0.6500 - val_accuracy: 0.8102\n",
            "Epoch 58/100\n",
            "210/210 [==============================] - 4s 21ms/step - loss: 0.3229 - accuracy: 0.9047 - val_loss: 0.5627 - val_accuracy: 0.8356\n",
            "Epoch 59/100\n",
            "210/210 [==============================] - 4s 21ms/step - loss: 0.3244 - accuracy: 0.9034 - val_loss: 0.5641 - val_accuracy: 0.8377\n",
            "Epoch 60/100\n",
            "210/210 [==============================] - 4s 21ms/step - loss: 0.3189 - accuracy: 0.9057 - val_loss: 0.5196 - val_accuracy: 0.8453\n",
            "Epoch 61/100\n",
            "210/210 [==============================] - 4s 21ms/step - loss: 0.3189 - accuracy: 0.9052 - val_loss: 0.5916 - val_accuracy: 0.8283\n",
            "Epoch 62/100\n",
            "210/210 [==============================] - 4s 21ms/step - loss: 0.3167 - accuracy: 0.9066 - val_loss: 0.6023 - val_accuracy: 0.8245\n",
            "Epoch 63/100\n",
            "210/210 [==============================] - 4s 21ms/step - loss: 0.3245 - accuracy: 0.9054 - val_loss: 0.5760 - val_accuracy: 0.8319\n",
            "Epoch 64/100\n",
            "210/210 [==============================] - 4s 21ms/step - loss: 0.3166 - accuracy: 0.9065 - val_loss: 0.5877 - val_accuracy: 0.8199\n",
            "Epoch 65/100\n",
            "210/210 [==============================] - 4s 21ms/step - loss: 0.3113 - accuracy: 0.9087 - val_loss: 0.7098 - val_accuracy: 0.7956\n",
            "Epoch 66/100\n",
            "210/210 [==============================] - 4s 21ms/step - loss: 0.3097 - accuracy: 0.9100 - val_loss: 0.5684 - val_accuracy: 0.8279\n",
            "Epoch 67/100\n",
            "210/210 [==============================] - 4s 21ms/step - loss: 0.3124 - accuracy: 0.9080 - val_loss: 0.6739 - val_accuracy: 0.8124\n",
            "Epoch 68/100\n",
            "210/210 [==============================] - 4s 21ms/step - loss: 0.3144 - accuracy: 0.9090 - val_loss: 0.5485 - val_accuracy: 0.8384\n",
            "Epoch 69/100\n",
            "210/210 [==============================] - 4s 21ms/step - loss: 0.3112 - accuracy: 0.9085 - val_loss: 0.4932 - val_accuracy: 0.8552\n",
            "Epoch 70/100\n",
            "210/210 [==============================] - 4s 21ms/step - loss: 0.3142 - accuracy: 0.9084 - val_loss: 0.5621 - val_accuracy: 0.8349\n",
            "Epoch 71/100\n",
            "210/210 [==============================] - 4s 21ms/step - loss: 0.3100 - accuracy: 0.9094 - val_loss: 0.5418 - val_accuracy: 0.8363\n",
            "Epoch 72/100\n",
            "210/210 [==============================] - 4s 21ms/step - loss: 0.3138 - accuracy: 0.9085 - val_loss: 0.5134 - val_accuracy: 0.8489\n",
            "Epoch 73/100\n",
            "210/210 [==============================] - 4s 21ms/step - loss: 0.3152 - accuracy: 0.9063 - val_loss: 0.6311 - val_accuracy: 0.8178\n",
            "Epoch 74/100\n",
            "210/210 [==============================] - 4s 21ms/step - loss: 0.3110 - accuracy: 0.9086 - val_loss: 0.5625 - val_accuracy: 0.8356\n",
            "Epoch 75/100\n",
            "210/210 [==============================] - 4s 21ms/step - loss: 0.3018 - accuracy: 0.9127 - val_loss: 0.5624 - val_accuracy: 0.8342\n",
            "Epoch 76/100\n",
            "210/210 [==============================] - 4s 21ms/step - loss: 0.2986 - accuracy: 0.9115 - val_loss: 0.6097 - val_accuracy: 0.8218\n",
            "Epoch 77/100\n",
            "210/210 [==============================] - 5s 22ms/step - loss: 0.3120 - accuracy: 0.9073 - val_loss: 0.6289 - val_accuracy: 0.8174\n",
            "Epoch 78/100\n",
            "210/210 [==============================] - 5s 22ms/step - loss: 0.3006 - accuracy: 0.9106 - val_loss: 0.5421 - val_accuracy: 0.8441\n",
            "Epoch 79/100\n",
            "210/210 [==============================] - 5s 22ms/step - loss: 0.3028 - accuracy: 0.9113 - val_loss: 0.5781 - val_accuracy: 0.8331\n",
            "Epoch 80/100\n",
            "210/210 [==============================] - 5s 22ms/step - loss: 0.3018 - accuracy: 0.9111 - val_loss: 0.6163 - val_accuracy: 0.8253\n",
            "Epoch 81/100\n",
            "210/210 [==============================] - 5s 22ms/step - loss: 0.3061 - accuracy: 0.9116 - val_loss: 0.5986 - val_accuracy: 0.8273\n",
            "Epoch 82/100\n",
            "210/210 [==============================] - 5s 22ms/step - loss: 0.3028 - accuracy: 0.9104 - val_loss: 0.5822 - val_accuracy: 0.8288\n",
            "Epoch 83/100\n",
            "210/210 [==============================] - 5s 22ms/step - loss: 0.2999 - accuracy: 0.9119 - val_loss: 0.5078 - val_accuracy: 0.8493\n",
            "Epoch 84/100\n",
            "210/210 [==============================] - 5s 22ms/step - loss: 0.3017 - accuracy: 0.9103 - val_loss: 0.6755 - val_accuracy: 0.8078\n",
            "Epoch 85/100\n",
            "210/210 [==============================] - 5s 22ms/step - loss: 0.3003 - accuracy: 0.9107 - val_loss: 0.6576 - val_accuracy: 0.8100\n",
            "Epoch 86/100\n",
            "210/210 [==============================] - 5s 21ms/step - loss: 0.2930 - accuracy: 0.9143 - val_loss: 0.5931 - val_accuracy: 0.8237\n",
            "Epoch 87/100\n",
            "210/210 [==============================] - 5s 22ms/step - loss: 0.3000 - accuracy: 0.9125 - val_loss: 0.7033 - val_accuracy: 0.8068\n",
            "Epoch 88/100\n",
            "210/210 [==============================] - 4s 21ms/step - loss: 0.2936 - accuracy: 0.9135 - val_loss: 0.7648 - val_accuracy: 0.7797\n",
            "Epoch 89/100\n",
            "210/210 [==============================] - 5s 22ms/step - loss: 0.2916 - accuracy: 0.9135 - val_loss: 0.6021 - val_accuracy: 0.8223\n",
            "Epoch 90/100\n",
            "210/210 [==============================] - 5s 22ms/step - loss: 0.2926 - accuracy: 0.9140 - val_loss: 0.5223 - val_accuracy: 0.8468\n",
            "Epoch 91/100\n",
            "210/210 [==============================] - 5s 22ms/step - loss: 0.2913 - accuracy: 0.9133 - val_loss: 0.5756 - val_accuracy: 0.8336\n",
            "Epoch 92/100\n",
            "210/210 [==============================] - 5s 22ms/step - loss: 0.2947 - accuracy: 0.9113 - val_loss: 0.5164 - val_accuracy: 0.8503\n",
            "Epoch 93/100\n",
            "210/210 [==============================] - 5s 22ms/step - loss: 0.2901 - accuracy: 0.9150 - val_loss: 0.6451 - val_accuracy: 0.8220\n",
            "Epoch 94/100\n",
            "210/210 [==============================] - 5s 22ms/step - loss: 0.2851 - accuracy: 0.9165 - val_loss: 0.6758 - val_accuracy: 0.8061\n",
            "Epoch 95/100\n",
            "210/210 [==============================] - 5s 22ms/step - loss: 0.2931 - accuracy: 0.9137 - val_loss: 0.5137 - val_accuracy: 0.8494\n",
            "Epoch 96/100\n",
            "210/210 [==============================] - 5s 22ms/step - loss: 0.2836 - accuracy: 0.9162 - val_loss: 0.6176 - val_accuracy: 0.8303\n",
            "Epoch 97/100\n",
            "210/210 [==============================] - 5s 22ms/step - loss: 0.2865 - accuracy: 0.9163 - val_loss: 0.5270 - val_accuracy: 0.8482\n",
            "Epoch 98/100\n",
            "210/210 [==============================] - 5s 22ms/step - loss: 0.2877 - accuracy: 0.9143 - val_loss: 0.7127 - val_accuracy: 0.8065\n",
            "Epoch 99/100\n",
            "210/210 [==============================] - 5s 22ms/step - loss: 0.2913 - accuracy: 0.9143 - val_loss: 0.5010 - val_accuracy: 0.8498\n",
            "Epoch 100/100\n",
            "210/210 [==============================] - 5s 22ms/step - loss: 0.2825 - accuracy: 0.9170 - val_loss: 0.8668 - val_accuracy: 0.7671\n"
          ]
        }
      ]
    },
    {
      "cell_type": "code",
      "source": [
        "results_f = keras_model_3.evaluate(X_test, y_test)\n",
        "print('Test accuracy using Batch Normalization (ADAM) : ', results_f[1])"
      ],
      "metadata": {
        "colab": {
          "base_uri": "https://localhost:8080/"
        },
        "id": "2Sqjyr9NxvOO",
        "outputId": "ce3e4104-6e9e-481c-eba3-dcecb32d5697"
      },
      "execution_count": 59,
      "outputs": [
        {
          "output_type": "stream",
          "name": "stdout",
          "text": [
            "563/563 [==============================] - 3s 4ms/step - loss: 0.8668 - accuracy: 0.7671\n",
            "Test accuracy using Batch Normalization (ADAM) :  0.7670555710792542\n"
          ]
        }
      ]
    },
    {
      "cell_type": "markdown",
      "source": [
        "Predicting the digits using Neural Network classifier on test data"
      ],
      "metadata": {
        "id": "kSmpya8Wymin"
      }
    },
    {
      "cell_type": "code",
      "source": [
        "#Showing the image\n",
        "plt.imshow(X_test[5].reshape(32,32), cmap = 'gray')"
      ],
      "metadata": {
        "colab": {
          "base_uri": "https://localhost:8080/",
          "height": 279
        },
        "id": "ETwZz0drxvMC",
        "outputId": "d4072064-5735-49a1-ef02-7a818d49e479"
      },
      "execution_count": 60,
      "outputs": [
        {
          "output_type": "execute_result",
          "data": {
            "text/plain": [
              "<matplotlib.image.AxesImage at 0x7fe94da99650>"
            ]
          },
          "metadata": {},
          "execution_count": 60
        },
        {
          "output_type": "display_data",
          "data": {
            "image/png": "[encoded data removed]",
            "text/plain": [
              "<Figure size 432x288 with 1 Axes>"
            ]
          },
          "metadata": {
            "needs_background": "light"
          }
        }
      ]
    },
    {
      "cell_type": "code",
      "source": [
        "#Predicting the digits\n",
        "print('Label: ', np.argmax(keras_model_3.predict(X_test)[5]))\n",
        "\n",
        "#y_predict = np.argmax(model.predict(x_test), axis=-1)"
      ],
      "metadata": {
        "colab": {
          "base_uri": "https://localhost:8080/"
        },
        "id": "R6UktuVvxvJy",
        "outputId": "3dc39d6f-b169-47d3-b68b-6d2b07bc8b4c"
      },
      "execution_count": 61,
      "outputs": [
        {
          "output_type": "stream",
          "name": "stdout",
          "text": [
            "Label:  9\n"
          ]
        }
      ]
    },
    {
      "cell_type": "code",
      "execution_count": 62,
      "metadata": {
        "id": "HV_CvMJD9adH",
        "colab": {
          "base_uri": "https://localhost:8080/",
          "height": 279
        },
        "outputId": "89b578e4-b6da-4650-a617-956f609fe94b"
      },
      "outputs": [
        {
          "output_type": "execute_result",
          "data": {
            "text/plain": [
              "<matplotlib.image.AxesImage at 0x7fe94d9c2f10>"
            ]
          },
          "metadata": {},
          "execution_count": 62
        },
        {
          "output_type": "display_data",
          "data": {
            "image/png": "[encoded data removed]",
            "text/plain": [
              "<Figure size 432x288 with 1 Axes>"
            ]
          },
          "metadata": {
            "needs_background": "light"
          }
        }
      ],
      "source": [
        "#Showing the image\n",
        "plt.imshow(X_test[17].reshape(32,32), cmap = 'gray')"
      ]
    },
    {
      "cell_type": "code",
      "execution_count": 63,
      "metadata": {
        "id": "NQcOjf9r9ab5",
        "colab": {
          "base_uri": "https://localhost:8080/"
        },
        "outputId": "a9eb3ae7-e1ea-48d3-9c08-f6993a6b86a1"
      },
      "outputs": [
        {
          "output_type": "stream",
          "name": "stdout",
          "text": [
            "Label:  6\n"
          ]
        }
      ],
      "source": [
        "#Predicting the digits\n",
        "print('Label: ', np.argmax(keras_model_3.predict(X_test)[17]))"
      ]
    },
    {
      "cell_type": "code",
      "source": [
        "#Predicting for all images\n",
        "y_pred = np.argmax(keras_model_3.predict(X_test), axis=-1)\n",
        "print(y_pred)"
      ],
      "metadata": {
        "colab": {
          "base_uri": "https://localhost:8080/"
        },
        "id": "4aIWVw0hnQX8",
        "outputId": "b6a7678e-71b0-41df-ae55-e4cc9b7e518b"
      },
      "execution_count": 76,
      "outputs": [
        {
          "output_type": "stream",
          "name": "stdout",
          "text": [
            "[6 7 2 ... 7 5 2]\n"
          ]
        }
      ]
    },
    {
      "cell_type": "code",
      "source": [
        "#visualising the first 10 images of the test data and printing their labels\n",
        "plt.figure(figsize = (10, 1))\n",
        "for i in range(10):\n",
        "    plt.subplot(1, 10, i + 1)\n",
        "    plt.imshow(X_test[i].reshape(32,32), cmap = 'gray')\n",
        "    plt.axis('off')\n",
        "plt.show()\n",
        "print('Labels for each of the above image: %s' %(y_pred[0:10]))"
      ],
      "metadata": {
        "colab": {
          "base_uri": "https://localhost:8080/",
          "height": 102
        },
        "id": "TrBXxs9Ly3U9",
        "outputId": "1dd5f797-9b48-4b4d-e96e-6846c5a654b1"
      },
      "execution_count": 77,
      "outputs": [
        {
          "output_type": "display_data",
          "data": {
            "image/png": "[encoded data removed]",
            "text/plain": [
              "<Figure size 720x72 with 10 Axes>"
            ]
          },
          "metadata": {
            "needs_background": "light"
          }
        },
        {
          "output_type": "stream",
          "name": "stdout",
          "text": [
            "Labels for each of the above image: [6 7 2 9 0 9 3 5 6 4]\n"
          ]
        }
      ]
    },
    {
      "cell_type": "markdown",
      "source": [
        "# **Summary Classificatin report, model_accuracy & model_loss**"
      ],
      "metadata": {
        "id": "cACwbcxspMFc"
      }
    },
    {
      "cell_type": "markdown",
      "source": [
        "In the above code we saw that the Neural Network was unable to predict. The accuracy of the above Neural Network is 77% which is considerably higher than what was achieved using KNN which had an accuracy of 52.33%."
      ],
      "metadata": {
        "id": "ZWzIVE_xpuJA"
      }
    },
    {
      "cell_type": "code",
      "source": [
        "print('Testing the model on test dataset')\n",
        "predictions = keras_model_3.predict(X_test)\n",
        "predictions = np.argmax(predictions, axis=1)\n",
        "score = keras_model_3.evaluate(X_test, y_test)\n",
        "# label\n",
        "y_test = np.argmax(y_test, axis=1)\n",
        "print('Test loss :', score[0])\n",
        "print('Test accuracy :', score[1])"
      ],
      "metadata": {
        "colab": {
          "base_uri": "https://localhost:8080/"
        },
        "id": "yQHF0mjG9pxv",
        "outputId": "f12d65f6-b987-4c25-e820-ef64e213609f"
      },
      "execution_count": 78,
      "outputs": [
        {
          "output_type": "stream",
          "name": "stdout",
          "text": [
            "Testing the model on test dataset\n",
            "563/563 [==============================] - 2s 4ms/step - loss: 0.8668 - accuracy: 0.7671\n",
            "Test loss : 0.8668394684791565\n",
            "Test accuracy : 0.7670555710792542\n"
          ]
        }
      ]
    },
    {
      "cell_type": "markdown",
      "source": [
        "In the above code we saw that the Neural Network was unable to predict. \n",
        "\n",
        "The accuracy of the above Neural Network is 77% which is considerably higher than what was achieved using KNN which had an accuracy of 52.33%."
      ],
      "metadata": {
        "id": "jb5YqwhkqH9Q"
      }
    },
    {
      "cell_type": "code",
      "source": [
        "print(classification_report(y_test, predictions))"
      ],
      "metadata": {
        "colab": {
          "base_uri": "https://localhost:8080/"
        },
        "id": "PuS3NO2Jy3P3",
        "outputId": "34a201f7-b5d3-4fc8-c8d5-e4c54bba060a"
      },
      "execution_count": 79,
      "outputs": [
        {
          "output_type": "stream",
          "name": "stdout",
          "text": [
            "              precision    recall  f1-score   support\n",
            "\n",
            "           0       0.98      0.60      0.74      1814\n",
            "           1       0.94      0.67      0.78      1828\n",
            "           2       0.97      0.74      0.84      1803\n",
            "           3       0.68      0.81      0.74      1719\n",
            "           4       0.94      0.78      0.85      1812\n",
            "           5       0.52      0.93      0.67      1768\n",
            "           6       0.62      0.86      0.72      1832\n",
            "           7       0.80      0.91      0.85      1808\n",
            "           8       0.80      0.76      0.78      1812\n",
            "           9       0.96      0.62      0.75      1804\n",
            "\n",
            "    accuracy                           0.77     18000\n",
            "   macro avg       0.82      0.77      0.77     18000\n",
            "weighted avg       0.82      0.77      0.77     18000\n",
            "\n"
          ]
        }
      ]
    },
    {
      "cell_type": "code",
      "source": [
        "# summarize history for accuracy\n",
        "plt.plot(history_4.history['accuracy'])\n",
        "plt.plot(history_4.history['val_accuracy'])\n",
        "plt.title('model accuracy')\n",
        "plt.ylabel('accuracy')\n",
        "plt.xlabel('epoch')\n",
        "plt.legend(['train', 'test'], loc='upper left')\n",
        "plt.show()\n"
      ],
      "metadata": {
        "colab": {
          "base_uri": "https://localhost:8080/",
          "height": 296
        },
        "id": "RKCRvuwNAQMS",
        "outputId": "bfa14920-9bc7-478d-d289-ed3de06281e5"
      },
      "execution_count": 80,
      "outputs": [
        {
          "output_type": "display_data",
          "data": {
            "image/png": "[encoded data removed]",
            "text/plain": [
              "<Figure size 432x288 with 1 Axes>"
            ]
          },
          "metadata": {
            "needs_background": "light"
          }
        }
      ]
    },
    {
      "cell_type": "code",
      "source": [
        "# summarize history for loss\n",
        "plt.plot(history_4.history['loss'])\n",
        "plt.plot(history_4.history['val_loss'])\n",
        "plt.title('model loss')\n",
        "plt.ylabel('loss')\n",
        "plt.xlabel('epoch')\n",
        "plt.legend(['train', 'test'], loc='upper left')\n",
        "plt.show()"
      ],
      "metadata": {
        "colab": {
          "base_uri": "https://localhost:8080/",
          "height": 296
        },
        "id": "wYGTgSlLAQKZ",
        "outputId": "3430509b-7d5c-4789-fe85-4f5bca1de275"
      },
      "execution_count": 81,
      "outputs": [
        {
          "output_type": "display_data",
          "data": {
            "image/png": "[encoded data removed]",
            "text/plain": [
              "<Figure size 432x288 with 1 Axes>"
            ]
          },
          "metadata": {
            "needs_background": "light"
          }
        }
      ]
    },
    {
      "cell_type": "markdown",
      "source": [
        "# **Differences and trade-offs between traditional KNN and NN classifiers with the help of classification metrics**\n",
        "\n",
        "*   \n",
        "KNN requires more time to find the nearest neigbhors when compared to the time to train the model. However, Neural Network takes more time to train the model.\n",
        "\n",
        "*   In KNN, we have only one hyperparameter neighbor (k) while in Neural Network we have so many hyperparameters (Hidden Layers, Hidden Units, Learning Rate, Number of Epochs, Activation Functions, Optimizers, dropout).\n",
        "\n",
        "\n",
        "\n",
        "\n",
        "*   \n",
        "Once a Neural Network is trained, the training data is no longer needed to produce new predictions. This is obviously not the case with KNN.\n",
        "*   \n",
        "Once a Neural Network is trained on one task, its parameters can be used as a good initializer for another (similar) task. This is a form of transfer learning that cannot be achieved with KNN.\n",
        "\n",
        "\n",
        "\n",
        "\n",
        "*   KNN classification metrics shows that the accuracy is 52.33%.\n",
        "*   \n",
        "Using Neural Network with BatchNormalization, dropout using ADAM as optimizer we got 91% train & 77% test accuracy. We have predicted the classification of the images correctly\n",
        "\n",
        "```NOTE```: Model can be tuned more  \n",
        "\n",
        "\n",
        "\n",
        "\n",
        "\n",
        "\n"
      ],
      "metadata": {
        "id": "oxxnpMZ4q2Tg"
      }
    },
    {
      "cell_type": "code",
      "source": [
        ""
      ],
      "metadata": {
        "id": "BxdnnpW_y3Gp"
      },
      "execution_count": null,
      "outputs": []
    },
    {
      "cell_type": "code",
      "execution_count": null,
      "metadata": {
        "id": "BdIPWEL29aYJ"
      },
      "outputs": [],
      "source": [
        ""
      ]
    }
  ],
  "metadata": {
    "colab": {
      "name": "AUTO_VEHICLES.ipynb",
      "provenance": [],
      "collapsed_sections": []
    },
    "kernelspec": {
      "display_name": "Python 3",
      "name": "python3"
    },
    "language_info": {
      "name": "python"
    }
  },
  "nbformat": 4,
  "nbformat_minor": 0
}